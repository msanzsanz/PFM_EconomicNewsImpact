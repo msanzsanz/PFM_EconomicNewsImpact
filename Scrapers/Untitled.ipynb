{
 "cells": [
  {
   "cell_type": "code",
   "execution_count": 84,
   "metadata": {},
   "outputs": [],
   "source": [
    "from selenium import webdriver \n",
    "from selenium.webdriver.common.by import By\n",
    "import pandas as pd\n",
    " \n",
    "driver = webdriver.Firefox()\n",
    "driver.get(\"https://www.dailyfx.com/calendar\")\n",
    "\n"
   ]
  },
  {
   "cell_type": "code",
   "execution_count": 85,
   "metadata": {},
   "outputs": [],
   "source": [
    "id_of_week = 'daily-cal'\n",
    "week_days = [id_of_week + str(i) for i in range(6)]"
   ]
  },
  {
   "cell_type": "code",
   "execution_count": 86,
   "metadata": {},
   "outputs": [
    {
     "data": {
      "text/plain": [
       "['daily-cal0',\n",
       " 'daily-cal1',\n",
       " 'daily-cal2',\n",
       " 'daily-cal3',\n",
       " 'daily-cal4',\n",
       " 'daily-cal5']"
      ]
     },
     "execution_count": 86,
     "metadata": {},
     "output_type": "execute_result"
    }
   ],
   "source": [
    "week_days"
   ]
  },
  {
   "cell_type": "code",
   "execution_count": 103,
   "metadata": {},
   "outputs": [
    {
     "data": {
      "text/plain": [
       "3"
      ]
     },
     "execution_count": 103,
     "metadata": {},
     "output_type": "execute_result"
    }
   ],
   "source": []
  },
  {
   "cell_type": "code",
   "execution_count": 105,
   "metadata": {},
   "outputs": [
    {
     "name": "stdout",
     "output_type": "stream",
     "text": [
      "End of week:  Friday, October 5, 2018\n"
     ]
    }
   ],
   "source": [
    "d = []\n",
    "chunk = 0\n",
    "\n",
    "try:\n",
    "    \n",
    "    for day in week_days:\n",
    "\n",
    "        day_rows = driver.find_element_by_id(day)\n",
    "        news = day_rows.find_elements(By.TAG_NAME, 'tr')\n",
    "        date = news[0].text\n",
    "\n",
    "        for new in news[1:]:\n",
    "\n",
    "            fields = new.find_elements(By.TAG_NAME, 'td')\n",
    "\n",
    "            if len(fields) > 8:\n",
    "                time = fields[0].text\n",
    "                new = fields[3].text\n",
    "                country = new.split()[0]\n",
    "                impact = fields[4].text\n",
    "                actual = fields[5].text\n",
    "                forecast = fields[6].text\n",
    "                previous = fields[7].text\n",
    "\n",
    "                #print(\"time: \" + time + \", new: \" + new + \", impact:\" + impact +\", actual:\" + actual +\", forecast:\" + forecast + \", previous\" + previous)\n",
    "                #print(\"---\")\n",
    "                d.append({'date': date, 'time': time, 'new': new, 'country': country, 'impact': impact, 'actual': actual, 'forecast': forecast, 'previous': previous})\n",
    "\n",
    "\n",
    "    print('End of week: ', date )\n",
    "\n",
    "    buttons = driver.find_element_by_class_name('grid-prev')\n",
    "    buttons.click()\n",
    "    \n",
    "    if (len(d) > 500000):\n",
    "        calendar_df = pd.DataFrame(d)\n",
    "        calendar_df.to_csv('dailyfx' + chunk + '.csv')\n",
    "        chunk += 1\n",
    "        d = []\n",
    "        del(calendar_df)\n",
    "        \n",
    "    \n",
    "except ValueError:   \n",
    "    \n",
    "    print('End of the history or some error')\n",
    "    calendar_df = pd.DataFrame(d)\n",
    "    calendar_df.to_csv('dailyfx' + chunk + '.csv')\n",
    "    \n",
    "\n"
   ]
  },
  {
   "cell_type": "code",
   "execution_count": 98,
   "metadata": {},
   "outputs": [
    {
     "data": {
      "text/html": [
       "<div>\n",
       "<style scoped>\n",
       "    .dataframe tbody tr th:only-of-type {\n",
       "        vertical-align: middle;\n",
       "    }\n",
       "\n",
       "    .dataframe tbody tr th {\n",
       "        vertical-align: top;\n",
       "    }\n",
       "\n",
       "    .dataframe thead th {\n",
       "        text-align: right;\n",
       "    }\n",
       "</style>\n",
       "<table border=\"1\" class=\"dataframe\">\n",
       "  <thead>\n",
       "    <tr style=\"text-align: right;\">\n",
       "      <th></th>\n",
       "      <th>actual</th>\n",
       "      <th>country</th>\n",
       "      <th>date</th>\n",
       "      <th>forecast</th>\n",
       "      <th>impact</th>\n",
       "      <th>new</th>\n",
       "      <th>previous</th>\n",
       "      <th>time</th>\n",
       "    </tr>\n",
       "  </thead>\n",
       "  <tbody>\n",
       "    <tr>\n",
       "      <th>0</th>\n",
       "      <td>54.9</td>\n",
       "      <td>CNY</td>\n",
       "      <td>Sunday, September 30, 2018</td>\n",
       "      <td>54.0</td>\n",
       "      <td>Medium</td>\n",
       "      <td>CNY Non-manufacturing PMI (SEP)</td>\n",
       "      <td>54.2</td>\n",
       "      <td>01:00</td>\n",
       "    </tr>\n",
       "    <tr>\n",
       "      <th>1</th>\n",
       "      <td>50.8</td>\n",
       "      <td>CNY</td>\n",
       "      <td>Sunday, September 30, 2018</td>\n",
       "      <td>51.2</td>\n",
       "      <td>High</td>\n",
       "      <td>CNY Manufacturing PMI (SEP)</td>\n",
       "      <td>51.3</td>\n",
       "      <td>01:00</td>\n",
       "    </tr>\n",
       "    <tr>\n",
       "      <th>2</th>\n",
       "      <td>54.1</td>\n",
       "      <td>CNY</td>\n",
       "      <td>Sunday, September 30, 2018</td>\n",
       "      <td></td>\n",
       "      <td>Medium</td>\n",
       "      <td>CNY Composite PMI (SEP)</td>\n",
       "      <td>53.8</td>\n",
       "      <td>01:00</td>\n",
       "    </tr>\n",
       "    <tr>\n",
       "      <th>3</th>\n",
       "      <td>50.0</td>\n",
       "      <td>CNY</td>\n",
       "      <td>Sunday, September 30, 2018</td>\n",
       "      <td>50.5</td>\n",
       "      <td>Medium</td>\n",
       "      <td>CNY Caixin China PMI Mfg (SEP)</td>\n",
       "      <td>50.6</td>\n",
       "      <td>01:45</td>\n",
       "    </tr>\n",
       "    <tr>\n",
       "      <th>4</th>\n",
       "      <td>59.0</td>\n",
       "      <td>AUD</td>\n",
       "      <td>Sunday, September 30, 2018</td>\n",
       "      <td></td>\n",
       "      <td>Medium</td>\n",
       "      <td>AUD AiG Performance of Manufacturing Index (SEP)</td>\n",
       "      <td>56.7</td>\n",
       "      <td>22:30</td>\n",
       "    </tr>\n",
       "  </tbody>\n",
       "</table>\n",
       "</div>"
      ],
      "text/plain": [
       "  actual country                        date forecast  impact  \\\n",
       "0   54.9     CNY  Sunday, September 30, 2018     54.0  Medium   \n",
       "1   50.8     CNY  Sunday, September 30, 2018     51.2    High   \n",
       "2   54.1     CNY  Sunday, September 30, 2018           Medium   \n",
       "3   50.0     CNY  Sunday, September 30, 2018     50.5  Medium   \n",
       "4   59.0     AUD  Sunday, September 30, 2018           Medium   \n",
       "\n",
       "                                                new previous   time  \n",
       "0                   CNY Non-manufacturing PMI (SEP)     54.2  01:00  \n",
       "1                       CNY Manufacturing PMI (SEP)     51.3  01:00  \n",
       "2                           CNY Composite PMI (SEP)     53.8  01:00  \n",
       "3                    CNY Caixin China PMI Mfg (SEP)     50.6  01:45  \n",
       "4  AUD AiG Performance of Manufacturing Index (SEP)     56.7  22:30  "
      ]
     },
     "execution_count": 98,
     "metadata": {},
     "output_type": "execute_result"
    }
   ],
   "source": [
    "\n",
    "calendar_df.head()"
   ]
  },
  {
   "cell_type": "code",
   "execution_count": 94,
   "metadata": {},
   "outputs": [
    {
     "data": {
      "text/plain": [
       "177"
      ]
     },
     "execution_count": 94,
     "metadata": {},
     "output_type": "execute_result"
    }
   ],
   "source": [
    "len(calendar_df)"
   ]
  },
  {
   "cell_type": "code",
   "execution_count": null,
   "metadata": {},
   "outputs": [],
   "source": []
  },
  {
   "cell_type": "code",
   "execution_count": null,
   "metadata": {},
   "outputs": [],
   "source": []
  },
  {
   "cell_type": "code",
   "execution_count": null,
   "metadata": {},
   "outputs": [],
   "source": []
  }
 ],
 "metadata": {
  "kernelspec": {
   "display_name": "Python 3",
   "language": "python",
   "name": "python3"
  },
  "language_info": {
   "codemirror_mode": {
    "name": "ipython",
    "version": 3
   },
   "file_extension": ".py",
   "mimetype": "text/x-python",
   "name": "python",
   "nbconvert_exporter": "python",
   "pygments_lexer": "ipython3",
   "version": "3.6.5"
  }
 },
 "nbformat": 4,
 "nbformat_minor": 2
}
