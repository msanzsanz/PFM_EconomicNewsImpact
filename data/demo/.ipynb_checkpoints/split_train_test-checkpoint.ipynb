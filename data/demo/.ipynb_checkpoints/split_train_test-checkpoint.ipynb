{
 "cells": [
  {
   "cell_type": "code",
   "execution_count": 1,
   "metadata": {},
   "outputs": [],
   "source": [
    "import pandas as pd"
   ]
  },
  {
   "cell_type": "code",
   "execution_count": 2,
   "metadata": {},
   "outputs": [],
   "source": [
    "df = pd.read_csv('features_news_USD_pair_EURUSD_2007_2018.csv')"
   ]
  },
  {
   "cell_type": "code",
   "execution_count": 3,
   "metadata": {},
   "outputs": [
    {
     "data": {
      "text/html": [
       "<div>\n",
       "<style scoped>\n",
       "    .dataframe tbody tr th:only-of-type {\n",
       "        vertical-align: middle;\n",
       "    }\n",
       "\n",
       "    .dataframe tbody tr th {\n",
       "        vertical-align: top;\n",
       "    }\n",
       "\n",
       "    .dataframe thead th {\n",
       "        text-align: right;\n",
       "    }\n",
       "</style>\n",
       "<table border=\"1\" class=\"dataframe\">\n",
       "  <thead>\n",
       "    <tr style=\"text-align: right;\">\n",
       "      <th></th>\n",
       "      <th>datetime_gmt</th>\n",
       "      <th>actual</th>\n",
       "      <th>country</th>\n",
       "      <th>datetime</th>\n",
       "      <th>forecast</th>\n",
       "      <th>forecast_error</th>\n",
       "      <th>impact</th>\n",
       "      <th>new</th>\n",
       "      <th>previous</th>\n",
       "      <th>previous_error</th>\n",
       "      <th>...</th>\n",
       "      <th>previous_error_diff_std</th>\n",
       "      <th>previous_error_diff_mean</th>\n",
       "      <th>previous_error_diff_deviation</th>\n",
       "      <th>total_error_diff_upper_quartile</th>\n",
       "      <th>total_error_diff_lower_quartile</th>\n",
       "      <th>total_error_diff_outlier_class</th>\n",
       "      <th>total_error_diff_tmp</th>\n",
       "      <th>total_error_diff_std</th>\n",
       "      <th>total_error_diff_mean</th>\n",
       "      <th>total_error_diff_deviation</th>\n",
       "    </tr>\n",
       "  </thead>\n",
       "  <tbody>\n",
       "    <tr>\n",
       "      <th>0</th>\n",
       "      <td>2007-01-08 20:00:00+00:00</td>\n",
       "      <td>12.3B</td>\n",
       "      <td>USD</td>\n",
       "      <td>2007-01-08 15:00:00</td>\n",
       "      <td>5.4B</td>\n",
       "      <td>better</td>\n",
       "      <td>Low</td>\n",
       "      <td>Consumer Credit m/m</td>\n",
       "      <td>-1.3B</td>\n",
       "      <td>accurate</td>\n",
       "      <td>...</td>\n",
       "      <td>-0.0</td>\n",
       "      <td>-0.0</td>\n",
       "      <td>0.0</td>\n",
       "      <td>6.9</td>\n",
       "      <td>6.9</td>\n",
       "      <td>0</td>\n",
       "      <td>6.9</td>\n",
       "      <td>6.9</td>\n",
       "      <td>6.9</td>\n",
       "      <td>1.0</td>\n",
       "    </tr>\n",
       "    <tr>\n",
       "      <th>1</th>\n",
       "      <td>2007-02-07 20:00:00+00:00</td>\n",
       "      <td>6.0B</td>\n",
       "      <td>USD</td>\n",
       "      <td>2007-02-07 15:00:00</td>\n",
       "      <td>7.0B</td>\n",
       "      <td>worse</td>\n",
       "      <td>Low</td>\n",
       "      <td>Consumer Credit m/m</td>\n",
       "      <td>13.7B</td>\n",
       "      <td>better</td>\n",
       "      <td>...</td>\n",
       "      <td>1.4</td>\n",
       "      <td>1.4</td>\n",
       "      <td>1.0</td>\n",
       "      <td>0.4</td>\n",
       "      <td>0.4</td>\n",
       "      <td>0</td>\n",
       "      <td>0.4</td>\n",
       "      <td>0.4</td>\n",
       "      <td>0.4</td>\n",
       "      <td>1.0</td>\n",
       "    </tr>\n",
       "  </tbody>\n",
       "</table>\n",
       "<p>2 rows × 98 columns</p>\n",
       "</div>"
      ],
      "text/plain": [
       "                datetime_gmt actual country             datetime forecast  \\\n",
       "0  2007-01-08 20:00:00+00:00  12.3B     USD  2007-01-08 15:00:00     5.4B   \n",
       "1  2007-02-07 20:00:00+00:00   6.0B     USD  2007-02-07 15:00:00     7.0B   \n",
       "\n",
       "  forecast_error impact                  new previous previous_error  \\\n",
       "0         better    Low  Consumer Credit m/m    -1.3B       accurate   \n",
       "1          worse    Low  Consumer Credit m/m    13.7B         better   \n",
       "\n",
       "              ...              previous_error_diff_std  \\\n",
       "0             ...                                 -0.0   \n",
       "1             ...                                  1.4   \n",
       "\n",
       "   previous_error_diff_mean  previous_error_diff_deviation  \\\n",
       "0                      -0.0                            0.0   \n",
       "1                       1.4                            1.0   \n",
       "\n",
       "   total_error_diff_upper_quartile  total_error_diff_lower_quartile  \\\n",
       "0                              6.9                              6.9   \n",
       "1                              0.4                              0.4   \n",
       "\n",
       "   total_error_diff_outlier_class  total_error_diff_tmp  total_error_diff_std  \\\n",
       "0                               0                   6.9                   6.9   \n",
       "1                               0                   0.4                   0.4   \n",
       "\n",
       "   total_error_diff_mean  total_error_diff_deviation  \n",
       "0                    6.9                         1.0  \n",
       "1                    0.4                         1.0  \n",
       "\n",
       "[2 rows x 98 columns]"
      ]
     },
     "execution_count": 3,
     "metadata": {},
     "output_type": "execute_result"
    }
   ],
   "source": [
    "df.head(2)"
   ]
  },
  {
   "cell_type": "code",
   "execution_count": 4,
   "metadata": {},
   "outputs": [],
   "source": [
    "df_train = df[df['datetime'] < '2018-10-28 00:00:00']"
   ]
  },
  {
   "cell_type": "code",
   "execution_count": 5,
   "metadata": {},
   "outputs": [],
   "source": [
    "df_test = df[df['datetime'] >= '2018-10-28 00:00:00']"
   ]
  },
  {
   "cell_type": "code",
   "execution_count": 6,
   "metadata": {},
   "outputs": [
    {
     "data": {
      "text/plain": [
       "9667"
      ]
     },
     "execution_count": 6,
     "metadata": {},
     "output_type": "execute_result"
    }
   ],
   "source": [
    "len(df_train)"
   ]
  },
  {
   "cell_type": "code",
   "execution_count": 14,
   "metadata": {},
   "outputs": [
    {
     "data": {
      "text/plain": [
       "152"
      ]
     },
     "execution_count": 14,
     "metadata": {},
     "output_type": "execute_result"
    }
   ],
   "source": [
    "len(df_test)"
   ]
  },
  {
   "cell_type": "code",
   "execution_count": 13,
   "metadata": {},
   "outputs": [
    {
     "data": {
      "text/plain": [
       "96"
      ]
     },
     "execution_count": 13,
     "metadata": {},
     "output_type": "execute_result"
    }
   ],
   "source": [
    "len(df_test.groupby('datetime'))"
   ]
  },
  {
   "cell_type": "code",
   "execution_count": 8,
   "metadata": {},
   "outputs": [
    {
     "data": {
      "text/plain": [
       "9819"
      ]
     },
     "execution_count": 8,
     "metadata": {},
     "output_type": "execute_result"
    }
   ],
   "source": [
    "len(df)"
   ]
  },
  {
   "cell_type": "code",
   "execution_count": 9,
   "metadata": {},
   "outputs": [
    {
     "data": {
      "text/plain": [
       "9819"
      ]
     },
     "execution_count": 9,
     "metadata": {},
     "output_type": "execute_result"
    }
   ],
   "source": [
    "9667 + 152"
   ]
  },
  {
   "cell_type": "code",
   "execution_count": 10,
   "metadata": {},
   "outputs": [],
   "source": [
    "df_train.to_csv('features_news_USD_pair_EURUSD_2007_2018_train.csv')"
   ]
  },
  {
   "cell_type": "code",
   "execution_count": 11,
   "metadata": {},
   "outputs": [],
   "source": [
    "df_test.to_csv('features_news_USD_pair_EURUSD_2007_2018_test.csv')"
   ]
  },
  {
   "cell_type": "code",
   "execution_count": null,
   "metadata": {},
   "outputs": [],
   "source": []
  }
 ],
 "metadata": {
  "kernelspec": {
   "display_name": "Python 3",
   "language": "python",
   "name": "python3"
  },
  "language_info": {
   "codemirror_mode": {
    "name": "ipython",
    "version": 3
   },
   "file_extension": ".py",
   "mimetype": "text/x-python",
   "name": "python",
   "nbconvert_exporter": "python",
   "pygments_lexer": "ipython3",
   "version": "3.6.7"
  }
 },
 "nbformat": 4,
 "nbformat_minor": 2
}
