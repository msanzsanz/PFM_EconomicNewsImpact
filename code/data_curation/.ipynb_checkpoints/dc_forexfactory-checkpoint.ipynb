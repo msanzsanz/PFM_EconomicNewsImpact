{
 "cells": [
  {
   "cell_type": "markdown",
   "metadata": {},
   "source": [
    "# GETTING FAMILIAR WITH THE DATA "
   ]
  },
  {
   "cell_type": "markdown",
   "metadata": {},
   "source": [
    "# Table of contents\n",
    "1. [Forex Factory](#forex)\n",
    "    - [Next steps](#next_forex)\n",
    "2. [Forexite](#forexite)\n",
    "    - [Next steps](#next_forexite)"
   ]
  },
  {
   "cell_type": "markdown",
   "metadata": {},
   "source": [
    "\n",
    "\n",
    "## Forex Factory <a name=\"forex\"></a>\n",
    "\n",
    "\n",
    "Data from https://www.forexfactory.com/ was gotten using our own scrapper. Thus, we need to do some sanity checks to ensure that the downloaded data corresponds to the expected one.\n",
    "\n",
    "As we have data from several years, the best approach for this data curation is to create a script.\n",
    "Before that, we need to explore the data for getting familiarity with our dataset. That´s exactly the goal of this notebook.\n",
    "\n",
    "\n",
    "-----------\n"
   ]
  },
  {
   "cell_type": "code",
   "execution_count": 25,
   "metadata": {},
   "outputs": [],
   "source": [
    "import pandas as pd\n",
    "import numpy as np"
   ]
  },
  {
   "cell_type": "code",
   "execution_count": 18,
   "metadata": {},
   "outputs": [],
   "source": [
    "# Global variables\n",
    "# Please note this are relative directories to the project, so you need to edit these variables if modifying the folder structure\n",
    "\n",
    "data_directory_news = '../data/news/'"
   ]
  },
  {
   "cell_type": "markdown",
   "metadata": {},
   "source": [
    "### Initial exploratory analysis, just for 2017, to get familiar to the data\n"
   ]
  },
  {
   "cell_type": "code",
   "execution_count": 28,
   "metadata": {},
   "outputs": [],
   "source": [
    "ff_2017 = pd.read_csv(data_directory_news + 'forexfactory_2017.csv')"
   ]
  },
  {
   "cell_type": "code",
   "execution_count": 29,
   "metadata": {},
   "outputs": [
    {
     "data": {
      "text/html": [
       "<div>\n",
       "<style scoped>\n",
       "    .dataframe tbody tr th:only-of-type {\n",
       "        vertical-align: middle;\n",
       "    }\n",
       "\n",
       "    .dataframe tbody tr th {\n",
       "        vertical-align: top;\n",
       "    }\n",
       "\n",
       "    .dataframe thead th {\n",
       "        text-align: right;\n",
       "    }\n",
       "</style>\n",
       "<table border=\"1\" class=\"dataframe\">\n",
       "  <thead>\n",
       "    <tr style=\"text-align: right;\">\n",
       "      <th></th>\n",
       "      <th>Unnamed: 0</th>\n",
       "      <th>actual</th>\n",
       "      <th>country</th>\n",
       "      <th>date</th>\n",
       "      <th>forecast</th>\n",
       "      <th>forecast_error</th>\n",
       "      <th>impact</th>\n",
       "      <th>new</th>\n",
       "      <th>previous</th>\n",
       "      <th>previous_error</th>\n",
       "      <th>time</th>\n",
       "    </tr>\n",
       "  </thead>\n",
       "  <tbody>\n",
       "    <tr>\n",
       "      <th>0</th>\n",
       "      <td>0</td>\n",
       "      <td>NaN</td>\n",
       "      <td>NZD</td>\n",
       "      <td>2017-12-31 00:00:00</td>\n",
       "      <td>NaN</td>\n",
       "      <td>NaN</td>\n",
       "      <td>Non-Economic</td>\n",
       "      <td>Bank Holiday</td>\n",
       "      <td>NaN</td>\n",
       "      <td>NaN</td>\n",
       "      <td>12:00am</td>\n",
       "    </tr>\n",
       "    <tr>\n",
       "      <th>1</th>\n",
       "      <td>1</td>\n",
       "      <td>NaN</td>\n",
       "      <td>AUD</td>\n",
       "      <td>2017-12-31 00:00:00</td>\n",
       "      <td>NaN</td>\n",
       "      <td>NaN</td>\n",
       "      <td>Non-Economic</td>\n",
       "      <td>Bank Holiday</td>\n",
       "      <td>NaN</td>\n",
       "      <td>NaN</td>\n",
       "      <td>12:00am</td>\n",
       "    </tr>\n",
       "    <tr>\n",
       "      <th>2</th>\n",
       "      <td>2</td>\n",
       "      <td>NaN</td>\n",
       "      <td>JPY</td>\n",
       "      <td>2017-12-31 00:00:00</td>\n",
       "      <td>NaN</td>\n",
       "      <td>NaN</td>\n",
       "      <td>Non-Economic</td>\n",
       "      <td>Bank Holiday</td>\n",
       "      <td>NaN</td>\n",
       "      <td>NaN</td>\n",
       "      <td>12:00am</td>\n",
       "    </tr>\n",
       "    <tr>\n",
       "      <th>3</th>\n",
       "      <td>3</td>\n",
       "      <td>NaN</td>\n",
       "      <td>CNY</td>\n",
       "      <td>2017-12-31 00:00:00</td>\n",
       "      <td>NaN</td>\n",
       "      <td>NaN</td>\n",
       "      <td>Non-Economic</td>\n",
       "      <td>Bank Holiday</td>\n",
       "      <td>NaN</td>\n",
       "      <td>NaN</td>\n",
       "      <td>12:00am</td>\n",
       "    </tr>\n",
       "    <tr>\n",
       "      <th>4</th>\n",
       "      <td>4</td>\n",
       "      <td>NaN</td>\n",
       "      <td>CHF</td>\n",
       "      <td>2017-01-01 00:00:00</td>\n",
       "      <td>NaN</td>\n",
       "      <td>NaN</td>\n",
       "      <td>Non-Economic</td>\n",
       "      <td>Bank Holiday</td>\n",
       "      <td>NaN</td>\n",
       "      <td>NaN</td>\n",
       "      <td>12:00am</td>\n",
       "    </tr>\n",
       "  </tbody>\n",
       "</table>\n",
       "</div>"
      ],
      "text/plain": [
       "   Unnamed: 0 actual country                 date forecast forecast_error  \\\n",
       "0           0    NaN     NZD  2017-12-31 00:00:00      NaN            NaN   \n",
       "1           1    NaN     AUD  2017-12-31 00:00:00      NaN            NaN   \n",
       "2           2    NaN     JPY  2017-12-31 00:00:00      NaN            NaN   \n",
       "3           3    NaN     CNY  2017-12-31 00:00:00      NaN            NaN   \n",
       "4           4    NaN     CHF  2017-01-01 00:00:00      NaN            NaN   \n",
       "\n",
       "         impact           new previous previous_error     time  \n",
       "0  Non-Economic  Bank Holiday      NaN            NaN  12:00am  \n",
       "1  Non-Economic  Bank Holiday      NaN            NaN  12:00am  \n",
       "2  Non-Economic  Bank Holiday      NaN            NaN  12:00am  \n",
       "3  Non-Economic  Bank Holiday      NaN            NaN  12:00am  \n",
       "4  Non-Economic  Bank Holiday      NaN            NaN  12:00am  "
      ]
     },
     "execution_count": 29,
     "metadata": {},
     "output_type": "execute_result"
    }
   ],
   "source": [
    "ff_2017.head()"
   ]
  },
  {
   "cell_type": "code",
   "execution_count": 30,
   "metadata": {},
   "outputs": [
    {
     "data": {
      "text/html": [
       "<div>\n",
       "<style scoped>\n",
       "    .dataframe tbody tr th:only-of-type {\n",
       "        vertical-align: middle;\n",
       "    }\n",
       "\n",
       "    .dataframe tbody tr th {\n",
       "        vertical-align: top;\n",
       "    }\n",
       "\n",
       "    .dataframe thead th {\n",
       "        text-align: right;\n",
       "    }\n",
       "</style>\n",
       "<table border=\"1\" class=\"dataframe\">\n",
       "  <thead>\n",
       "    <tr style=\"text-align: right;\">\n",
       "      <th></th>\n",
       "      <th>actual</th>\n",
       "      <th>country</th>\n",
       "      <th>date</th>\n",
       "      <th>forecast</th>\n",
       "      <th>forecast_error</th>\n",
       "      <th>impact</th>\n",
       "      <th>new</th>\n",
       "      <th>previous</th>\n",
       "      <th>previous_error</th>\n",
       "      <th>time</th>\n",
       "    </tr>\n",
       "  </thead>\n",
       "  <tbody>\n",
       "    <tr>\n",
       "      <th>count</th>\n",
       "      <td>3789</td>\n",
       "      <td>4644</td>\n",
       "      <td>4644</td>\n",
       "      <td>3079</td>\n",
       "      <td>2150</td>\n",
       "      <td>4644</td>\n",
       "      <td>4644</td>\n",
       "      <td>3788</td>\n",
       "      <td>863</td>\n",
       "      <td>4644</td>\n",
       "    </tr>\n",
       "    <tr>\n",
       "      <th>unique</th>\n",
       "      <td>1357</td>\n",
       "      <td>10</td>\n",
       "      <td>331</td>\n",
       "      <td>1042</td>\n",
       "      <td>2</td>\n",
       "      <td>4</td>\n",
       "      <td>413</td>\n",
       "      <td>1375</td>\n",
       "      <td>2</td>\n",
       "      <td>314</td>\n",
       "    </tr>\n",
       "    <tr>\n",
       "      <th>top</th>\n",
       "      <td>0.4%</td>\n",
       "      <td>USD</td>\n",
       "      <td>2017-01-04 00:00:00</td>\n",
       "      <td>0.2%</td>\n",
       "      <td>better</td>\n",
       "      <td>Low</td>\n",
       "      <td>Trade Balance</td>\n",
       "      <td>0.4%</td>\n",
       "      <td>better</td>\n",
       "      <td>8:30am</td>\n",
       "    </tr>\n",
       "    <tr>\n",
       "      <th>freq</th>\n",
       "      <td>116</td>\n",
       "      <td>1201</td>\n",
       "      <td>42</td>\n",
       "      <td>170</td>\n",
       "      <td>1127</td>\n",
       "      <td>2247</td>\n",
       "      <td>100</td>\n",
       "      <td>116</td>\n",
       "      <td>487</td>\n",
       "      <td>412</td>\n",
       "    </tr>\n",
       "  </tbody>\n",
       "</table>\n",
       "</div>"
      ],
      "text/plain": [
       "       actual country                 date forecast forecast_error impact  \\\n",
       "count    3789    4644                 4644     3079           2150   4644   \n",
       "unique   1357      10                  331     1042              2      4   \n",
       "top      0.4%     USD  2017-01-04 00:00:00     0.2%         better    Low   \n",
       "freq      116    1201                   42      170           1127   2247   \n",
       "\n",
       "                  new previous previous_error    time  \n",
       "count            4644     3788            863    4644  \n",
       "unique            413     1375              2     314  \n",
       "top     Trade Balance     0.4%         better  8:30am  \n",
       "freq              100      116            487     412  "
      ]
     },
     "execution_count": 30,
     "metadata": {},
     "output_type": "execute_result"
    }
   ],
   "source": [
    "ff_2017 = ff_2017.drop(columns = ['Unnamed: 0'])\n",
    "ff_2017.describe()"
   ]
  },
  {
   "cell_type": "code",
   "execution_count": 22,
   "metadata": {},
   "outputs": [
    {
     "data": {
      "text/plain": [
       "date_time         object\n",
       "actual            object\n",
       "country           object\n",
       "forecast          object\n",
       "forecast_error    object\n",
       "impact            object\n",
       "new               object\n",
       "previous          object\n",
       "previous_error    object\n",
       "dtype: object"
      ]
     },
     "execution_count": 22,
     "metadata": {},
     "output_type": "execute_result"
    }
   ],
   "source": [
    "ff_2017.dtypes"
   ]
  },
  {
   "cell_type": "markdown",
   "metadata": {},
   "source": [
    "\"forecast_error\" is NaN when there was no error between the published forecast and actual value. Equivalently, \"previous_error\" is NaN when there was no goverment correction on the published value for the last release. \n",
    "\n",
    "Let´s replace those NaN by a categorical value = 'accurate'"
   ]
  },
  {
   "cell_type": "code",
   "execution_count": 23,
   "metadata": {},
   "outputs": [],
   "source": [
    "ff_2017['forecast_error'] = ff_2017['forecast_error'].replace(np.nan, 'accurate', regex=True)\n",
    "ff_2017['previous_error'] = ff_2017['previous_error'].replace(np.nan, 'accurate', regex=True)\n"
   ]
  },
  {
   "cell_type": "markdown",
   "metadata": {},
   "source": [
    "Our preliminary analysis is going to be focused on **EUR-USD only**, analysing the impact of news published by the American government, so we filter the dataframe to only get **macroeconomic news from USA** (macroeconomic news = those which have a forecast)"
   ]
  },
  {
   "cell_type": "code",
   "execution_count": 8,
   "metadata": {},
   "outputs": [
    {
     "data": {
      "text/html": [
       "<div>\n",
       "<style scoped>\n",
       "    .dataframe tbody tr th:only-of-type {\n",
       "        vertical-align: middle;\n",
       "    }\n",
       "\n",
       "    .dataframe tbody tr th {\n",
       "        vertical-align: top;\n",
       "    }\n",
       "\n",
       "    .dataframe thead th {\n",
       "        text-align: right;\n",
       "    }\n",
       "</style>\n",
       "<table border=\"1\" class=\"dataframe\">\n",
       "  <thead>\n",
       "    <tr style=\"text-align: right;\">\n",
       "      <th></th>\n",
       "      <th>date_time</th>\n",
       "      <th>actual</th>\n",
       "      <th>country</th>\n",
       "      <th>forecast</th>\n",
       "      <th>forecast_error</th>\n",
       "      <th>impact</th>\n",
       "      <th>new</th>\n",
       "      <th>previous</th>\n",
       "      <th>previous_error</th>\n",
       "    </tr>\n",
       "  </thead>\n",
       "  <tbody>\n",
       "    <tr>\n",
       "      <th>26</th>\n",
       "      <td>2017-01-02 00:00:00 10:45am</td>\n",
       "      <td>55.1</td>\n",
       "      <td>USD</td>\n",
       "      <td>55.0</td>\n",
       "      <td>accurate</td>\n",
       "      <td>Low</td>\n",
       "      <td>Final Manufacturing PMI</td>\n",
       "      <td>55.0</td>\n",
       "      <td>accurate</td>\n",
       "    </tr>\n",
       "    <tr>\n",
       "      <th>32</th>\n",
       "      <td>2017-01-03 00:00:00 11:00am</td>\n",
       "      <td>59.7</td>\n",
       "      <td>USD</td>\n",
       "      <td>58.1</td>\n",
       "      <td>better</td>\n",
       "      <td>High</td>\n",
       "      <td>ISM Manufacturing PMI</td>\n",
       "      <td>58.2</td>\n",
       "      <td>accurate</td>\n",
       "    </tr>\n",
       "    <tr>\n",
       "      <th>33</th>\n",
       "      <td>2017-01-03 00:00:00 11:00am</td>\n",
       "      <td>0.8%</td>\n",
       "      <td>USD</td>\n",
       "      <td>0.6%</td>\n",
       "      <td>accurate</td>\n",
       "      <td>Low</td>\n",
       "      <td>Construction Spending m/m</td>\n",
       "      <td>0.9%</td>\n",
       "      <td>worse</td>\n",
       "    </tr>\n",
       "    <tr>\n",
       "      <th>34</th>\n",
       "      <td>2017-01-03 00:00:00 11:00am</td>\n",
       "      <td>69.0</td>\n",
       "      <td>USD</td>\n",
       "      <td>64.8</td>\n",
       "      <td>better</td>\n",
       "      <td>Low</td>\n",
       "      <td>ISM Manufacturing Prices</td>\n",
       "      <td>65.5</td>\n",
       "      <td>accurate</td>\n",
       "    </tr>\n",
       "    <tr>\n",
       "      <th>35</th>\n",
       "      <td>2017-01-03 00:00:00 12:00am</td>\n",
       "      <td>17.9M</td>\n",
       "      <td>USD</td>\n",
       "      <td>17.5M</td>\n",
       "      <td>better</td>\n",
       "      <td>Low</td>\n",
       "      <td>Total Vehicle Sales</td>\n",
       "      <td>17.5M</td>\n",
       "      <td>accurate</td>\n",
       "    </tr>\n",
       "  </tbody>\n",
       "</table>\n",
       "</div>"
      ],
      "text/plain": [
       "                      date_time actual country forecast forecast_error impact  \\\n",
       "26  2017-01-02 00:00:00 10:45am   55.1     USD     55.0       accurate    Low   \n",
       "32  2017-01-03 00:00:00 11:00am   59.7     USD     58.1         better   High   \n",
       "33  2017-01-03 00:00:00 11:00am   0.8%     USD     0.6%       accurate    Low   \n",
       "34  2017-01-03 00:00:00 11:00am   69.0     USD     64.8         better    Low   \n",
       "35  2017-01-03 00:00:00 12:00am  17.9M     USD    17.5M         better    Low   \n",
       "\n",
       "                          new previous previous_error  \n",
       "26    Final Manufacturing PMI     55.0       accurate  \n",
       "32      ISM Manufacturing PMI     58.2       accurate  \n",
       "33  Construction Spending m/m     0.9%          worse  \n",
       "34   ISM Manufacturing Prices     65.5       accurate  \n",
       "35        Total Vehicle Sales    17.5M       accurate  "
      ]
     },
     "execution_count": 8,
     "metadata": {},
     "output_type": "execute_result"
    }
   ],
   "source": [
    "ff_2017_USA = ff_2017[ff_2017['country'] == 'USD'] \n",
    "ff_2017_USA = ff_2017_USA[ff_2017_USA['forecast'].notnull()]\n",
    "ff_2017_USA.head()"
   ]
  },
  {
   "cell_type": "markdown",
   "metadata": {},
   "source": [
    "How many macro-economical news are published each year?"
   ]
  },
  {
   "cell_type": "code",
   "execution_count": 9,
   "metadata": {},
   "outputs": [
    {
     "data": {
      "text/plain": [
       "888"
      ]
     },
     "execution_count": 9,
     "metadata": {},
     "output_type": "execute_result"
    }
   ],
   "source": [
    "len(ff_2017_USA)"
   ]
  },
  {
   "cell_type": "markdown",
   "metadata": {},
   "source": [
    "How many released grouped by 'impact' rate?"
   ]
  },
  {
   "cell_type": "code",
   "execution_count": 10,
   "metadata": {},
   "outputs": [
    {
     "name": "stdout",
     "output_type": "stream",
     "text": [
      "High: 304 - Medium: 243 - Low: 341\n"
     ]
    }
   ],
   "source": [
    "ff_2017_USA_high = ff_2017_USA[ff_2017_USA['impact'] == 'High']\n",
    "ff_2017_USA_medium = ff_2017_USA[ff_2017_USA['impact'] == 'Medium']\n",
    "ff_2017_USA_low = ff_2017_USA[ff_2017_USA['impact'] == 'Low']\n",
    "\n",
    "print('High: ' + str(len(ff_2017_USA_high)) + ' - Medium: ' + str(len(ff_2017_USA_medium)) + ' - Low: ' + str(len(ff_2017_USA_low)))"
   ]
  },
  {
   "cell_type": "markdown",
   "metadata": {},
   "source": [
    "Our favourite news for this analysis are those with higher expected impact on the market. Let´s see how many of them we have"
   ]
  },
  {
   "cell_type": "code",
   "execution_count": 11,
   "metadata": {},
   "outputs": [
    {
     "name": "stdout",
     "output_type": "stream",
     "text": [
      "number of news, high: 22 - med: 27 - low: 30\n"
     ]
    }
   ],
   "source": [
    "print('number of news, high: ' + \n",
    "      str(len(ff_2017_USA_high.groupby('new').impact.count())) +\n",
    "      ' - med: ' +\n",
    "        str(len(ff_2017_USA_medium.groupby('new').impact.count())) +\n",
    "      ' - low: ' + \n",
    "        str(len(ff_2017_USA_low.groupby('new').impact.count())))"
   ]
  },
  {
   "cell_type": "code",
   "execution_count": 12,
   "metadata": {},
   "outputs": [
    {
     "data": {
      "text/plain": [
       "new\n",
       "ADP Non-Farm Employment Change    13\n",
       "Advance GDP q/q                    4\n",
       "Average Hourly Earnings m/m       13\n",
       "Building Permits                  12\n",
       "CB Consumer Confidence            12\n",
       "CPI m/m                           12\n",
       "Core CPI m/m                      12\n",
       "Core Durable Goods Orders m/m     12\n",
       "Core Retail Sales m/m             12\n",
       "Crude Oil Inventories             53\n",
       "Federal Funds Rate                 6\n",
       "Final GDP q/q                      4\n",
       "ISM Manufacturing PMI             13\n",
       "ISM Non-Manufacturing PMI         13\n",
       "Non-Farm Employment Change        13\n",
       "PPI m/m                           12\n",
       "Philly Fed Manufacturing Index     4\n",
       "Prelim GDP q/q                     4\n",
       "Prelim UoM Consumer Sentiment      4\n",
       "Retail Sales m/m                  12\n",
       "Unemployment Claims               51\n",
       "Unemployment Rate                 13\n",
       "Name: impact, dtype: int64"
      ]
     },
     "execution_count": 12,
     "metadata": {},
     "output_type": "execute_result"
    }
   ],
   "source": [
    "ff_2017_USA_high.groupby('new').impact.count()"
   ]
  },
  {
   "cell_type": "markdown",
   "metadata": {},
   "source": [
    "Hmmm, not that many... :-("
   ]
  },
  {
   "cell_type": "markdown",
   "metadata": {},
   "source": [
    "We need to know which meassure units are used per each macroeconomic new, so that we can compute the error rate"
   ]
  },
  {
   "cell_type": "code",
   "execution_count": 27,
   "metadata": {},
   "outputs": [
    {
     "data": {
      "text/plain": [
       "['0.3%',\n",
       " '733K',\n",
       " '107.5',\n",
       " '-206B',\n",
       " '-101B',\n",
       " '5.81M',\n",
       " '55.9',\n",
       " '20',\n",
       " '6.4%',\n",
       " '23.2B',\n",
       " '0.1%',\n",
       " '1.0%',\n",
       " '0.2%',\n",
       " '-0.5%',\n",
       " '20.5B',\n",
       " '-50.5B',\n",
       " '18.0',\n",
       " '<1.50%',\n",
       " '59.7',\n",
       " '-138.5B',\n",
       " '-69.7B',\n",
       " '-0.1%',\n",
       " '148K',\n",
       " '95.9',\n",
       " '0.7%',\n",
       " '3.2%',\n",
       " '0.8%',\n",
       " '-7.4M',\n",
       " '55.0',\n",
       " '74',\n",
       " '26.2',\n",
       " '122.1',\n",
       " '2.2%',\n",
       " '1.30M',\n",
       " '0.6%',\n",
       " '67.6',\n",
       " '53.7',\n",
       " '4.1%',\n",
       " '0.4%',\n",
       " '-0.2%',\n",
       " '250K',\n",
       " '96.8',\n",
       " '77.1%',\n",
       " '51.9',\n",
       " '1.3%',\n",
       " '52.4',\n",
       " '69.0',\n",
       " '17.9M',\n",
       " '6.00M',\n",
       " '3.0%',\n",
       " '2.1%',\n",
       " '55.1',\n",
       " '3.3%',\n",
       " '0.5%']"
      ]
     },
     "execution_count": 27,
     "metadata": {},
     "output_type": "execute_result"
    }
   ],
   "source": [
    "list(set(ff_2017_USA.groupby('new').actual.first()))"
   ]
  },
  {
   "cell_type": "markdown",
   "metadata": {},
   "source": [
    "Let´s see how many times forex factory publishes a wrong forecast"
   ]
  },
  {
   "cell_type": "code",
   "execution_count": 14,
   "metadata": {},
   "outputs": [
    {
     "data": {
      "text/plain": [
       "forecast_error\n",
       "accurate    307\n",
       "better      294\n",
       "worse       287\n",
       "Name: impact, dtype: int64"
      ]
     },
     "execution_count": 14,
     "metadata": {},
     "output_type": "execute_result"
    }
   ],
   "source": [
    "ff_2017_USA.groupby('forecast_error').impact.count()"
   ]
  },
  {
   "cell_type": "markdown",
   "metadata": {},
   "source": [
    "Cool, forexfactory.com publishes non-accurate forecasts around 2/3 of the times !"
   ]
  },
  {
   "cell_type": "markdown",
   "metadata": {},
   "source": [
    "Is forexfactory estimating always the same impact rate for all the releases that correspond to the same economic new?"
   ]
  },
  {
   "cell_type": "markdown",
   "metadata": {},
   "source": [
    "--- \n",
    "\n",
    "## Next steps on Forex Factory <a name=\"next_forex\"></a>\n",
    "\n",
    "### Sanity checks:\n",
    "\n",
    " - No missing weeks.\n",
    " - Same news released each year, with the same cadence.\n",
    "\n",
    "### Data selection:\n",
    "\n",
    " - Filter out non macro-economic news.\n",
    " - Filter out non USA news.\n",
    "\n",
    "### Feature Engineer:\n",
    "\n",
    " - Compute % of error between the forecast and the actual values, taking into account the different units handled (int, float, %, Millions = 'M', Thousands = 'K')\n",
    " - Set all timestamps to match the trading pair values got from Forexite, i.e. GMT with DTS. Otherwise we won´t compare apples with apples !\n",
    " - Split current date and time fields to capture year, month, day of week, hour, time\n",
    " - Replace NaN in \"forecast_error\" and \"previous_error\" fields by \"accurate\"\n",
    "\n",
    "\n"
   ]
  },
  {
   "cell_type": "code",
   "execution_count": null,
   "metadata": {},
   "outputs": [],
   "source": []
  }
 ],
 "metadata": {
  "kernelspec": {
   "display_name": "Python 3",
   "language": "python",
   "name": "python3"
  },
  "language_info": {
   "codemirror_mode": {
    "name": "ipython",
    "version": 3
   },
   "file_extension": ".py",
   "mimetype": "text/x-python",
   "name": "python",
   "nbconvert_exporter": "python",
   "pygments_lexer": "ipython3",
   "version": "3.6.5"
  }
 },
 "nbformat": 4,
 "nbformat_minor": 2
}
