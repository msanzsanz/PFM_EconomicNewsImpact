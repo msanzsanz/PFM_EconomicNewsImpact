{
 "cells": [
  {
   "cell_type": "code",
   "execution_count": 15,
   "metadata": {},
   "outputs": [],
   "source": [
    "import pandas as pd\n"
   ]
  },
  {
   "cell_type": "code",
   "execution_count": 38,
   "metadata": {},
   "outputs": [],
   "source": [
    "performance_df = pd.read_csv('../data/curated/models_performance/all_included_ALL_NO_1_1_1_models_performance.csv')"
   ]
  },
  {
   "cell_type": "code",
   "execution_count": 39,
   "metadata": {},
   "outputs": [
    {
     "data": {
      "text/plain": [
       "48"
      ]
     },
     "execution_count": 39,
     "metadata": {},
     "output_type": "execute_result"
    }
   ],
   "source": [
    "len(performance_df)"
   ]
  },
  {
   "cell_type": "markdown",
   "metadata": {},
   "source": [
    "Let´s review the accuracy of knn models"
   ]
  },
  {
   "cell_type": "code",
   "execution_count": 40,
   "metadata": {},
   "outputs": [
    {
     "data": {
      "text/plain": [
       "Index(['Unnamed: 0', 'accuracy_test', 'before_data', 'elapsed_time', 'model',\n",
       "       'model_type', 'params', 'score', 'sweep_buy_sell', 'sweep_grid',\n",
       "       'sweep_news_agg', 'sweeps_market_variables'],\n",
       "      dtype='object')"
      ]
     },
     "execution_count": 40,
     "metadata": {},
     "output_type": "execute_result"
    }
   ],
   "source": [
    "performance_df.columns"
   ]
  },
  {
   "cell_type": "code",
   "execution_count": 41,
   "metadata": {},
   "outputs": [],
   "source": [
    "def correct(row):\n",
    "    model_index = row['Unnamed: 0']\n",
    "    model = ''\n",
    "    if model_index == 0: model = 'kn'\n",
    "    elif model_index == 1: model = 'svc-rbf'\n",
    "    elif model_index == 2: model = 'svc-poly'\n",
    "    elif model_index == 3: model = 'dtree'\n",
    "    elif model_index == 4: model = 'rforest'\n",
    "    elif model_index == 5: model = 'xgb'\n",
    "    elif model_index == 6: model = 'gboosting'\n",
    "    elif model_index == 7: model = 'ada'\n",
    "\n",
    "    return model"
   ]
  },
  {
   "cell_type": "code",
   "execution_count": 42,
   "metadata": {},
   "outputs": [],
   "source": [
    "performance_df['model'] = performance_df.apply(lambda row: correct(row), axis=1)"
   ]
  },
  {
   "cell_type": "markdown",
   "metadata": {},
   "source": [
    "Let´s get the top-5 models ranked by performance level"
   ]
  },
  {
   "cell_type": "code",
   "execution_count": 44,
   "metadata": {},
   "outputs": [
    {
     "data": {
      "text/html": [
       "<div>\n",
       "<style scoped>\n",
       "    .dataframe tbody tr th:only-of-type {\n",
       "        vertical-align: middle;\n",
       "    }\n",
       "\n",
       "    .dataframe tbody tr th {\n",
       "        vertical-align: top;\n",
       "    }\n",
       "\n",
       "    .dataframe thead th {\n",
       "        text-align: right;\n",
       "    }\n",
       "</style>\n",
       "<table border=\"1\" class=\"dataframe\">\n",
       "  <thead>\n",
       "    <tr style=\"text-align: right;\">\n",
       "      <th></th>\n",
       "      <th>Unnamed: 0</th>\n",
       "      <th>accuracy_test</th>\n",
       "      <th>before_data</th>\n",
       "      <th>elapsed_time</th>\n",
       "      <th>model</th>\n",
       "      <th>model_type</th>\n",
       "      <th>params</th>\n",
       "      <th>score</th>\n",
       "      <th>sweep_buy_sell</th>\n",
       "      <th>sweep_grid</th>\n",
       "      <th>sweep_news_agg</th>\n",
       "      <th>sweeps_market_variables</th>\n",
       "    </tr>\n",
       "  </thead>\n",
       "  <tbody>\n",
       "    <tr>\n",
       "      <th>36</th>\n",
       "      <td>4</td>\n",
       "      <td>0.54</td>\n",
       "      <td>included</td>\n",
       "      <td>40.37</td>\n",
       "      <td>rforest</td>\n",
       "      <td>clf</td>\n",
       "      <td>{'max_depth': 6, 'min_samples_leaf': 20, 'n_es...</td>\n",
       "      <td>0.52</td>\n",
       "      <td>60_120</td>\n",
       "      <td>basic</td>\n",
       "      <td>ALL_NO_1_1_1</td>\n",
       "      <td>all</td>\n",
       "    </tr>\n",
       "    <tr>\n",
       "      <th>38</th>\n",
       "      <td>6</td>\n",
       "      <td>0.53</td>\n",
       "      <td>included</td>\n",
       "      <td>32.54</td>\n",
       "      <td>gboosting</td>\n",
       "      <td>clf</td>\n",
       "      <td>{'n_estimators': 50}</td>\n",
       "      <td>0.51</td>\n",
       "      <td>60_120</td>\n",
       "      <td>basic</td>\n",
       "      <td>ALL_NO_1_1_1</td>\n",
       "      <td>all</td>\n",
       "    </tr>\n",
       "    <tr>\n",
       "      <th>37</th>\n",
       "      <td>5</td>\n",
       "      <td>0.52</td>\n",
       "      <td>included</td>\n",
       "      <td>20.47</td>\n",
       "      <td>xgb</td>\n",
       "      <td>clf</td>\n",
       "      <td>{'n_estimators': 10}</td>\n",
       "      <td>0.51</td>\n",
       "      <td>60_120</td>\n",
       "      <td>basic</td>\n",
       "      <td>ALL_NO_1_1_1</td>\n",
       "      <td>all</td>\n",
       "    </tr>\n",
       "    <tr>\n",
       "      <th>39</th>\n",
       "      <td>7</td>\n",
       "      <td>0.51</td>\n",
       "      <td>included</td>\n",
       "      <td>5.51</td>\n",
       "      <td>ada</td>\n",
       "      <td>clf</td>\n",
       "      <td>{'n_estimators': 10}</td>\n",
       "      <td>0.48</td>\n",
       "      <td>60_120</td>\n",
       "      <td>basic</td>\n",
       "      <td>ALL_NO_1_1_1</td>\n",
       "      <td>all</td>\n",
       "    </tr>\n",
       "    <tr>\n",
       "      <th>12</th>\n",
       "      <td>4</td>\n",
       "      <td>0.51</td>\n",
       "      <td>included</td>\n",
       "      <td>38.08</td>\n",
       "      <td>rforest</td>\n",
       "      <td>clf</td>\n",
       "      <td>{'max_depth': 6, 'min_samples_leaf': 10, 'n_es...</td>\n",
       "      <td>0.48</td>\n",
       "      <td>30_60</td>\n",
       "      <td>basic</td>\n",
       "      <td>ALL_NO_1_1_1</td>\n",
       "      <td>all</td>\n",
       "    </tr>\n",
       "  </tbody>\n",
       "</table>\n",
       "</div>"
      ],
      "text/plain": [
       "    Unnamed: 0  accuracy_test before_data  elapsed_time      model model_type  \\\n",
       "36           4           0.54    included         40.37    rforest        clf   \n",
       "38           6           0.53    included         32.54  gboosting        clf   \n",
       "37           5           0.52    included         20.47        xgb        clf   \n",
       "39           7           0.51    included          5.51        ada        clf   \n",
       "12           4           0.51    included         38.08    rforest        clf   \n",
       "\n",
       "                                               params  score sweep_buy_sell  \\\n",
       "36  {'max_depth': 6, 'min_samples_leaf': 20, 'n_es...   0.52         60_120   \n",
       "38                               {'n_estimators': 50}   0.51         60_120   \n",
       "37                               {'n_estimators': 10}   0.51         60_120   \n",
       "39                               {'n_estimators': 10}   0.48         60_120   \n",
       "12  {'max_depth': 6, 'min_samples_leaf': 10, 'n_es...   0.48          30_60   \n",
       "\n",
       "   sweep_grid sweep_news_agg sweeps_market_variables  \n",
       "36      basic   ALL_NO_1_1_1                     all  \n",
       "38      basic   ALL_NO_1_1_1                     all  \n",
       "37      basic   ALL_NO_1_1_1                     all  \n",
       "39      basic   ALL_NO_1_1_1                     all  \n",
       "12      basic   ALL_NO_1_1_1                     all  "
      ]
     },
     "execution_count": 44,
     "metadata": {},
     "output_type": "execute_result"
    }
   ],
   "source": [
    "performance_df.sort_values(by=['accuracy_test'], ascending = False).head(5)"
   ]
  },
  {
   "cell_type": "code",
   "execution_count": 105,
   "metadata": {},
   "outputs": [],
   "source": [
    "from sklearn.metrics import classification_report, confusion_matrix\n",
    "from sklearn.model_selection import train_test_split\n",
    "from sklearn.model_selection import GridSearchCV\n",
    "from sklearn.neighbors import KNeighborsClassifier\n",
    "from sklearn.metrics import accuracy_score\n"
   ]
  },
  {
   "cell_type": "code",
   "execution_count": 59,
   "metadata": {},
   "outputs": [],
   "source": [
    "df = pd.read_csv('../data/curated/ALL_NO_3_2_1-all-included-15_60-basic.csv')"
   ]
  },
  {
   "cell_type": "code",
   "execution_count": 68,
   "metadata": {},
   "outputs": [
    {
     "data": {
      "text/html": [
       "<div>\n",
       "<style scoped>\n",
       "    .dataframe tbody tr th:only-of-type {\n",
       "        vertical-align: middle;\n",
       "    }\n",
       "\n",
       "    .dataframe tbody tr th {\n",
       "        vertical-align: top;\n",
       "    }\n",
       "\n",
       "    .dataframe thead th {\n",
       "        text-align: right;\n",
       "    }\n",
       "</style>\n",
       "<table border=\"1\" class=\"dataframe\">\n",
       "  <thead>\n",
       "    <tr style=\"text-align: right;\">\n",
       "      <th></th>\n",
       "      <th>Unnamed: 0</th>\n",
       "      <th>datetime</th>\n",
       "      <th>new_id</th>\n",
       "      <th>forecast_error_ratio</th>\n",
       "      <th>forecast_error_ratio_zscore</th>\n",
       "      <th>previous_error_ratio</th>\n",
       "      <th>total_error_ratio</th>\n",
       "      <th>total_error_ratio_zscore</th>\n",
       "      <th>fe_accurate</th>\n",
       "      <th>fe_better</th>\n",
       "      <th>...</th>\n",
       "      <th>close_240_210_before</th>\n",
       "      <th>low_240_210_before</th>\n",
       "      <th>high_240_210_before</th>\n",
       "      <th>volatility_240_210_before</th>\n",
       "      <th>pips_agg_240_210_before</th>\n",
       "      <th>pips_candle_240_210_before</th>\n",
       "      <th>direction_candle_240_210_before</th>\n",
       "      <th>direction_agg_240_210_before</th>\n",
       "      <th>direction_agg_30_60_after</th>\n",
       "      <th>pips_agg_30_60_after</th>\n",
       "    </tr>\n",
       "  </thead>\n",
       "  <tbody>\n",
       "    <tr>\n",
       "      <th>0</th>\n",
       "      <td>0</td>\n",
       "      <td>2007-01-08 15:00:00</td>\n",
       "      <td>12</td>\n",
       "      <td>127.78</td>\n",
       "      <td>0.0</td>\n",
       "      <td>0.0</td>\n",
       "      <td>127.78</td>\n",
       "      <td>0.0</td>\n",
       "      <td>0</td>\n",
       "      <td>1</td>\n",
       "      <td>...</td>\n",
       "      <td>13009</td>\n",
       "      <td>13001</td>\n",
       "      <td>13014</td>\n",
       "      <td>13</td>\n",
       "      <td>9</td>\n",
       "      <td>1</td>\n",
       "      <td>0</td>\n",
       "      <td>1</td>\n",
       "      <td>0</td>\n",
       "      <td>1</td>\n",
       "    </tr>\n",
       "    <tr>\n",
       "      <th>1</th>\n",
       "      <td>1</td>\n",
       "      <td>2007-01-09 10:00:00</td>\n",
       "      <td>37</td>\n",
       "      <td>0.00</td>\n",
       "      <td>0.0</td>\n",
       "      <td>0.0</td>\n",
       "      <td>0.00</td>\n",
       "      <td>0.0</td>\n",
       "      <td>1</td>\n",
       "      <td>0</td>\n",
       "      <td>...</td>\n",
       "      <td>13024</td>\n",
       "      <td>13024</td>\n",
       "      <td>13037</td>\n",
       "      <td>13</td>\n",
       "      <td>-24</td>\n",
       "      <td>-8</td>\n",
       "      <td>-1</td>\n",
       "      <td>-2</td>\n",
       "      <td>0</td>\n",
       "      <td>-2</td>\n",
       "    </tr>\n",
       "  </tbody>\n",
       "</table>\n",
       "<p>2 rows × 164 columns</p>\n",
       "</div>"
      ],
      "text/plain": [
       "   Unnamed: 0             datetime new_id  forecast_error_ratio  \\\n",
       "0           0  2007-01-08 15:00:00     12                127.78   \n",
       "1           1  2007-01-09 10:00:00     37                  0.00   \n",
       "\n",
       "   forecast_error_ratio_zscore  previous_error_ratio  total_error_ratio  \\\n",
       "0                          0.0                   0.0             127.78   \n",
       "1                          0.0                   0.0               0.00   \n",
       "\n",
       "   total_error_ratio_zscore  fe_accurate  fe_better          ...           \\\n",
       "0                       0.0            0          1          ...            \n",
       "1                       0.0            1          0          ...            \n",
       "\n",
       "   close_240_210_before  low_240_210_before  high_240_210_before  \\\n",
       "0                 13009               13001                13014   \n",
       "1                 13024               13024                13037   \n",
       "\n",
       "   volatility_240_210_before  pips_agg_240_210_before  \\\n",
       "0                         13                        9   \n",
       "1                         13                      -24   \n",
       "\n",
       "   pips_candle_240_210_before  direction_candle_240_210_before  \\\n",
       "0                           1                                0   \n",
       "1                          -8                               -1   \n",
       "\n",
       "   direction_agg_240_210_before  direction_agg_30_60_after  \\\n",
       "0                             1                          0   \n",
       "1                            -2                          0   \n",
       "\n",
       "   pips_agg_30_60_after  \n",
       "0                     1  \n",
       "1                    -2  \n",
       "\n",
       "[2 rows x 164 columns]"
      ]
     },
     "execution_count": 68,
     "metadata": {},
     "output_type": "execute_result"
    }
   ],
   "source": [
    "df.head(2)"
   ]
  },
  {
   "cell_type": "code",
   "execution_count": 80,
   "metadata": {},
   "outputs": [],
   "source": [
    "columns_of_model= ['pips_agg_0_5_after', 'low_10_5_before', 'low_180_150_before', 'pe_worse', 'close_30_25_before', \n",
    "                   'pips_agg_20_15_before', 'low_25_20_before', 'volatility_25_20_before', 'High', 'pips_agg_10_15_after', \n",
    "                   'close_120_90_before', 'direction_agg_30_25_before', 'low_210_180_before', 'direction_agg_180_150_before',\n",
    "                   'pe_better', 'close_45_30_before', 'close_25_20_before', 'pips_agg_30_25_before', 'fe_worse', \n",
    "                   'direction_candle_90_60_before', 'close_60_45_before', 'direction_agg_90_60_before', \n",
    "                   'pips_candle_210_180_before', 'direction_candle_180_150_before', 'pips_candle_10_15_after',\n",
    "                   'low_45_30_before', 'pips_candle_180_150_before', 'forecast_error_ratio', 'pips_agg_25_20_before',\n",
    "                   'previous_error_ratio', 'low_90_60_before', 'direction_agg_60_30_before', 'direction_agg_20_15_before',\n",
    "                   'pips_candle_150_120_before', 'low_240_210_before', 'volatility_5_10_after', 'pips_candle_240_210_before', \n",
    "                   'direction_agg_10_5_before', 'close_150_120_before', 'volatility_240_210_before', 'pips_candle_90_60_before',\n",
    "                   'pips_candle_45_30_before', 'pips_agg_15_10_before', 'low_10_15_after', 'pips_candle_0_5_after',\n",
    "                   'direction_agg_15_10_before', 'pips_agg_45_30_before', 'direction_candle_0_5_after', 'low_30_25_before',\n",
    "                   'pips_agg_10_5_before', 'pips_candle_10_5_before', 'pips_agg_180_150_before', 'pips_candle_30_25_before', \n",
    "                   'total_error_ratio_zscore', 'direction_candle_25_20_before', 'volatility_210_180_before', 'total_error_ratio',\n",
    "                   'direction_agg_5_10_after', 'direction_agg_210_180_before', 'direction_candle_60_30_before', 'low_15_10_before',\n",
    "                   'volatility_20_15_before', 'close_0_5_after', 'pips_agg_5_0_before', 'close_180_150_before', 'close_60_30_before',\n",
    "                   'direction_candle_30_25_before', 'volatility_150_120_before', 'pips_agg_5_10_after', 'pips_agg_60_30_before',\n",
    "                   'direction_candle_5_0_before', 'high_60_30_before', 'close_5_10_after', 'direction_agg_240_210_before', \n",
    "                   'direction_agg_25_20_before', 'high_15_10_before', 'pips_candle_5_0_before', 'low_5_0_before',\n",
    "                   'high_240_210_before', 'direction_candle_60_45_before', 'num_news', 'direction_agg_10_15_after', \n",
    "                   'low_60_30_before', 'volatility_60_45_before', 'direction_candle_10_5_before', 'fe_better', \n",
    "                   'direction_agg_120_90_before', 'fe_accurate', 'direction_candle_15_10_before', 'close_5_0_before',\n",
    "                   'high_60_45_before', 'pe_accurate', 'Medium', 'volatility_10_5_before', 'close_210_180_before', \n",
    "                   'low_5_10_after', 'pips_candle_15_10_before', 'pips_candle_120_90_before', 'close_20_15_before',\n",
    "                   'pips_candle_60_45_before', 'high_20_15_before', 'volatility_180_150_before', \n",
    "                   'volatility_120_90_before', 'volatility_10_15_after', 'high_5_10_after', 'volatility_45_30_before',\n",
    "                   'pips_agg_210_180_before', 'direction_candle_10_15_after', 'high_30_25_before', 'low_0_5_after',\n",
    "                   'forecast_error_ratio_zscore', 'high_90_60_before', 'volatility_60_30_before', 'high_180_150_before',\n",
    "                   'direction_agg_0_5_after', 'new_id', 'high_25_20_before', 'direction_candle_210_180_before', \n",
    "                   'direction_agg_5_0_before', 'high_210_180_before', 'low_150_120_before', 'pips_agg_240_210_before',\n",
    "                   'Low', 'volatility_90_60_before', 'pips_agg_120_90_before', 'volatility_30_25_before',\n",
    "                   'high_150_120_before', 'pips_candle_60_30_before', 'volatility_5_0_before', 'volatility_15_10_before',\n",
    "                   'close_90_60_before', 'direction_candle_150_120_before', 'high_5_0_before', 'high_0_5_after',\n",
    "                   'direction_agg_60_45_before', 'pips_candle_20_15_before', 'pips_agg_60_45_before', 'pips_candle_25_20_before',\n",
    "                   'low_120_90_before', 'direction_candle_240_210_before', 'direction_candle_5_10_after', 'close_10_15_after',\n",
    "                   'direction_candle_45_30_before', 'high_10_5_before', 'pips_agg_150_120_before', 'low_20_15_before', \n",
    "                   'low_60_45_before', 'direction_agg_45_30_before', 'close_10_5_before', 'direction_candle_120_90_before', \n",
    "                   'close_15_10_before', 'direction_candle_20_15_before', 'pips_agg_90_60_before', 'high_45_30_before',\n",
    "                   'direction_agg_150_120_before', 'high_120_90_before', 'volatility_0_5_after', 'close_240_210_before',\n",
    "                   'pips_candle_5_10_after', 'high_10_15_after']\n",
    "columns_to_predict=['direction_agg_30_60_after']"
   ]
  },
  {
   "cell_type": "code",
   "execution_count": 81,
   "metadata": {},
   "outputs": [
    {
     "data": {
      "text/plain": [
       "160"
      ]
     },
     "execution_count": 81,
     "metadata": {},
     "output_type": "execute_result"
    }
   ],
   "source": [
    "len(columns_of_model)"
   ]
  },
  {
   "cell_type": "code",
   "execution_count": 82,
   "metadata": {},
   "outputs": [
    {
     "data": {
      "text/plain": [
       "6460"
      ]
     },
     "execution_count": 82,
     "metadata": {},
     "output_type": "execute_result"
    }
   ],
   "source": [
    "len(df)"
   ]
  },
  {
   "cell_type": "code",
   "execution_count": 99,
   "metadata": {},
   "outputs": [],
   "source": [
    "X = df[columns_of_model].values\n",
    "y = df[columns_to_predict[0]].values\n",
    "\n",
    "X_train, X_test, y_train, y_test = train_test_split(X, y, test_size=0.2, random_state=42)"
   ]
  },
  {
   "cell_type": "code",
   "execution_count": 100,
   "metadata": {},
   "outputs": [
    {
     "name": "stdout",
     "output_type": "stream",
     "text": [
      "0.26\n"
     ]
    }
   ],
   "source": [
    "clf_kn = GridSearchCV(KNeighborsClassifier(n_neighbors=1),\n",
    "                          param_grid={\"n_neighbors\": range(1, 100, 10)},\n",
    "                          scoring=\"accuracy\",\n",
    "                          cv=5)\n",
    "clf_kn.fit(X_train, y_train)\n",
    "y_predict = clf_kn.predict(X_test)\n",
    "print(format(accuracy_score(y_predict, y_test), '.2f'))"
   ]
  },
  {
   "cell_type": "code",
   "execution_count": 101,
   "metadata": {},
   "outputs": [
    {
     "data": {
      "text/html": [
       "<div>\n",
       "<style scoped>\n",
       "    .dataframe tbody tr th:only-of-type {\n",
       "        vertical-align: middle;\n",
       "    }\n",
       "\n",
       "    .dataframe tbody tr th {\n",
       "        vertical-align: top;\n",
       "    }\n",
       "\n",
       "    .dataframe thead th {\n",
       "        text-align: right;\n",
       "    }\n",
       "</style>\n",
       "<table border=\"1\" class=\"dataframe\">\n",
       "  <thead>\n",
       "    <tr style=\"text-align: right;\">\n",
       "      <th></th>\n",
       "      <th>Unnamed: 0</th>\n",
       "      <th>accuracy_test</th>\n",
       "      <th>before_data</th>\n",
       "      <th>elapsed_time</th>\n",
       "      <th>model</th>\n",
       "      <th>model_type</th>\n",
       "      <th>params</th>\n",
       "      <th>score</th>\n",
       "      <th>sweep_buy_sell</th>\n",
       "      <th>sweep_grid</th>\n",
       "      <th>sweep_news_agg</th>\n",
       "      <th>sweeps_market_variables</th>\n",
       "    </tr>\n",
       "  </thead>\n",
       "  <tbody>\n",
       "    <tr>\n",
       "      <th>0</th>\n",
       "      <td>0</td>\n",
       "      <td>0.27</td>\n",
       "      <td>included</td>\n",
       "      <td>5.15</td>\n",
       "      <td>kn</td>\n",
       "      <td>clf</td>\n",
       "      <td>{'n_neighbors': 71}</td>\n",
       "      <td>0.26</td>\n",
       "      <td>15_60</td>\n",
       "      <td>basic</td>\n",
       "      <td>ALL_NO_1_1_1</td>\n",
       "      <td>all</td>\n",
       "    </tr>\n",
       "    <tr>\n",
       "      <th>8</th>\n",
       "      <td>0</td>\n",
       "      <td>0.28</td>\n",
       "      <td>included</td>\n",
       "      <td>5.38</td>\n",
       "      <td>kn</td>\n",
       "      <td>clf</td>\n",
       "      <td>{'n_neighbors': 1}</td>\n",
       "      <td>0.27</td>\n",
       "      <td>30_60</td>\n",
       "      <td>basic</td>\n",
       "      <td>ALL_NO_1_1_1</td>\n",
       "      <td>all</td>\n",
       "    </tr>\n",
       "    <tr>\n",
       "      <th>16</th>\n",
       "      <td>0</td>\n",
       "      <td>0.25</td>\n",
       "      <td>included</td>\n",
       "      <td>5.36</td>\n",
       "      <td>kn</td>\n",
       "      <td>clf</td>\n",
       "      <td>{'n_neighbors': 11}</td>\n",
       "      <td>0.26</td>\n",
       "      <td>30_90</td>\n",
       "      <td>basic</td>\n",
       "      <td>ALL_NO_1_1_1</td>\n",
       "      <td>all</td>\n",
       "    </tr>\n",
       "    <tr>\n",
       "      <th>24</th>\n",
       "      <td>0</td>\n",
       "      <td>0.23</td>\n",
       "      <td>included</td>\n",
       "      <td>5.37</td>\n",
       "      <td>kn</td>\n",
       "      <td>clf</td>\n",
       "      <td>{'n_neighbors': 11}</td>\n",
       "      <td>0.25</td>\n",
       "      <td>30_120</td>\n",
       "      <td>basic</td>\n",
       "      <td>ALL_NO_1_1_1</td>\n",
       "      <td>all</td>\n",
       "    </tr>\n",
       "    <tr>\n",
       "      <th>32</th>\n",
       "      <td>0</td>\n",
       "      <td>0.30</td>\n",
       "      <td>included</td>\n",
       "      <td>6.04</td>\n",
       "      <td>kn</td>\n",
       "      <td>clf</td>\n",
       "      <td>{'n_neighbors': 1}</td>\n",
       "      <td>0.28</td>\n",
       "      <td>60_120</td>\n",
       "      <td>basic</td>\n",
       "      <td>ALL_NO_1_1_1</td>\n",
       "      <td>all</td>\n",
       "    </tr>\n",
       "    <tr>\n",
       "      <th>40</th>\n",
       "      <td>0</td>\n",
       "      <td>0.29</td>\n",
       "      <td>included</td>\n",
       "      <td>6.28</td>\n",
       "      <td>kn</td>\n",
       "      <td>clf</td>\n",
       "      <td>{'n_neighbors': 11}</td>\n",
       "      <td>0.29</td>\n",
       "      <td>60_240</td>\n",
       "      <td>basic</td>\n",
       "      <td>ALL_NO_1_1_1</td>\n",
       "      <td>all</td>\n",
       "    </tr>\n",
       "  </tbody>\n",
       "</table>\n",
       "</div>"
      ],
      "text/plain": [
       "    Unnamed: 0  accuracy_test before_data  elapsed_time model model_type  \\\n",
       "0            0           0.27    included          5.15    kn        clf   \n",
       "8            0           0.28    included          5.38    kn        clf   \n",
       "16           0           0.25    included          5.36    kn        clf   \n",
       "24           0           0.23    included          5.37    kn        clf   \n",
       "32           0           0.30    included          6.04    kn        clf   \n",
       "40           0           0.29    included          6.28    kn        clf   \n",
       "\n",
       "                 params  score sweep_buy_sell sweep_grid sweep_news_agg  \\\n",
       "0   {'n_neighbors': 71}   0.26          15_60      basic   ALL_NO_1_1_1   \n",
       "8    {'n_neighbors': 1}   0.27          30_60      basic   ALL_NO_1_1_1   \n",
       "16  {'n_neighbors': 11}   0.26          30_90      basic   ALL_NO_1_1_1   \n",
       "24  {'n_neighbors': 11}   0.25         30_120      basic   ALL_NO_1_1_1   \n",
       "32   {'n_neighbors': 1}   0.28         60_120      basic   ALL_NO_1_1_1   \n",
       "40  {'n_neighbors': 11}   0.29         60_240      basic   ALL_NO_1_1_1   \n",
       "\n",
       "   sweeps_market_variables  \n",
       "0                      all  \n",
       "8                      all  \n",
       "16                     all  \n",
       "24                     all  \n",
       "32                     all  \n",
       "40                     all  "
      ]
     },
     "execution_count": 101,
     "metadata": {},
     "output_type": "execute_result"
    }
   ],
   "source": [
    "performance_df[performance_df['model'] == 'kn']"
   ]
  },
  {
   "cell_type": "code",
   "execution_count": 98,
   "metadata": {},
   "outputs": [
    {
     "name": "stdout",
     "output_type": "stream",
     "text": [
      "              precision    recall  f1-score   support\n",
      "\n",
      "          -2       0.22      0.09      0.13       205\n",
      "          -1       0.19      0.13      0.15       292\n",
      "           0       0.27      0.66      0.38       313\n",
      "           1       0.23      0.15      0.18       272\n",
      "           2       0.32      0.09      0.14       210\n",
      "\n",
      "   micro avg       0.25      0.25      0.25      1292\n",
      "   macro avg       0.25      0.23      0.20      1292\n",
      "weighted avg       0.24      0.25      0.21      1292\n",
      "\n"
     ]
    }
   ],
   "source": [
    "print(classification_report(y_test, clf_kn.predict(X_test)))"
   ]
  },
  {
   "cell_type": "code",
   "execution_count": 102,
   "metadata": {},
   "outputs": [
    {
     "data": {
      "text/plain": [
       "{'n_neighbors': 91}"
      ]
     },
     "execution_count": 102,
     "metadata": {},
     "output_type": "execute_result"
    }
   ],
   "source": [
    "clf_kn.best_params_"
   ]
  },
  {
   "cell_type": "code",
   "execution_count": null,
   "metadata": {},
   "outputs": [],
   "source": [
    "clf_kn."
   ]
  },
  {
   "cell_type": "code",
   "execution_count": 103,
   "metadata": {},
   "outputs": [],
   "source": [
    "y_predict_prob = clf_kn.predict_proba(X_test)"
   ]
  },
  {
   "cell_type": "code",
   "execution_count": 104,
   "metadata": {},
   "outputs": [
    {
     "data": {
      "text/plain": [
       "array([[0.23076923, 0.24175824, 0.18681319, 0.17582418, 0.16483516],\n",
       "       [0.02197802, 0.30769231, 0.28571429, 0.31868132, 0.06593407],\n",
       "       [0.12087912, 0.24175824, 0.37362637, 0.18681319, 0.07692308],\n",
       "       [0.0989011 , 0.21978022, 0.34065934, 0.25274725, 0.08791209]])"
      ]
     },
     "execution_count": 104,
     "metadata": {},
     "output_type": "execute_result"
    }
   ],
   "source": [
    "y_predict_prob[0:4]"
   ]
  },
  {
   "cell_type": "code",
   "execution_count": 107,
   "metadata": {},
   "outputs": [
    {
     "data": {
      "text/plain": [
       "array([[ 18,  52, 109,  26,   8],\n",
       "       [  7,  53, 139,  35,  11],\n",
       "       [  9,  59, 208,  52,  13],\n",
       "       [  9,  55, 159,  47,  15],\n",
       "       [ 18,  43, 104,  28,  15]])"
      ]
     },
     "execution_count": 107,
     "metadata": {},
     "output_type": "execute_result"
    }
   ],
   "source": [
    "confusion_matrix(y_test, clf_kn.predict(X_test))"
   ]
  },
  {
   "cell_type": "code",
   "execution_count": 116,
   "metadata": {},
   "outputs": [],
   "source": [
    "confusion_matrix = pd.crosstab(y_test, clf_kn.predict(X_test), rownames=['True'], colnames=['Predicted'], margins=True)"
   ]
  },
  {
   "cell_type": "code",
   "execution_count": 136,
   "metadata": {},
   "outputs": [
    {
     "name": "stdout",
     "output_type": "stream",
     "text": [
      "18\n",
      "53\n",
      "208\n",
      "47\n",
      "15\n"
     ]
    }
   ],
   "source": [
    "for i in [-2,-1,0,1,2]:\n",
    "    print(confusion_matrix[i][i])"
   ]
  },
  {
   "cell_type": "code",
   "execution_count": 132,
   "metadata": {},
   "outputs": [
    {
     "data": {
      "text/plain": [
       "18"
      ]
     },
     "execution_count": 132,
     "metadata": {},
     "output_type": "execute_result"
    }
   ],
   "source": [
    "confusion_matrix[-2][-2]"
   ]
  },
  {
   "cell_type": "code",
   "execution_count": 133,
   "metadata": {},
   "outputs": [
    {
     "data": {
      "text/plain": [
       "341"
      ]
     },
     "execution_count": 133,
     "metadata": {},
     "output_type": "execute_result"
    }
   ],
   "source": [
    "confusion_matrix['All'][0]"
   ]
  },
  {
   "cell_type": "code",
   "execution_count": 108,
   "metadata": {},
   "outputs": [
    {
     "data": {
      "text/html": [
       "<div>\n",
       "<style scoped>\n",
       "    .dataframe tbody tr th:only-of-type {\n",
       "        vertical-align: middle;\n",
       "    }\n",
       "\n",
       "    .dataframe tbody tr th {\n",
       "        vertical-align: top;\n",
       "    }\n",
       "\n",
       "    .dataframe thead th {\n",
       "        text-align: right;\n",
       "    }\n",
       "</style>\n",
       "<table border=\"1\" class=\"dataframe\">\n",
       "  <thead>\n",
       "    <tr style=\"text-align: right;\">\n",
       "      <th>Predicted</th>\n",
       "      <th>-2</th>\n",
       "      <th>-1</th>\n",
       "      <th>0</th>\n",
       "      <th>1</th>\n",
       "      <th>2</th>\n",
       "      <th>All</th>\n",
       "    </tr>\n",
       "    <tr>\n",
       "      <th>True</th>\n",
       "      <th></th>\n",
       "      <th></th>\n",
       "      <th></th>\n",
       "      <th></th>\n",
       "      <th></th>\n",
       "      <th></th>\n",
       "    </tr>\n",
       "  </thead>\n",
       "  <tbody>\n",
       "    <tr>\n",
       "      <th>-2</th>\n",
       "      <td>18</td>\n",
       "      <td>52</td>\n",
       "      <td>109</td>\n",
       "      <td>26</td>\n",
       "      <td>8</td>\n",
       "      <td>213</td>\n",
       "    </tr>\n",
       "    <tr>\n",
       "      <th>-1</th>\n",
       "      <td>7</td>\n",
       "      <td>53</td>\n",
       "      <td>139</td>\n",
       "      <td>35</td>\n",
       "      <td>11</td>\n",
       "      <td>245</td>\n",
       "    </tr>\n",
       "    <tr>\n",
       "      <th>0</th>\n",
       "      <td>9</td>\n",
       "      <td>59</td>\n",
       "      <td>208</td>\n",
       "      <td>52</td>\n",
       "      <td>13</td>\n",
       "      <td>341</td>\n",
       "    </tr>\n",
       "    <tr>\n",
       "      <th>1</th>\n",
       "      <td>9</td>\n",
       "      <td>55</td>\n",
       "      <td>159</td>\n",
       "      <td>47</td>\n",
       "      <td>15</td>\n",
       "      <td>285</td>\n",
       "    </tr>\n",
       "    <tr>\n",
       "      <th>2</th>\n",
       "      <td>18</td>\n",
       "      <td>43</td>\n",
       "      <td>104</td>\n",
       "      <td>28</td>\n",
       "      <td>15</td>\n",
       "      <td>208</td>\n",
       "    </tr>\n",
       "    <tr>\n",
       "      <th>All</th>\n",
       "      <td>61</td>\n",
       "      <td>262</td>\n",
       "      <td>719</td>\n",
       "      <td>188</td>\n",
       "      <td>62</td>\n",
       "      <td>1292</td>\n",
       "    </tr>\n",
       "  </tbody>\n",
       "</table>\n",
       "</div>"
      ],
      "text/plain": [
       "Predicted  -2   -1    0    1   2   All\n",
       "True                                  \n",
       "-2         18   52  109   26   8   213\n",
       "-1          7   53  139   35  11   245\n",
       "0           9   59  208   52  13   341\n",
       "1           9   55  159   47  15   285\n",
       "2          18   43  104   28  15   208\n",
       "All        61  262  719  188  62  1292"
      ]
     },
     "execution_count": 108,
     "metadata": {},
     "output_type": "execute_result"
    }
   ],
   "source": [
    "pd.crosstab(y_test, clf_kn.predict(X_test), rownames=['True'], colnames=['Predicted'], margins=True)"
   ]
  },
  {
   "cell_type": "code",
   "execution_count": 109,
   "metadata": {},
   "outputs": [
    {
     "data": {
      "text/plain": [
       "1292"
      ]
     },
     "execution_count": 109,
     "metadata": {},
     "output_type": "execute_result"
    }
   ],
   "source": [
    "len(y_test)"
   ]
  },
  {
   "cell_type": "code",
   "execution_count": 111,
   "metadata": {},
   "outputs": [
    {
     "data": {
      "text/plain": [
       "32.585139318885446"
      ]
     },
     "execution_count": 111,
     "metadata": {},
     "output_type": "execute_result"
    }
   ],
   "source": [
    "(213 + 208)*100 / 1292"
   ]
  },
  {
   "cell_type": "code",
   "execution_count": 115,
   "metadata": {},
   "outputs": [
    {
     "data": {
      "image/png": "[encoded data removed]",
      "text/plain": [
       "<Figure size 432x288 with 1 Axes>"
      ]
     },
     "metadata": {},
     "output_type": "display_data"
    }
   ],
   "source": [
    "import matplotlib.pyplot as plt\n",
    "conf = confusion_matrix(y_test, clf_kn.predict(X_test))\n",
    "plt.imshow(conf, cmap='binary', interpolation='None')\n",
    "plt.show()"
   ]
  },
  {
   "cell_type": "code",
   "execution_count": null,
   "metadata": {},
   "outputs": [],
   "source": []
  }
 ],
 "metadata": {
  "kernelspec": {
   "display_name": "Python 3",
   "language": "python",
   "name": "python3"
  },
  "language_info": {
   "codemirror_mode": {
    "name": "ipython",
    "version": 3
   },
   "file_extension": ".py",
   "mimetype": "text/x-python",
   "name": "python",
   "nbconvert_exporter": "python",
   "pygments_lexer": "ipython3",
   "version": "3.6.5"
  }
 },
 "nbformat": 4,
 "nbformat_minor": 2
}
