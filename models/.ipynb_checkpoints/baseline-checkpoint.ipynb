{
 "cells": [
  {
   "cell_type": "markdown",
   "metadata": {},
   "source": [
    "# Scope for this notebook\n",
    "The objective of this notebook is dual:\n",
    "\n",
    "- Final feature engineer on variables\n",
    "- Create a first classification model to use as a baseline for subsequent models and optimizations\n",
    "- Create a first regresion model to use as a baseline for subsequent models and optimizations\n"
   ]
  },
  {
   "cell_type": "markdown",
   "metadata": {},
   "source": [
    "---\n",
    "\n",
    "## Action plan:\n",
    "\n",
    "**1. Split the dataset into two, one with 'news' features and a separate one with 'market' features**  \n",
    "This is beneficial to group news by publication timestamp based on different criterias (see step 3)\n",
    " \n",
    "\n",
    "**2. Transform categorical variables into numerical ones**  \n",
    "\n",
    "**3. Group all the news published exactly at the same timestamp, as all of them combined could explain market reactions**  \n",
    "- Try to predict the direction of the market grouping all the news published at the same time, all of them with the same weights regardless of the impact classification\n",
    "- Same as before, but giving higher weights to news with higher impact (high=3, medium=2, low=1)\n",
    "- Try to predict the direction of the market just with those news published in isolation \n",
    "- Try to predict the direction of the market for HIGH, MEDIUM, LOW news \n",
    "\n",
    "\n",
    "**4. Merge the datasets back again, joined by datetime**  \n",
    "\n",
    "\n",
    "\n",
    "\n"
   ]
  },
  {
   "cell_type": "markdown",
   "metadata": {},
   "source": [
    "---\n",
    "\n",
    "## Models to create:\n",
    "\n",
    "- Just with data up to the publication of the new, is the pair going to be appreciated or devaluated?\n",
    "- Using A + data with market reaction within the first 15 minutes, is the pair going to be appreciated or devaluated?\n",
    "\n"
   ]
  },
  {
   "cell_type": "markdown",
   "metadata": {},
   "source": [
    "---"
   ]
  },
  {
   "cell_type": "code",
   "execution_count": null,
   "metadata": {},
   "outputs": [],
   "source": [
    "#!conda install -y -c anaconda graphviz"
   ]
  },
  {
   "cell_type": "code",
   "execution_count": null,
   "metadata": {},
   "outputs": [],
   "source": [
    "import pandas as pd\n",
    "import numpy as np\n",
    "from sklearn import preprocessing\n",
    "from sklearn.model_selection import train_test_split\n",
    "from sklearn.model_selection import cross_val_score\n",
    "from sklearn.model_selection import GridSearchCV\n",
    "from sklearn.neighbors import KNeighborsClassifier, KNeighborsRegressor\n",
    "from sklearn.svm import SVC\n",
    "from sklearn.tree import DecisionTreeClassifier, DecisionTreeRegressor\n",
    "from sklearn.ensemble import VotingClassifier\n",
    "from sklearn.ensemble import RandomForestClassifier, RandomForestRegressor\n",
    "from sklearn.ensemble import AdaBoostClassifier, AdaBoostRegressor\n",
    "from sklearn.ensemble import GradientBoostingClassifier, GradientBoostingRegressor\n",
    "from xgboost import XGBClassifier, XGBRegressor\n",
    "\n",
    "\n",
    "import pydotplus\n",
    "from IPython.display import Image\n",
    "from sklearn import tree"
   ]
  },
  {
   "cell_type": "code",
   "execution_count": null,
   "metadata": {},
   "outputs": [],
   "source": [
    "pd.options.display.max_columns = None"
   ]
  },
  {
   "cell_type": "code",
   "execution_count": null,
   "metadata": {},
   "outputs": [],
   "source": [
    "df = pd.read_csv('../data/curated/features_rounded_news_USD_pair_EURUSD_2007_2018.csv')"
   ]
  },
  {
   "cell_type": "code",
   "execution_count": null,
   "metadata": {},
   "outputs": [],
   "source": [
    "df.head(2)"
   ]
  },
  {
   "cell_type": "markdown",
   "metadata": {},
   "source": [
    "\n",
    "### Step 1. Split the dataset into two\n",
    "\n",
    "One with 'news' features and a separate one with 'market' features"
   ]
  },
  {
   "cell_type": "code",
   "execution_count": null,
   "metadata": {},
   "outputs": [],
   "source": [
    "df.columns.tolist()"
   ]
  },
  {
   "cell_type": "code",
   "execution_count": null,
   "metadata": {},
   "outputs": [],
   "source": [
    "df.head(1)"
   ]
  },
  {
   "cell_type": "code",
   "execution_count": null,
   "metadata": {},
   "outputs": [],
   "source": [
    "columns_of_interest_news = ['datetime',\n",
    "                             'forecast_error',\n",
    "                             'impact',\n",
    "                             'new',\n",
    "                             'previous_error',\n",
    "                             'datetime_gmt',\n",
    "                             'forecast_error_ratio',\n",
    "                             'previous_error_ratio',\n",
    "                             'total_error_ratio',\n",
    "                             'forecast_error_ratio_zscore',\n",
    "                             'total_error_ratio_zscore']"
   ]
  },
  {
   "cell_type": "code",
   "execution_count": null,
   "metadata": {},
   "outputs": [],
   "source": [
    "columns_to_predict = ['direction_agg_30_60_after']"
   ]
  },
  {
   "cell_type": "code",
   "execution_count": null,
   "metadata": {},
   "outputs": [],
   "source": [
    "columns_of_interest_market = [ 'close_0_5_after', 'low_0_5_after', 'high_0_5_after', \n",
    "                              'volatility_0_5_after', 'pips_agg_0_5_after', 'pips_candle_0_5_after', \n",
    "                              'direction_candle_0_5_after', 'direction_agg_0_5_after', \n",
    "                              'close_5_10_after', 'low_5_10_after', 'high_5_10_after', 'volatility_5_10_after', \n",
    "                              'pips_agg_5_10_after', 'pips_candle_5_10_after', 'direction_candle_5_10_after',\n",
    "                              'direction_agg_5_10_after',  'close_10_15_after', 'low_10_15_after', \n",
    "                              'high_10_15_after', 'volatility_10_15_after', 'pips_agg_10_15_after', 'pips_candle_10_15_after', \n",
    "                              'direction_candle_10_15_after', 'direction_agg_10_15_after',  'close_5_0_before', \n",
    "                              'low_5_0_before', 'high_5_0_before', 'volatility_5_0_before', 'pips_agg_5_0_before',\n",
    "                              'pips_candle_5_0_before', 'direction_candle_5_0_before', 'direction_agg_5_0_before', \n",
    "                               'close_10_5_before', 'low_10_5_before', 'high_10_5_before', 'volatility_10_5_before', \n",
    "                              'pips_agg_10_5_before', 'pips_candle_10_5_before', 'direction_candle_10_5_before', \n",
    "                              'direction_agg_10_5_before',  'close_15_10_before', 'low_15_10_before', \n",
    "                              'high_15_10_before', 'volatility_15_10_before', 'pips_agg_15_10_before', 'pips_candle_15_10_before',\n",
    "                              'direction_candle_15_10_before', 'direction_agg_15_10_before', 'close_20_15_before', \n",
    "                              'low_20_15_before', 'high_20_15_before', 'volatility_20_15_before', 'pips_agg_20_15_before', \n",
    "                              'pips_candle_20_15_before', 'direction_candle_20_15_before', 'direction_agg_20_15_before', \n",
    "                               'close_25_20_before', 'low_25_20_before', 'high_25_20_before', \n",
    "                              'volatility_25_20_before', 'pips_agg_25_20_before', 'pips_candle_25_20_before', \n",
    "                              'direction_candle_25_20_before', 'direction_agg_25_20_before',  \n",
    "                              'close_30_25_before', 'low_30_25_before', 'high_30_25_before', 'volatility_30_25_before', \n",
    "                              'pips_agg_30_25_before', 'pips_candle_30_25_before', 'direction_candle_30_25_before', \n",
    "                              'direction_agg_30_25_before', 'close_45_30_before', 'low_45_30_before', \n",
    "                              'high_45_30_before', 'volatility_45_30_before', 'pips_agg_45_30_before', 'pips_candle_45_30_before', \n",
    "                              'direction_candle_45_30_before', 'direction_agg_45_30_before', \n",
    "                              'close_60_45_before', 'low_60_45_before', 'high_60_45_before', 'volatility_60_45_before',\n",
    "                              'pips_agg_60_45_before', 'pips_candle_60_45_before', 'direction_candle_60_45_before', \n",
    "                              'direction_agg_60_45_before', 'close_60_30_before', 'low_60_30_before', \n",
    "                              'high_60_30_before', 'volatility_60_30_before', 'pips_agg_60_30_before', 'pips_candle_60_30_before', \n",
    "                              'direction_candle_60_30_before', 'direction_agg_60_30_before', \n",
    "                              'close_90_60_before', 'low_90_60_before', 'high_90_60_before', 'volatility_90_60_before', \n",
    "                              'pips_agg_90_60_before', 'pips_candle_90_60_before', 'direction_candle_90_60_before', \n",
    "                              'direction_agg_90_60_before',  'close_120_90_before', 'low_120_90_before',\n",
    "                              'high_120_90_before', 'volatility_120_90_before', 'pips_agg_120_90_before', 'pips_candle_120_90_before', \n",
    "                              'direction_candle_120_90_before', 'direction_agg_120_90_before', \n",
    "                              'close_150_120_before', 'low_150_120_before', 'high_150_120_before', 'volatility_150_120_before',\n",
    "                              'pips_agg_150_120_before', 'pips_candle_150_120_before', 'direction_candle_150_120_before', \n",
    "                              'direction_agg_150_120_before', 'close_180_150_before', 'low_180_150_before',\n",
    "                              'high_180_150_before', 'volatility_180_150_before', 'pips_agg_180_150_before', 'pips_candle_180_150_before',\n",
    "                              'direction_candle_180_150_before', 'direction_agg_180_150_before',  \n",
    "                              'close_210_180_before', 'low_210_180_before', 'high_210_180_before', 'volatility_210_180_before',\n",
    "                              'pips_agg_210_180_before', 'pips_candle_210_180_before', 'direction_candle_210_180_before',\n",
    "                              'direction_agg_210_180_before', 'close_240_210_before', 'low_240_210_before', \n",
    "                              'high_240_210_before', 'volatility_240_210_before', 'pips_agg_240_210_before', \n",
    "                              'pips_candle_240_210_before', 'direction_candle_240_210_before', 'direction_agg_240_210_before', \n",
    "                              'datetime', 'direction_agg_30_60_after', 'pips_agg_30_60_after']"
   ]
  },
  {
   "cell_type": "code",
   "execution_count": null,
   "metadata": {},
   "outputs": [],
   "source": [
    "len(df)"
   ]
  },
  {
   "cell_type": "code",
   "execution_count": null,
   "metadata": {},
   "outputs": [],
   "source": [
    "df_news = df[columns_of_interest_news].copy()"
   ]
  },
  {
   "cell_type": "code",
   "execution_count": null,
   "metadata": {},
   "outputs": [],
   "source": [
    "df_market = df[columns_of_interest_market].copy()"
   ]
  },
  {
   "cell_type": "code",
   "execution_count": null,
   "metadata": {},
   "outputs": [],
   "source": [
    "df_news.head(2)"
   ]
  },
  {
   "cell_type": "code",
   "execution_count": null,
   "metadata": {},
   "outputs": [],
   "source": [
    "df_market.head(2)"
   ]
  },
  {
   "cell_type": "markdown",
   "metadata": {},
   "source": [
    "### Step 2. Transform categorical features into numerical ones as follows\n",
    "\n",
    "1. Some variables will be encoded using One Hot encoder:\n",
    "    - forecast_error\n",
    "    - previous_error \n",
    "    - impact\n",
    "2. fit transform for the name of the news"
   ]
  },
  {
   "cell_type": "code",
   "execution_count": null,
   "metadata": {},
   "outputs": [],
   "source": [
    "df_news.select_dtypes(include='object').head(2)"
   ]
  },
  {
   "cell_type": "code",
   "execution_count": null,
   "metadata": {},
   "outputs": [],
   "source": [
    "le = preprocessing.LabelEncoder()\n",
    "\n",
    "df_news['new_id'] = le.fit_transform(df_news['new'])\n",
    "\n",
    "dummy_forecast_error = pd.get_dummies(df_news['forecast_error'])\n",
    "dummy_forecast_error.columns = ['fe_accurate', 'fe_better', 'fe_worse']\n",
    "dummy_previous_error = pd.get_dummies(df_news['previous_error'])\n",
    "dummy_previous_error.columns = ['pe_accurate', 'pe_better', 'pe_worse']\n",
    "dummy_impact = pd.get_dummies(df_news['impact'])"
   ]
  },
  {
   "cell_type": "code",
   "execution_count": null,
   "metadata": {},
   "outputs": [],
   "source": [
    "dummy_previous_error.head(2)"
   ]
  },
  {
   "cell_type": "code",
   "execution_count": null,
   "metadata": {},
   "outputs": [],
   "source": [
    "dummy_impact.head(2)"
   ]
  },
  {
   "cell_type": "code",
   "execution_count": null,
   "metadata": {},
   "outputs": [],
   "source": [
    "len(df_news)"
   ]
  },
  {
   "cell_type": "code",
   "execution_count": null,
   "metadata": {},
   "outputs": [],
   "source": [
    "df_news = pd.concat([df_news, dummy_forecast_error, dummy_previous_error, dummy_impact], axis=1)\n",
    "df_news.head(2)"
   ]
  },
  {
   "cell_type": "code",
   "execution_count": null,
   "metadata": {},
   "outputs": [],
   "source": [
    "len(df_news)"
   ]
  },
  {
   "cell_type": "code",
   "execution_count": null,
   "metadata": {},
   "outputs": [],
   "source": [
    "df_news = df_news.drop(['new', 'datetime_gmt', 'forecast_error', 'impact', 'previous_error'], axis=1)"
   ]
  },
  {
   "cell_type": "code",
   "execution_count": null,
   "metadata": {},
   "outputs": [],
   "source": [
    "df_news['new_id'] = df_news['new_id'].astype(str)"
   ]
  },
  {
   "cell_type": "code",
   "execution_count": null,
   "metadata": {},
   "outputs": [],
   "source": [
    "df_news.head(2)"
   ]
  },
  {
   "cell_type": "code",
   "execution_count": null,
   "metadata": {},
   "outputs": [],
   "source": [
    "len(list(df_news.columns))"
   ]
  },
  {
   "cell_type": "code",
   "execution_count": null,
   "metadata": {},
   "outputs": [],
   "source": [
    "len(df_news)"
   ]
  },
  {
   "cell_type": "markdown",
   "metadata": {},
   "source": [
    "### Step 3: Group news by datetime of publication"
   ]
  },
  {
   "cell_type": "code",
   "execution_count": null,
   "metadata": {},
   "outputs": [],
   "source": [
    "df_by_datetime_baseline = df_news.groupby('datetime').agg({'new_id': lambda x:list(x), \n",
    "                                                 'forecast_error_ratio': lambda x:list(x),\n",
    "                                                 'forecast_error_ratio_zscore': lambda x:list(x),\n",
    "                                                 'previous_error_ratio': lambda x:list(x),\n",
    "                                                 'forecast_error_ratio_zscore': lambda x:list(x),\n",
    "                                                 'total_error_ratio': lambda x:list(x),\n",
    "                                                 'total_error_ratio_zscore': lambda x:list(x),\n",
    "                                                 'fe_accurate': lambda x:list(x),\n",
    "                                                 'fe_better': lambda x:list(x),\n",
    "                                                 'fe_worse': lambda x:list(x),\n",
    "                                                 'pe_accurate': lambda x:list(x),\n",
    "                                                 'pe_better': lambda x:list(x),\n",
    "                                                 'pe_worse': lambda x:list(x),\n",
    "                                                 'High': lambda x:list(x),\n",
    "                                                 'Low': lambda x:list(x),\n",
    "                                                 'Medium': lambda x:list(x)\n",
    "                                                }).reset_index()\n"
   ]
  },
  {
   "cell_type": "code",
   "execution_count": null,
   "metadata": {},
   "outputs": [],
   "source": [
    "df_by_datetime_baseline['num_news'] = df_by_datetime_baseline['new_id'].apply(lambda x: len(x))\n",
    "df_by_datetime_baseline['new_id'] = df_by_datetime_baseline['new_id'].apply(lambda x: ['_'.join(x)])\n",
    "df_by_datetime_baseline.head(2)"
   ]
  },
  {
   "cell_type": "code",
   "execution_count": null,
   "metadata": {},
   "outputs": [],
   "source": [
    "df_by_datetime_baseline[df_by_datetime_baseline['num_news'] != 1].head(2)"
   ]
  },
  {
   "cell_type": "markdown",
   "metadata": {},
   "source": [
    "Which % of news are published on their own?"
   ]
  },
  {
   "cell_type": "code",
   "execution_count": null,
   "metadata": {},
   "outputs": [],
   "source": [
    "len(df_by_datetime_baseline[df_by_datetime_baseline['num_news'] == 1]) *100 /len(df_by_datetime_baseline)"
   ]
  },
  {
   "cell_type": "markdown",
   "metadata": {},
   "source": [
    "### Model1: weight=1 to all news, regardless the \"impact\" classification"
   ]
  },
  {
   "cell_type": "markdown",
   "metadata": {},
   "source": [
    "- weight = 1 to all news, regardless the 'impact' classification\n",
    "- including open-high-low-close as well as volatility / pip / etc for each timestamp. Some information is redundant"
   ]
  },
  {
   "cell_type": "code",
   "execution_count": null,
   "metadata": {},
   "outputs": [],
   "source": [
    "df_model_1 = df_by_datetime_baseline.copy()"
   ]
  },
  {
   "cell_type": "code",
   "execution_count": null,
   "metadata": {},
   "outputs": [],
   "source": [
    "df_model_1['new_id'] = df_model_1['new_id'].apply(lambda x: x[0])"
   ]
  },
  {
   "cell_type": "code",
   "execution_count": null,
   "metadata": {},
   "outputs": [],
   "source": [
    "df_model_1.head(2)"
   ]
  },
  {
   "cell_type": "code",
   "execution_count": null,
   "metadata": {},
   "outputs": [],
   "source": [
    "columns = df_model_1.columns[2:-1]"
   ]
  },
  {
   "cell_type": "code",
   "execution_count": null,
   "metadata": {},
   "outputs": [],
   "source": [
    "columns"
   ]
  },
  {
   "cell_type": "code",
   "execution_count": null,
   "metadata": {},
   "outputs": [],
   "source": [
    "for field in columns:\n",
    "    df_model_1[field] = df_model_1[field].apply(lambda x: sum(x))\n",
    "\n"
   ]
  },
  {
   "cell_type": "code",
   "execution_count": null,
   "metadata": {},
   "outputs": [],
   "source": [
    "df_model_1[df_model_1['num_news'] != 1].head(2)"
   ]
  },
  {
   "cell_type": "code",
   "execution_count": null,
   "metadata": {},
   "outputs": [],
   "source": [
    "df_by_datetime_baseline[df_by_datetime_baseline['num_news'] != 1].head(2)"
   ]
  },
  {
   "cell_type": "code",
   "execution_count": null,
   "metadata": {},
   "outputs": [],
   "source": [
    "len(df_model_1)"
   ]
  },
  {
   "cell_type": "markdown",
   "metadata": {},
   "source": [
    "## Join this new dataframe with the pair information"
   ]
  },
  {
   "cell_type": "code",
   "execution_count": null,
   "metadata": {},
   "outputs": [],
   "source": [
    "len(df_market)"
   ]
  },
  {
   "cell_type": "code",
   "execution_count": null,
   "metadata": {},
   "outputs": [],
   "source": [
    "df_market = df_market.drop_duplicates()"
   ]
  },
  {
   "cell_type": "code",
   "execution_count": null,
   "metadata": {},
   "outputs": [],
   "source": [
    "df_model_1 = df_model_1.merge(df_market, on='datetime', how='left')\n",
    "df_model_1.head(2)"
   ]
  },
  {
   "cell_type": "code",
   "execution_count": null,
   "metadata": {},
   "outputs": [],
   "source": [
    "len(df_model_1)"
   ]
  },
  {
   "cell_type": "code",
   "execution_count": null,
   "metadata": {},
   "outputs": [],
   "source": [
    "df_model_1[df_model_1['num_news'] != 1].head(2)"
   ]
  },
  {
   "cell_type": "code",
   "execution_count": null,
   "metadata": {},
   "outputs": [],
   "source": [
    "columns_to_predict"
   ]
  },
  {
   "cell_type": "code",
   "execution_count": null,
   "metadata": {},
   "outputs": [],
   "source": [
    "columns_model = list(set(df_model_1.columns) - set(columns_to_predict) - set(['datetime']))\n",
    "columns_model"
   ]
  },
  {
   "cell_type": "code",
   "execution_count": 431,
   "metadata": {},
   "outputs": [],
   "source": [
    "X = df_model_1[columns_model].values\n",
    "y = df_model_1['direction_agg_30_60_after'].values\n"
   ]
  },
  {
   "cell_type": "code",
   "execution_count": 432,
   "metadata": {},
   "outputs": [],
   "source": [
    "clf_kn = GridSearchCV(KNeighborsClassifier (n_neighbors=1),\n",
    "                    param_grid={\"n_neighbors\":[1,5,10,15]},\n",
    "                   scoring=\"accuracy\",\n",
    "                   cv=5)"
   ]
  },
  {
   "cell_type": "code",
   "execution_count": 433,
   "metadata": {},
   "outputs": [
    {
     "data": {
      "text/plain": [
       "GridSearchCV(cv=5, error_score='raise',\n",
       "       estimator=KNeighborsClassifier(algorithm='auto', leaf_size=30, metric='minkowski',\n",
       "           metric_params=None, n_jobs=1, n_neighbors=1, p=2,\n",
       "           weights='uniform'),\n",
       "       fit_params=None, iid=True, n_jobs=1,\n",
       "       param_grid={'n_neighbors': [1, 5, 10, 15]}, pre_dispatch='2*n_jobs',\n",
       "       refit=True, return_train_score='warn', scoring='accuracy',\n",
       "       verbose=0)"
      ]
     },
     "execution_count": 433,
     "metadata": {},
     "output_type": "execute_result"
    }
   ],
   "source": [
    "clf_kn.fit(X,y)"
   ]
  },
  {
   "cell_type": "code",
   "execution_count": 434,
   "metadata": {},
   "outputs": [
    {
     "data": {
      "text/plain": [
       "0.3447368421052632"
      ]
     },
     "execution_count": 434,
     "metadata": {},
     "output_type": "execute_result"
    }
   ],
   "source": [
    "clf_kn.best_score_"
   ]
  },
  {
   "cell_type": "code",
   "execution_count": null,
   "metadata": {},
   "outputs": [],
   "source": [
    "clf_kn.best"
   ]
  },
  {
   "cell_type": "code",
   "execution_count": 435,
   "metadata": {},
   "outputs": [],
   "source": [
    "clf_kn = GridSearchCV(KNeighborsClassifier (n_neighbors=1),\n",
    "                    param_grid={\"n_neighbors\":[5,7,8,9,10,11,12,13,14,15]},\n",
    "                   scoring=\"accuracy\",\n",
    "                   cv=5)"
   ]
  },
  {
   "cell_type": "code",
   "execution_count": 436,
   "metadata": {},
   "outputs": [
    {
     "data": {
      "text/plain": [
       "GridSearchCV(cv=5, error_score='raise',\n",
       "       estimator=KNeighborsClassifier(algorithm='auto', leaf_size=30, metric='minkowski',\n",
       "           metric_params=None, n_jobs=1, n_neighbors=1, p=2,\n",
       "           weights='uniform'),\n",
       "       fit_params=None, iid=True, n_jobs=1,\n",
       "       param_grid={'n_neighbors': [5, 7, 8, 9, 10, 11, 12, 13, 14, 15]},\n",
       "       pre_dispatch='2*n_jobs', refit=True, return_train_score='warn',\n",
       "       scoring='accuracy', verbose=0)"
      ]
     },
     "execution_count": 436,
     "metadata": {},
     "output_type": "execute_result"
    }
   ],
   "source": [
    "clf_kn.fit(X,y)"
   ]
  },
  {
   "cell_type": "code",
   "execution_count": 437,
   "metadata": {},
   "outputs": [
    {
     "data": {
      "text/plain": [
       "0.3476780185758514"
      ]
     },
     "execution_count": 437,
     "metadata": {},
     "output_type": "execute_result"
    }
   ],
   "source": [
    "clf_kn.best_score_"
   ]
  },
  {
   "cell_type": "code",
   "execution_count": 438,
   "metadata": {},
   "outputs": [
    {
     "data": {
      "text/plain": [
       "{'n_neighbors': 14}"
      ]
     },
     "execution_count": 438,
     "metadata": {},
     "output_type": "execute_result"
    }
   ],
   "source": [
    "clf_kn.best_params_"
   ]
  },
  {
   "cell_type": "code",
   "execution_count": 439,
   "metadata": {},
   "outputs": [],
   "source": [
    "clf_dt = GridSearchCV(DecisionTreeClassifier(min_samples_leaf=20,max_depth=3),\n",
    "                            param_grid={\"min_samples_leaf\": [10,20,30,50,100], \"max_depth\":range(2,7)},\n",
    "                               scoring=\"accuracy\",\n",
    "                               cv=5)\n"
   ]
  },
  {
   "cell_type": "code",
   "execution_count": 440,
   "metadata": {},
   "outputs": [
    {
     "data": {
      "text/plain": [
       "GridSearchCV(cv=5, error_score='raise',\n",
       "       estimator=DecisionTreeClassifier(class_weight=None, criterion='gini', max_depth=3,\n",
       "            max_features=None, max_leaf_nodes=None,\n",
       "            min_impurity_decrease=0.0, min_impurity_split=None,\n",
       "            min_samples_leaf=20, min_samples_split=2,\n",
       "            min_weight_fraction_leaf=0.0, presort=False, random_state=None,\n",
       "            splitter='best'),\n",
       "       fit_params=None, iid=True, n_jobs=1,\n",
       "       param_grid={'min_samples_leaf': [10, 20, 30, 50, 100], 'max_depth': range(2, 7)},\n",
       "       pre_dispatch='2*n_jobs', refit=True, return_train_score='warn',\n",
       "       scoring='accuracy', verbose=0)"
      ]
     },
     "execution_count": 440,
     "metadata": {},
     "output_type": "execute_result"
    }
   ],
   "source": [
    "clf_dt.fit(X,y)"
   ]
  },
  {
   "cell_type": "code",
   "execution_count": 441,
   "metadata": {},
   "outputs": [
    {
     "data": {
      "text/plain": [
       "1.0"
      ]
     },
     "execution_count": 441,
     "metadata": {},
     "output_type": "execute_result"
    }
   ],
   "source": [
    "clf_dt.best_score_"
   ]
  },
  {
   "cell_type": "code",
   "execution_count": 442,
   "metadata": {},
   "outputs": [
    {
     "data": {
      "text/plain": [
       "{'max_depth': 4, 'min_samples_leaf': 10}"
      ]
     },
     "execution_count": 442,
     "metadata": {},
     "output_type": "execute_result"
    }
   ],
   "source": [
    "clf_dt.best_params_"
   ]
  },
  {
   "cell_type": "code",
   "execution_count": 443,
   "metadata": {},
   "outputs": [
    {
     "data": {
      "text/plain": [
       "DecisionTreeClassifier(class_weight=None, criterion='gini', max_depth=2,\n",
       "            max_features=None, max_leaf_nodes=None,\n",
       "            min_impurity_decrease=0.0, min_impurity_split=None,\n",
       "            min_samples_leaf=10, min_samples_split=2,\n",
       "            min_weight_fraction_leaf=0.0, presort=False, random_state=None,\n",
       "            splitter='best')"
      ]
     },
     "execution_count": 443,
     "metadata": {},
     "output_type": "execute_result"
    }
   ],
   "source": [
    "clfd = DecisionTreeClassifier(max_depth=2, min_samples_leaf=10)\n",
    "clfd.fit(X,y)"
   ]
  },
  {
   "cell_type": "code",
   "execution_count": 444,
   "metadata": {},
   "outputs": [
    {
     "data": {
      "image/png": "[encoded data removed]",
      "text/plain": [
       "<IPython.core.display.Image object>"
      ]
     },
     "execution_count": 444,
     "metadata": {},
     "output_type": "execute_result"
    }
   ],
   "source": [
    "dot_data = tree.export_graphviz(clfd,out_file=None, filled=True, feature_names=columns_model,\n",
    "                               class_names=[\"Low\", \"Medium\", \"High\"])\n",
    "\n",
    "\n",
    "graph=pydotplus.graph_from_dot_data(dot_data)\n",
    "Image(graph.create_png())"
   ]
  },
  {
   "cell_type": "code",
   "execution_count": 445,
   "metadata": {},
   "outputs": [
    {
     "data": {
      "text/plain": [
       "0.6812013250409675"
      ]
     },
     "execution_count": 445,
     "metadata": {},
     "output_type": "execute_result"
    }
   ],
   "source": [
    "clfr = RandomForestClassifier(min_samples_leaf=10,n_estimators=100,oob_score=True)\n",
    "cross_val_score(clfr,X,y,scoring=\"accuracy\",cv=5).mean()\n"
   ]
  },
  {
   "cell_type": "code",
   "execution_count": 446,
   "metadata": {},
   "outputs": [
    {
     "data": {
      "text/plain": [
       "0.8007739938080496"
      ]
     },
     "execution_count": 446,
     "metadata": {},
     "output_type": "execute_result"
    }
   ],
   "source": [
    "clfr.fit(X,y)\n",
    "clfr.oob_score_"
   ]
  },
  {
   "cell_type": "code",
   "execution_count": 447,
   "metadata": {},
   "outputs": [
    {
     "data": {
      "text/plain": [
       "1.0"
      ]
     },
     "execution_count": 447,
     "metadata": {},
     "output_type": "execute_result"
    }
   ],
   "source": [
    "clfa = AdaBoostClassifier(base_estimator=DecisionTreeClassifier(max_depth=2),\n",
    "                          n_estimators=100)\n",
    "cross_val_score(clfa,X,y,scoring=\"accuracy\",cv=5).mean()"
   ]
  },
  {
   "cell_type": "code",
   "execution_count": 448,
   "metadata": {},
   "outputs": [
    {
     "data": {
      "text/plain": [
       "1.0"
      ]
     },
     "execution_count": 448,
     "metadata": {},
     "output_type": "execute_result"
    }
   ],
   "source": [
    "clfb = GradientBoostingClassifier(n_estimators=100)\n",
    "cross_val_score(clfb,X,y,scoring=\"accuracy\",cv=5).mean()"
   ]
  },
  {
   "cell_type": "code",
   "execution_count": 449,
   "metadata": {},
   "outputs": [
    {
     "name": "stderr",
     "output_type": "stream",
     "text": [
      "/anaconda3/lib/python3.6/site-packages/sklearn/preprocessing/label.py:151: DeprecationWarning: The truth value of an empty array is ambiguous. Returning False, but in future this will result in an error. Use `array.size > 0` to check that an array is not empty.\n",
      "  if diff:\n",
      "/anaconda3/lib/python3.6/site-packages/sklearn/preprocessing/label.py:151: DeprecationWarning: The truth value of an empty array is ambiguous. Returning False, but in future this will result in an error. Use `array.size > 0` to check that an array is not empty.\n",
      "  if diff:\n",
      "/anaconda3/lib/python3.6/site-packages/sklearn/preprocessing/label.py:151: DeprecationWarning: The truth value of an empty array is ambiguous. Returning False, but in future this will result in an error. Use `array.size > 0` to check that an array is not empty.\n",
      "  if diff:\n",
      "/anaconda3/lib/python3.6/site-packages/sklearn/preprocessing/label.py:151: DeprecationWarning: The truth value of an empty array is ambiguous. Returning False, but in future this will result in an error. Use `array.size > 0` to check that an array is not empty.\n",
      "  if diff:\n",
      "/anaconda3/lib/python3.6/site-packages/sklearn/preprocessing/label.py:151: DeprecationWarning: The truth value of an empty array is ambiguous. Returning False, but in future this will result in an error. Use `array.size > 0` to check that an array is not empty.\n",
      "  if diff:\n"
     ]
    },
    {
     "data": {
      "text/plain": [
       "1.0"
      ]
     },
     "execution_count": 449,
     "metadata": {},
     "output_type": "execute_result"
    }
   ],
   "source": [
    "clfxb = XGBClassifier(n_estimators=100)\n",
    "cross_val_score(clfxb,X,y,scoring=\"accuracy\",cv=5).mean()"
   ]
  },
  {
   "cell_type": "code",
   "execution_count": 450,
   "metadata": {},
   "outputs": [],
   "source": [
    "clf_voting = VotingClassifier(estimators=[(\"kneigh\",clf_kn),(\"dec\",clfd), (\"boost\", clfb)])"
   ]
  },
  {
   "cell_type": "code",
   "execution_count": null,
   "metadata": {},
   "outputs": [
    {
     "name": "stderr",
     "output_type": "stream",
     "text": [
      "/anaconda3/lib/python3.6/site-packages/sklearn/preprocessing/label.py:151: DeprecationWarning: The truth value of an empty array is ambiguous. Returning False, but in future this will result in an error. Use `array.size > 0` to check that an array is not empty.\n",
      "  if diff:\n",
      "/anaconda3/lib/python3.6/site-packages/sklearn/preprocessing/label.py:151: DeprecationWarning: The truth value of an empty array is ambiguous. Returning False, but in future this will result in an error. Use `array.size > 0` to check that an array is not empty.\n",
      "  if diff:\n",
      "/anaconda3/lib/python3.6/site-packages/sklearn/preprocessing/label.py:151: DeprecationWarning: The truth value of an empty array is ambiguous. Returning False, but in future this will result in an error. Use `array.size > 0` to check that an array is not empty.\n",
      "  if diff:\n"
     ]
    }
   ],
   "source": [
    "cross_val_score(clf_voting,X,y,scoring=\"accuracy\",cv=5).mean()"
   ]
  },
  {
   "cell_type": "markdown",
   "metadata": {},
   "source": [
    "--- "
   ]
  },
  {
   "cell_type": "markdown",
   "metadata": {},
   "source": [
    "## First regression models to predict pips variation"
   ]
  },
  {
   "cell_type": "code",
   "execution_count": 102,
   "metadata": {},
   "outputs": [],
   "source": [
    "X = df_model_1[columns_model].values\n",
    "y = df_model_1['pips_agg_60_90_after'].values"
   ]
  },
  {
   "cell_type": "code",
   "execution_count": 103,
   "metadata": {},
   "outputs": [
    {
     "data": {
      "text/plain": [
       "GridSearchCV(cv=None, error_score='raise',\n",
       "       estimator=KNeighborsRegressor(algorithm='auto', leaf_size=30, metric='minkowski',\n",
       "          metric_params=None, n_jobs=1, n_neighbors=1, p=2,\n",
       "          weights='uniform'),\n",
       "       fit_params=None, iid=True, n_jobs=1,\n",
       "       param_grid={'n_neighbors': [40, 50, 60, 100]},\n",
       "       pre_dispatch='2*n_jobs', refit=True, return_train_score='warn',\n",
       "       scoring='neg_mean_squared_error', verbose=0)"
      ]
     },
     "execution_count": 103,
     "metadata": {},
     "output_type": "execute_result"
    }
   ],
   "source": [
    "reg_kn = GridSearchCV(KNeighborsRegressor(n_neighbors=1),\n",
    "                   param_grid={\"n_neighbors\":[40, 50, 60, 100]},\n",
    "                   scoring=\"neg_mean_squared_error\")\n",
    "reg_kn.fit(X,y)"
   ]
  },
  {
   "cell_type": "code",
   "execution_count": 104,
   "metadata": {},
   "outputs": [
    {
     "data": {
      "text/plain": [
       "32.38161750196157"
      ]
     },
     "execution_count": 104,
     "metadata": {},
     "output_type": "execute_result"
    }
   ],
   "source": [
    "np.sqrt(-reg_kn.best_score_)"
   ]
  },
  {
   "cell_type": "code",
   "execution_count": 105,
   "metadata": {},
   "outputs": [
    {
     "data": {
      "text/plain": [
       "{'n_neighbors': 100}"
      ]
     },
     "execution_count": 105,
     "metadata": {},
     "output_type": "execute_result"
    }
   ],
   "source": [
    "reg_kn.best_params_"
   ]
  },
  {
   "cell_type": "code",
   "execution_count": 106,
   "metadata": {},
   "outputs": [
    {
     "name": "stdout",
     "output_type": "stream",
     "text": [
      "27.814720207660393\n",
      "{'max_depth': 3, 'min_samples_leaf': 30}\n"
     ]
    }
   ],
   "source": [
    "reg_dt = GridSearchCV(DecisionTreeRegressor(min_samples_leaf=1, max_depth=1),\n",
    "                   param_grid={\"max_depth\":range(2,5), \"min_samples_leaf\":[10,20,30,40,50,60,70]},\n",
    "                   scoring=\"neg_mean_squared_error\")\n",
    "\n",
    "reg_dt.fit(X,y)\n",
    "print(np.sqrt(-reg_dt.best_score_))\n",
    "print(reg_dt.best_params_)"
   ]
  },
  {
   "cell_type": "code",
   "execution_count": 107,
   "metadata": {},
   "outputs": [
    {
     "name": "stdout",
     "output_type": "stream",
     "text": [
      "27.83422841548516\n",
      "{'min_samples_leaf': 15}\n"
     ]
    }
   ],
   "source": [
    "reg_rf = GridSearchCV(RandomForestRegressor(min_samples_leaf=30, n_estimators=100),\n",
    "                   param_grid={\"min_samples_leaf\":[1,2,3,5,10,15]},\n",
    "                   scoring=\"neg_mean_squared_error\")\n",
    "\n",
    "reg_rf.fit(X,y)\n",
    "print(np.sqrt(-reg_rf.best_score_))\n",
    "print(reg_rf.best_params_)"
   ]
  },
  {
   "cell_type": "code",
   "execution_count": 108,
   "metadata": {},
   "outputs": [
    {
     "name": "stdout",
     "output_type": "stream",
     "text": [
      "27.816038048405858\n",
      "{}\n"
     ]
    }
   ],
   "source": [
    "reg_xgb = GridSearchCV(XGBRegressor(n_estimators=100),\n",
    "                   param_grid={},\n",
    "                   scoring=\"neg_mean_squared_error\")\n",
    "\n",
    "reg_xgb.fit(X,y)\n",
    "print(np.sqrt(-reg_xgb.best_score_))\n",
    "print(reg_xgb.best_params_)\n"
   ]
  },
  {
   "cell_type": "code",
   "execution_count": 109,
   "metadata": {},
   "outputs": [
    {
     "name": "stdout",
     "output_type": "stream",
     "text": [
      "27.88501523042984\n",
      "{}\n"
     ]
    }
   ],
   "source": [
    "reg_gbr = GridSearchCV(GradientBoostingRegressor(n_estimators=100),\n",
    "                   param_grid={},\n",
    "                   scoring=\"neg_mean_squared_error\")\n",
    "\n",
    "reg_gbr.fit(X,y)\n",
    "print(np.sqrt(-reg_gbr.best_score_))\n",
    "print(reg_gbr.best_params_)"
   ]
  },
  {
   "cell_type": "code",
   "execution_count": null,
   "metadata": {},
   "outputs": [],
   "source": []
  },
  {
   "cell_type": "code",
   "execution_count": null,
   "metadata": {},
   "outputs": [],
   "source": []
  },
  {
   "cell_type": "code",
   "execution_count": null,
   "metadata": {},
   "outputs": [],
   "source": []
  }
 ],
 "metadata": {
  "kernelspec": {
   "display_name": "Python 3",
   "language": "python",
   "name": "python3"
  },
  "language_info": {
   "codemirror_mode": {
    "name": "ipython",
    "version": 3
   },
   "file_extension": ".py",
   "mimetype": "text/x-python",
   "name": "python",
   "nbconvert_exporter": "python",
   "pygments_lexer": "ipython3",
   "version": "3.6.5"
  }
 },
 "nbformat": 4,
 "nbformat_minor": 2
}
