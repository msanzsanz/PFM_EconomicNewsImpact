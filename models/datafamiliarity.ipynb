{
 "cells": [
  {
   "cell_type": "markdown",
   "metadata": {},
   "source": [
    "Objectives:\n",
    "\n",
    "1. Decide the thresholds that make sense for the classification of the new into:\n",
    "    - No impact, the EURUSD exchange rate won´t be affected\n",
    "    - High positive impact, with positive pips variation\n",
    "    - High negative impact, with negative pips variation  \n",
    "      \n",
    "2. Does it make sense to split the data in different clusters using non-supervised techniques?"
   ]
  },
  {
   "cell_type": "code",
   "execution_count": 23,
   "metadata": {},
   "outputs": [],
   "source": [
    "import pandas as pd\n",
    "import numpy as np"
   ]
  },
  {
   "cell_type": "code",
   "execution_count": 2,
   "metadata": {},
   "outputs": [],
   "source": [
    "%matplotlib inline "
   ]
  },
  {
   "cell_type": "code",
   "execution_count": 3,
   "metadata": {},
   "outputs": [],
   "source": [
    "pd.set_option('display.max_columns', 100)\n",
    "pd.set_option('display.width', 1000)\n",
    "\n",
    "df = pd.read_csv('../data/curated/features_news_USD_pair_EURUSD_2007_2018.csv')"
   ]
  },
  {
   "cell_type": "code",
   "execution_count": 4,
   "metadata": {},
   "outputs": [
    {
     "data": {
      "text/html": [
       "<div>\n",
       "<style scoped>\n",
       "    .dataframe tbody tr th:only-of-type {\n",
       "        vertical-align: middle;\n",
       "    }\n",
       "\n",
       "    .dataframe tbody tr th {\n",
       "        vertical-align: top;\n",
       "    }\n",
       "\n",
       "    .dataframe thead th {\n",
       "        text-align: right;\n",
       "    }\n",
       "</style>\n",
       "<table border=\"1\" class=\"dataframe\">\n",
       "  <thead>\n",
       "    <tr style=\"text-align: right;\">\n",
       "      <th></th>\n",
       "      <th>datetime_gmt</th>\n",
       "      <th>actual</th>\n",
       "      <th>country</th>\n",
       "      <th>datetime</th>\n",
       "      <th>forecast</th>\n",
       "      <th>forecast_error</th>\n",
       "      <th>impact</th>\n",
       "      <th>new</th>\n",
       "      <th>previous</th>\n",
       "      <th>previous_error</th>\n",
       "      <th>week</th>\n",
       "      <th>forecast_error_ratio</th>\n",
       "      <th>year</th>\n",
       "      <th>quarter</th>\n",
       "      <th>month</th>\n",
       "      <th>weekday</th>\n",
       "      <th>volatility_60_0_before</th>\n",
       "      <th>pips_agg_60_0_before</th>\n",
       "      <th>volatility_0_45_after</th>\n",
       "      <th>pips_agg_0_45_after</th>\n",
       "      <th>volatility_0_60_after</th>\n",
       "      <th>pips_agg_0_60_after</th>\n",
       "      <th>volatility_0_90_after</th>\n",
       "      <th>pips_agg_0_90_after</th>\n",
       "      <th>volatility_0_120_after</th>\n",
       "      <th>pips_agg_0_120_after</th>\n",
       "      <th>volatility_0_150_after</th>\n",
       "      <th>pips_agg_0_150_after</th>\n",
       "      <th>volatility_0_180_after</th>\n",
       "      <th>pips_agg_0_180_after</th>\n",
       "      <th>volatility_0_210_after</th>\n",
       "      <th>pips_agg_0_210_after</th>\n",
       "      <th>volatility_0_240_after</th>\n",
       "      <th>pips_agg_0_240_after</th>\n",
       "      <th>open_released</th>\n",
       "      <th>high_released</th>\n",
       "      <th>low_released</th>\n",
       "      <th>close_released</th>\n",
       "      <th>high_0_5_after</th>\n",
       "      <th>low_0_5_after</th>\n",
       "      <th>close_0_5_after</th>\n",
       "      <th>volatility_0_5_after</th>\n",
       "      <th>direction_candle_0_5_after</th>\n",
       "      <th>direction_agg_0_5_after</th>\n",
       "      <th>pips_agg_0_5_after</th>\n",
       "      <th>pips_candle_0_5_after</th>\n",
       "      <th>high_5_10_after</th>\n",
       "      <th>low_5_10_after</th>\n",
       "      <th>close_5_10_after</th>\n",
       "      <th>volatility_5_10_after</th>\n",
       "      <th>direction_candle_5_10_after</th>\n",
       "      <th>direction_agg_5_10_after</th>\n",
       "      <th>pips_agg_5_10_after</th>\n",
       "      <th>pips_candle_5_10_after</th>\n",
       "      <th>high_10_15_after</th>\n",
       "      <th>low_10_15_after</th>\n",
       "      <th>close_10_15_after</th>\n",
       "      <th>volatility_10_15_after</th>\n",
       "      <th>direction_candle_10_15_after</th>\n",
       "      <th>direction_agg_10_15_after</th>\n",
       "      <th>pips_agg_10_15_after</th>\n",
       "      <th>pips_candle_10_15_after</th>\n",
       "      <th>high_15_20_after</th>\n",
       "      <th>low_15_20_after</th>\n",
       "      <th>close_15_20_after</th>\n",
       "      <th>volatility_15_20_after</th>\n",
       "      <th>direction_candle_15_20_after</th>\n",
       "      <th>direction_agg_15_20_after</th>\n",
       "      <th>pips_agg_15_20_after</th>\n",
       "      <th>pips_candle_15_20_after</th>\n",
       "      <th>high_20_25_after</th>\n",
       "      <th>low_20_25_after</th>\n",
       "      <th>close_20_25_after</th>\n",
       "      <th>volatility_20_25_after</th>\n",
       "      <th>direction_candle_20_25_after</th>\n",
       "      <th>direction_agg_20_25_after</th>\n",
       "      <th>pips_agg_20_25_after</th>\n",
       "      <th>pips_candle_20_25_after</th>\n",
       "      <th>high_25_30_after</th>\n",
       "      <th>low_25_30_after</th>\n",
       "      <th>close_25_30_after</th>\n",
       "      <th>volatility_25_30_after</th>\n",
       "      <th>direction_candle_25_30_after</th>\n",
       "      <th>direction_agg_25_30_after</th>\n",
       "      <th>pips_agg_25_30_after</th>\n",
       "      <th>pips_candle_25_30_after</th>\n",
       "      <th>previous_value</th>\n",
       "      <th>previous_error_ratio</th>\n",
       "      <th>total_error_ratio</th>\n",
       "      <th>forecast_error_ratio_mean</th>\n",
       "      <th>forecast_error_ratio_std</th>\n",
       "      <th>forecast_error_ratio_zscore</th>\n",
       "      <th>total_error_ratio_mean</th>\n",
       "      <th>total_error_ratio_std</th>\n",
       "      <th>total_error_ratio_zscore</th>\n",
       "    </tr>\n",
       "  </thead>\n",
       "  <tbody>\n",
       "    <tr>\n",
       "      <th>0</th>\n",
       "      <td>2007-01-08 20:00:00+00:00</td>\n",
       "      <td>12.3B</td>\n",
       "      <td>USD</td>\n",
       "      <td>2007-01-08 15:00:00</td>\n",
       "      <td>5.4B</td>\n",
       "      <td>better</td>\n",
       "      <td>Low</td>\n",
       "      <td>Consumer Credit m/m</td>\n",
       "      <td>-1.3B</td>\n",
       "      <td>accurate</td>\n",
       "      <td>2</td>\n",
       "      <td>127.78</td>\n",
       "      <td>2007</td>\n",
       "      <td>1</td>\n",
       "      <td>1</td>\n",
       "      <td>0</td>\n",
       "      <td>14</td>\n",
       "      <td>4</td>\n",
       "      <td>9</td>\n",
       "      <td>-2</td>\n",
       "      <td>9</td>\n",
       "      <td>-1</td>\n",
       "      <td>15</td>\n",
       "      <td>-1</td>\n",
       "      <td>18</td>\n",
       "      <td>3</td>\n",
       "      <td>21</td>\n",
       "      <td>5</td>\n",
       "      <td>23</td>\n",
       "      <td>8</td>\n",
       "      <td>23</td>\n",
       "      <td>8</td>\n",
       "      <td>32</td>\n",
       "      <td>18</td>\n",
       "      <td>13018</td>\n",
       "      <td>13020</td>\n",
       "      <td>13016</td>\n",
       "      <td>13018</td>\n",
       "      <td>13022</td>\n",
       "      <td>13016</td>\n",
       "      <td>13019</td>\n",
       "      <td>6</td>\n",
       "      <td>0</td>\n",
       "      <td>0</td>\n",
       "      <td>1</td>\n",
       "      <td>0</td>\n",
       "      <td>13020</td>\n",
       "      <td>13016</td>\n",
       "      <td>13017</td>\n",
       "      <td>4</td>\n",
       "      <td>0</td>\n",
       "      <td>0</td>\n",
       "      <td>-1</td>\n",
       "      <td>-2</td>\n",
       "      <td>13022</td>\n",
       "      <td>13013</td>\n",
       "      <td>13019</td>\n",
       "      <td>9</td>\n",
       "      <td>0</td>\n",
       "      <td>0</td>\n",
       "      <td>1</td>\n",
       "      <td>1</td>\n",
       "      <td>13021</td>\n",
       "      <td>13017</td>\n",
       "      <td>13020</td>\n",
       "      <td>4</td>\n",
       "      <td>0</td>\n",
       "      <td>0</td>\n",
       "      <td>2</td>\n",
       "      <td>2</td>\n",
       "      <td>13022</td>\n",
       "      <td>13016</td>\n",
       "      <td>13018</td>\n",
       "      <td>6</td>\n",
       "      <td>0</td>\n",
       "      <td>0</td>\n",
       "      <td>0</td>\n",
       "      <td>-2</td>\n",
       "      <td>13020</td>\n",
       "      <td>13015</td>\n",
       "      <td>13018</td>\n",
       "      <td>5</td>\n",
       "      <td>0</td>\n",
       "      <td>0</td>\n",
       "      <td>0</td>\n",
       "      <td>0</td>\n",
       "      <td>-1.3B</td>\n",
       "      <td>0.00</td>\n",
       "      <td>127.78</td>\n",
       "      <td>127.780</td>\n",
       "      <td>1.00000</td>\n",
       "      <td>0.00</td>\n",
       "      <td>127.780</td>\n",
       "      <td>1.000000</td>\n",
       "      <td>0.00</td>\n",
       "    </tr>\n",
       "    <tr>\n",
       "      <th>1</th>\n",
       "      <td>2007-02-07 20:00:00+00:00</td>\n",
       "      <td>6.0B</td>\n",
       "      <td>USD</td>\n",
       "      <td>2007-02-07 15:00:00</td>\n",
       "      <td>7.0B</td>\n",
       "      <td>worse</td>\n",
       "      <td>Low</td>\n",
       "      <td>Consumer Credit m/m</td>\n",
       "      <td>13.7B</td>\n",
       "      <td>better</td>\n",
       "      <td>6</td>\n",
       "      <td>-14.29</td>\n",
       "      <td>2007</td>\n",
       "      <td>1</td>\n",
       "      <td>2</td>\n",
       "      <td>2</td>\n",
       "      <td>15</td>\n",
       "      <td>-11</td>\n",
       "      <td>10</td>\n",
       "      <td>-2</td>\n",
       "      <td>11</td>\n",
       "      <td>5</td>\n",
       "      <td>16</td>\n",
       "      <td>7</td>\n",
       "      <td>16</td>\n",
       "      <td>7</td>\n",
       "      <td>16</td>\n",
       "      <td>7</td>\n",
       "      <td>17</td>\n",
       "      <td>6</td>\n",
       "      <td>17</td>\n",
       "      <td>9</td>\n",
       "      <td>23</td>\n",
       "      <td>14</td>\n",
       "      <td>13007</td>\n",
       "      <td>13008</td>\n",
       "      <td>13002</td>\n",
       "      <td>13005</td>\n",
       "      <td>13006</td>\n",
       "      <td>13003</td>\n",
       "      <td>13006</td>\n",
       "      <td>3</td>\n",
       "      <td>0</td>\n",
       "      <td>0</td>\n",
       "      <td>1</td>\n",
       "      <td>1</td>\n",
       "      <td>13010</td>\n",
       "      <td>13004</td>\n",
       "      <td>13005</td>\n",
       "      <td>6</td>\n",
       "      <td>0</td>\n",
       "      <td>0</td>\n",
       "      <td>0</td>\n",
       "      <td>0</td>\n",
       "      <td>13008</td>\n",
       "      <td>13003</td>\n",
       "      <td>13005</td>\n",
       "      <td>5</td>\n",
       "      <td>0</td>\n",
       "      <td>0</td>\n",
       "      <td>0</td>\n",
       "      <td>-2</td>\n",
       "      <td>13005</td>\n",
       "      <td>13001</td>\n",
       "      <td>13005</td>\n",
       "      <td>4</td>\n",
       "      <td>0</td>\n",
       "      <td>0</td>\n",
       "      <td>0</td>\n",
       "      <td>2</td>\n",
       "      <td>13005</td>\n",
       "      <td>13000</td>\n",
       "      <td>13002</td>\n",
       "      <td>5</td>\n",
       "      <td>0</td>\n",
       "      <td>0</td>\n",
       "      <td>-3</td>\n",
       "      <td>-3</td>\n",
       "      <td>13006</td>\n",
       "      <td>13001</td>\n",
       "      <td>13005</td>\n",
       "      <td>5</td>\n",
       "      <td>0</td>\n",
       "      <td>0</td>\n",
       "      <td>0</td>\n",
       "      <td>0</td>\n",
       "      <td>12.3B</td>\n",
       "      <td>11.38</td>\n",
       "      <td>-2.91</td>\n",
       "      <td>56.745</td>\n",
       "      <td>100.45866</td>\n",
       "      <td>-0.71</td>\n",
       "      <td>62.435</td>\n",
       "      <td>92.411785</td>\n",
       "      <td>-0.71</td>\n",
       "    </tr>\n",
       "  </tbody>\n",
       "</table>\n",
       "</div>"
      ],
      "text/plain": [
       "                datetime_gmt actual country             datetime forecast forecast_error impact                  new previous previous_error  week  forecast_error_ratio  year  quarter  month  weekday  volatility_60_0_before  pips_agg_60_0_before  volatility_0_45_after  pips_agg_0_45_after  volatility_0_60_after  pips_agg_0_60_after  volatility_0_90_after  pips_agg_0_90_after  volatility_0_120_after  pips_agg_0_120_after  volatility_0_150_after  pips_agg_0_150_after  volatility_0_180_after  pips_agg_0_180_after  volatility_0_210_after  pips_agg_0_210_after  volatility_0_240_after  pips_agg_0_240_after  open_released  high_released  low_released  close_released  high_0_5_after  low_0_5_after  close_0_5_after  volatility_0_5_after  direction_candle_0_5_after  direction_agg_0_5_after  pips_agg_0_5_after  pips_candle_0_5_after  high_5_10_after  low_5_10_after  close_5_10_after  volatility_5_10_after  direction_candle_5_10_after  direction_agg_5_10_after  pips_agg_5_10_after  \\\n",
       "0  2007-01-08 20:00:00+00:00  12.3B     USD  2007-01-08 15:00:00     5.4B         better    Low  Consumer Credit m/m    -1.3B       accurate     2                127.78  2007        1      1        0                      14                     4                      9                   -2                      9                   -1                     15                   -1                      18                     3                      21                     5                      23                     8                      23                     8                      32                    18          13018          13020         13016           13018           13022          13016            13019                     6                           0                        0                   1                      0            13020           13016             13017                      4                            0                         0                   -1   \n",
       "1  2007-02-07 20:00:00+00:00   6.0B     USD  2007-02-07 15:00:00     7.0B          worse    Low  Consumer Credit m/m    13.7B         better     6                -14.29  2007        1      2        2                      15                   -11                     10                   -2                     11                    5                     16                    7                      16                     7                      16                     7                      17                     6                      17                     9                      23                    14          13007          13008         13002           13005           13006          13003            13006                     3                           0                        0                   1                      1            13010           13004             13005                      6                            0                         0                    0   \n",
       "\n",
       "   pips_candle_5_10_after  high_10_15_after  low_10_15_after  close_10_15_after  volatility_10_15_after  direction_candle_10_15_after  direction_agg_10_15_after  pips_agg_10_15_after  pips_candle_10_15_after  high_15_20_after  low_15_20_after  close_15_20_after  volatility_15_20_after  direction_candle_15_20_after  direction_agg_15_20_after  pips_agg_15_20_after  pips_candle_15_20_after  high_20_25_after  low_20_25_after  close_20_25_after  volatility_20_25_after  direction_candle_20_25_after  direction_agg_20_25_after  pips_agg_20_25_after  pips_candle_20_25_after  high_25_30_after  low_25_30_after  close_25_30_after  volatility_25_30_after  direction_candle_25_30_after  direction_agg_25_30_after  pips_agg_25_30_after  pips_candle_25_30_after previous_value  previous_error_ratio  total_error_ratio  forecast_error_ratio_mean  forecast_error_ratio_std  forecast_error_ratio_zscore  total_error_ratio_mean  total_error_ratio_std  total_error_ratio_zscore  \n",
       "0                      -2             13022            13013              13019                       9                             0                          0                     1                        1             13021            13017              13020                       4                             0                          0                     2                        2             13022            13016              13018                       6                             0                          0                     0                       -2             13020            13015              13018                       5                             0                          0                     0                        0          -1.3B                  0.00             127.78                    127.780                   1.00000                         0.00                 127.780               1.000000                      0.00  \n",
       "1                       0             13008            13003              13005                       5                             0                          0                     0                       -2             13005            13001              13005                       4                             0                          0                     0                        2             13005            13000              13002                       5                             0                          0                    -3                       -3             13006            13001              13005                       5                             0                          0                     0                        0          12.3B                 11.38              -2.91                     56.745                 100.45866                        -0.71                  62.435              92.411785                     -0.71  "
      ]
     },
     "execution_count": 4,
     "metadata": {},
     "output_type": "execute_result"
    }
   ],
   "source": [
    "df.head(2)"
   ]
  },
  {
   "cell_type": "markdown",
   "metadata": {},
   "source": [
    "How many news were published from 2007 till 2018?"
   ]
  },
  {
   "cell_type": "code",
   "execution_count": 5,
   "metadata": {},
   "outputs": [
    {
     "data": {
      "text/plain": [
       "9667"
      ]
     },
     "execution_count": 5,
     "metadata": {},
     "output_type": "execute_result"
    }
   ],
   "source": [
    "len(df)"
   ]
  },
  {
   "cell_type": "markdown",
   "metadata": {},
   "source": [
    "We will group all news by when they have been released"
   ]
  },
  {
   "cell_type": "code",
   "execution_count": 6,
   "metadata": {},
   "outputs": [
    {
     "data": {
      "text/plain": [
       "Index(['datetime_gmt', 'actual', 'country', 'datetime', 'forecast', 'forecast_error', 'impact', 'new', 'previous', 'previous_error', 'week', 'forecast_error_ratio', 'year', 'quarter', 'month', 'weekday', 'volatility_60_0_before', 'pips_agg_60_0_before', 'volatility_0_45_after', 'pips_agg_0_45_after', 'volatility_0_60_after', 'pips_agg_0_60_after', 'volatility_0_90_after', 'pips_agg_0_90_after', 'volatility_0_120_after', 'pips_agg_0_120_after', 'volatility_0_150_after', 'pips_agg_0_150_after', 'volatility_0_180_after', 'pips_agg_0_180_after', 'volatility_0_210_after', 'pips_agg_0_210_after', 'volatility_0_240_after', 'pips_agg_0_240_after', 'open_released', 'high_released', 'low_released', 'close_released', 'high_0_5_after', 'low_0_5_after', 'close_0_5_after', 'volatility_0_5_after', 'direction_candle_0_5_after', 'direction_agg_0_5_after', 'pips_agg_0_5_after', 'pips_candle_0_5_after', 'high_5_10_after', 'low_5_10_after', 'close_5_10_after', 'volatility_5_10_after',\n",
       "       'direction_candle_5_10_after', 'direction_agg_5_10_after', 'pips_agg_5_10_after', 'pips_candle_5_10_after', 'high_10_15_after', 'low_10_15_after', 'close_10_15_after', 'volatility_10_15_after', 'direction_candle_10_15_after', 'direction_agg_10_15_after', 'pips_agg_10_15_after', 'pips_candle_10_15_after', 'high_15_20_after', 'low_15_20_after', 'close_15_20_after', 'volatility_15_20_after', 'direction_candle_15_20_after', 'direction_agg_15_20_after', 'pips_agg_15_20_after', 'pips_candle_15_20_after', 'high_20_25_after', 'low_20_25_after', 'close_20_25_after', 'volatility_20_25_after', 'direction_candle_20_25_after', 'direction_agg_20_25_after', 'pips_agg_20_25_after', 'pips_candle_20_25_after', 'high_25_30_after', 'low_25_30_after', 'close_25_30_after', 'volatility_25_30_after', 'direction_candle_25_30_after', 'direction_agg_25_30_after', 'pips_agg_25_30_after', 'pips_candle_25_30_after', 'previous_value', 'previous_error_ratio', 'total_error_ratio', 'forecast_error_ratio_mean',\n",
       "       'forecast_error_ratio_std', 'forecast_error_ratio_zscore', 'total_error_ratio_mean', 'total_error_ratio_std', 'total_error_ratio_zscore'],\n",
       "      dtype='object')"
      ]
     },
     "execution_count": 6,
     "metadata": {},
     "output_type": "execute_result"
    }
   ],
   "source": [
    "df.columns"
   ]
  },
  {
   "cell_type": "code",
   "execution_count": 7,
   "metadata": {},
   "outputs": [],
   "source": [
    "df_pips_by_datetime = df[['datetime_gmt','pips_agg_25_30_after', 'pips_agg_0_60_after','pips_agg_0_90_after','pips_agg_0_120_after',\n",
    "                          'pips_agg_0_150_after','pips_agg_0_180_after','pips_agg_0_210_after','pips_agg_0_240_after']]"
   ]
  },
  {
   "cell_type": "code",
   "execution_count": 8,
   "metadata": {},
   "outputs": [
    {
     "data": {
      "text/html": [
       "<div>\n",
       "<style scoped>\n",
       "    .dataframe tbody tr th:only-of-type {\n",
       "        vertical-align: middle;\n",
       "    }\n",
       "\n",
       "    .dataframe tbody tr th {\n",
       "        vertical-align: top;\n",
       "    }\n",
       "\n",
       "    .dataframe thead th {\n",
       "        text-align: right;\n",
       "    }\n",
       "</style>\n",
       "<table border=\"1\" class=\"dataframe\">\n",
       "  <thead>\n",
       "    <tr style=\"text-align: right;\">\n",
       "      <th></th>\n",
       "      <th>datetime_gmt</th>\n",
       "      <th>pips_agg_25_30_after</th>\n",
       "      <th>pips_agg_0_60_after</th>\n",
       "      <th>pips_agg_0_90_after</th>\n",
       "      <th>pips_agg_0_120_after</th>\n",
       "      <th>pips_agg_0_150_after</th>\n",
       "      <th>pips_agg_0_180_after</th>\n",
       "      <th>pips_agg_0_210_after</th>\n",
       "      <th>pips_agg_0_240_after</th>\n",
       "    </tr>\n",
       "  </thead>\n",
       "  <tbody>\n",
       "    <tr>\n",
       "      <th>0</th>\n",
       "      <td>2007-01-08 20:00:00+00:00</td>\n",
       "      <td>0</td>\n",
       "      <td>-1</td>\n",
       "      <td>-1</td>\n",
       "      <td>3</td>\n",
       "      <td>5</td>\n",
       "      <td>8</td>\n",
       "      <td>8</td>\n",
       "      <td>18</td>\n",
       "    </tr>\n",
       "    <tr>\n",
       "      <th>1</th>\n",
       "      <td>2007-02-07 20:00:00+00:00</td>\n",
       "      <td>0</td>\n",
       "      <td>5</td>\n",
       "      <td>7</td>\n",
       "      <td>7</td>\n",
       "      <td>7</td>\n",
       "      <td>6</td>\n",
       "      <td>9</td>\n",
       "      <td>14</td>\n",
       "    </tr>\n",
       "  </tbody>\n",
       "</table>\n",
       "</div>"
      ],
      "text/plain": [
       "                datetime_gmt  pips_agg_25_30_after  pips_agg_0_60_after  pips_agg_0_90_after  pips_agg_0_120_after  pips_agg_0_150_after  pips_agg_0_180_after  pips_agg_0_210_after  pips_agg_0_240_after\n",
       "0  2007-01-08 20:00:00+00:00                     0                   -1                   -1                     3                     5                     8                     8                    18\n",
       "1  2007-02-07 20:00:00+00:00                     0                    5                    7                     7                     7                     6                     9                    14"
      ]
     },
     "execution_count": 8,
     "metadata": {},
     "output_type": "execute_result"
    }
   ],
   "source": [
    "df_pips_by_datetime.head(2)"
   ]
  },
  {
   "cell_type": "markdown",
   "metadata": {},
   "source": [
    "How many datapoints do we have?"
   ]
  },
  {
   "cell_type": "code",
   "execution_count": 9,
   "metadata": {},
   "outputs": [
    {
     "data": {
      "text/plain": [
       "9667"
      ]
     },
     "execution_count": 9,
     "metadata": {},
     "output_type": "execute_result"
    }
   ],
   "source": [
    "len(df_pips_by_datetime)"
   ]
  },
  {
   "cell_type": "code",
   "execution_count": 10,
   "metadata": {},
   "outputs": [],
   "source": [
    "df_pips_by_datetime = df_pips_by_datetime.groupby('datetime_gmt', as_index=False).first()\n"
   ]
  },
  {
   "cell_type": "code",
   "execution_count": 11,
   "metadata": {},
   "outputs": [
    {
     "data": {
      "text/plain": [
       "6362"
      ]
     },
     "execution_count": 11,
     "metadata": {},
     "output_type": "execute_result"
    }
   ],
   "source": [
    "len(df_pips_by_datetime)"
   ]
  },
  {
   "cell_type": "code",
   "execution_count": 12,
   "metadata": {},
   "outputs": [
    {
     "data": {
      "text/html": [
       "<div>\n",
       "<style scoped>\n",
       "    .dataframe tbody tr th:only-of-type {\n",
       "        vertical-align: middle;\n",
       "    }\n",
       "\n",
       "    .dataframe tbody tr th {\n",
       "        vertical-align: top;\n",
       "    }\n",
       "\n",
       "    .dataframe thead th {\n",
       "        text-align: right;\n",
       "    }\n",
       "</style>\n",
       "<table border=\"1\" class=\"dataframe\">\n",
       "  <thead>\n",
       "    <tr style=\"text-align: right;\">\n",
       "      <th></th>\n",
       "      <th>datetime_gmt</th>\n",
       "      <th>pips_agg_25_30_after</th>\n",
       "      <th>pips_agg_0_60_after</th>\n",
       "      <th>pips_agg_0_90_after</th>\n",
       "      <th>pips_agg_0_120_after</th>\n",
       "      <th>pips_agg_0_150_after</th>\n",
       "      <th>pips_agg_0_180_after</th>\n",
       "      <th>pips_agg_0_210_after</th>\n",
       "      <th>pips_agg_0_240_after</th>\n",
       "    </tr>\n",
       "  </thead>\n",
       "  <tbody>\n",
       "    <tr>\n",
       "      <th>0</th>\n",
       "      <td>2007-01-08 20:00:00+00:00</td>\n",
       "      <td>0</td>\n",
       "      <td>-1</td>\n",
       "      <td>-1</td>\n",
       "      <td>3</td>\n",
       "      <td>5</td>\n",
       "      <td>8</td>\n",
       "      <td>8</td>\n",
       "      <td>18</td>\n",
       "    </tr>\n",
       "    <tr>\n",
       "      <th>1</th>\n",
       "      <td>2007-01-09 15:00:00+00:00</td>\n",
       "      <td>5</td>\n",
       "      <td>-3</td>\n",
       "      <td>-3</td>\n",
       "      <td>-11</td>\n",
       "      <td>0</td>\n",
       "      <td>11</td>\n",
       "      <td>7</td>\n",
       "      <td>6</td>\n",
       "    </tr>\n",
       "  </tbody>\n",
       "</table>\n",
       "</div>"
      ],
      "text/plain": [
       "                datetime_gmt  pips_agg_25_30_after  pips_agg_0_60_after  pips_agg_0_90_after  pips_agg_0_120_after  pips_agg_0_150_after  pips_agg_0_180_after  pips_agg_0_210_after  pips_agg_0_240_after\n",
       "0  2007-01-08 20:00:00+00:00                     0                   -1                   -1                     3                     5                     8                     8                    18\n",
       "1  2007-01-09 15:00:00+00:00                     5                   -3                   -3                   -11                     0                    11                     7                     6"
      ]
     },
     "execution_count": 12,
     "metadata": {},
     "output_type": "execute_result"
    }
   ],
   "source": [
    "df_pips_by_datetime.head(2)"
   ]
  },
  {
   "cell_type": "code",
   "execution_count": 13,
   "metadata": {},
   "outputs": [],
   "source": [
    "columns = df_pips_by_datetime.columns"
   ]
  },
  {
   "cell_type": "code",
   "execution_count": 15,
   "metadata": {},
   "outputs": [
    {
     "data": {
      "text/plain": [
       "array([[<matplotlib.axes._subplots.AxesSubplot object at 0x000002438720A748>,\n",
       "        <matplotlib.axes._subplots.AxesSubplot object at 0x0000024388225278>,\n",
       "        <matplotlib.axes._subplots.AxesSubplot object at 0x0000024387D85908>],\n",
       "       [<matplotlib.axes._subplots.AxesSubplot object at 0x0000024387DB0F98>,\n",
       "        <matplotlib.axes._subplots.AxesSubplot object at 0x0000024387DE2668>,\n",
       "        <matplotlib.axes._subplots.AxesSubplot object at 0x0000024387DE26A0>],\n",
       "       [<matplotlib.axes._subplots.AxesSubplot object at 0x0000024387E3C3C8>,\n",
       "        <matplotlib.axes._subplots.AxesSubplot object at 0x0000024387E63A58>,\n",
       "        <matplotlib.axes._subplots.AxesSubplot object at 0x0000024387E93128>]],\n",
       "      dtype=object)"
      ]
     },
     "execution_count": 15,
     "metadata": {},
     "output_type": "execute_result"
    },
    {
     "data": {
      "image/png": "[encoded data removed]",
      "text/plain": [
       "<Figure size 1440x720 with 9 Axes>"
      ]
     },
     "metadata": {
      "needs_background": "light"
     },
     "output_type": "display_data"
    }
   ],
   "source": [
    "df_pips_by_datetime[columns[1:]].plot(kind='hist', subplots=True, sharex=False, layout=(3,3),figsize=(20,10))"
   ]
  },
  {
   "cell_type": "markdown",
   "metadata": {},
   "source": [
    "The expected correlation seems to be there. \n",
    "Whatever pattern is observed after 30 minutes is reproduced after 4h, although pips increments/decrements seems to be higher\n"
   ]
  },
  {
   "cell_type": "code",
   "execution_count": 17,
   "metadata": {},
   "outputs": [
    {
     "data": {
      "text/html": [
       "<div>\n",
       "<style scoped>\n",
       "    .dataframe tbody tr th:only-of-type {\n",
       "        vertical-align: middle;\n",
       "    }\n",
       "\n",
       "    .dataframe tbody tr th {\n",
       "        vertical-align: top;\n",
       "    }\n",
       "\n",
       "    .dataframe thead th {\n",
       "        text-align: right;\n",
       "    }\n",
       "</style>\n",
       "<table border=\"1\" class=\"dataframe\">\n",
       "  <thead>\n",
       "    <tr style=\"text-align: right;\">\n",
       "      <th></th>\n",
       "      <th>pips_agg_25_30_after</th>\n",
       "      <th>pips_agg_0_60_after</th>\n",
       "      <th>pips_agg_0_90_after</th>\n",
       "      <th>pips_agg_0_120_after</th>\n",
       "      <th>pips_agg_0_150_after</th>\n",
       "      <th>pips_agg_0_180_after</th>\n",
       "      <th>pips_agg_0_210_after</th>\n",
       "      <th>pips_agg_0_240_after</th>\n",
       "    </tr>\n",
       "  </thead>\n",
       "  <tbody>\n",
       "    <tr>\n",
       "      <th>count</th>\n",
       "      <td>6362.000000</td>\n",
       "      <td>6362.000000</td>\n",
       "      <td>6362.000000</td>\n",
       "      <td>6362.000000</td>\n",
       "      <td>6362.000000</td>\n",
       "      <td>6362.000000</td>\n",
       "      <td>6362.000000</td>\n",
       "      <td>6362.000000</td>\n",
       "    </tr>\n",
       "    <tr>\n",
       "      <th>mean</th>\n",
       "      <td>-0.130305</td>\n",
       "      <td>-0.055486</td>\n",
       "      <td>-0.112700</td>\n",
       "      <td>0.249607</td>\n",
       "      <td>0.157026</td>\n",
       "      <td>0.542754</td>\n",
       "      <td>0.826941</td>\n",
       "      <td>0.964005</td>\n",
       "    </tr>\n",
       "    <tr>\n",
       "      <th>std</th>\n",
       "      <td>21.080053</td>\n",
       "      <td>26.256949</td>\n",
       "      <td>30.638672</td>\n",
       "      <td>34.442841</td>\n",
       "      <td>36.488140</td>\n",
       "      <td>38.373103</td>\n",
       "      <td>40.303905</td>\n",
       "      <td>42.297638</td>\n",
       "    </tr>\n",
       "    <tr>\n",
       "      <th>min</th>\n",
       "      <td>-164.000000</td>\n",
       "      <td>-184.000000</td>\n",
       "      <td>-220.000000</td>\n",
       "      <td>-229.000000</td>\n",
       "      <td>-199.000000</td>\n",
       "      <td>-306.000000</td>\n",
       "      <td>-337.000000</td>\n",
       "      <td>-367.000000</td>\n",
       "    </tr>\n",
       "    <tr>\n",
       "      <th>25%</th>\n",
       "      <td>-9.000000</td>\n",
       "      <td>-11.000000</td>\n",
       "      <td>-14.000000</td>\n",
       "      <td>-15.000000</td>\n",
       "      <td>-16.000000</td>\n",
       "      <td>-17.000000</td>\n",
       "      <td>-18.000000</td>\n",
       "      <td>-19.000000</td>\n",
       "    </tr>\n",
       "    <tr>\n",
       "      <th>50%</th>\n",
       "      <td>0.000000</td>\n",
       "      <td>0.000000</td>\n",
       "      <td>0.000000</td>\n",
       "      <td>0.000000</td>\n",
       "      <td>0.000000</td>\n",
       "      <td>0.000000</td>\n",
       "      <td>0.000000</td>\n",
       "      <td>0.000000</td>\n",
       "    </tr>\n",
       "    <tr>\n",
       "      <th>75%</th>\n",
       "      <td>9.000000</td>\n",
       "      <td>12.000000</td>\n",
       "      <td>14.000000</td>\n",
       "      <td>16.000000</td>\n",
       "      <td>17.000000</td>\n",
       "      <td>18.000000</td>\n",
       "      <td>20.000000</td>\n",
       "      <td>21.000000</td>\n",
       "    </tr>\n",
       "    <tr>\n",
       "      <th>max</th>\n",
       "      <td>294.000000</td>\n",
       "      <td>354.000000</td>\n",
       "      <td>331.000000</td>\n",
       "      <td>381.000000</td>\n",
       "      <td>366.000000</td>\n",
       "      <td>371.000000</td>\n",
       "      <td>409.000000</td>\n",
       "      <td>383.000000</td>\n",
       "    </tr>\n",
       "  </tbody>\n",
       "</table>\n",
       "</div>"
      ],
      "text/plain": [
       "       pips_agg_25_30_after  pips_agg_0_60_after  pips_agg_0_90_after  pips_agg_0_120_after  pips_agg_0_150_after  pips_agg_0_180_after  pips_agg_0_210_after  pips_agg_0_240_after\n",
       "count           6362.000000          6362.000000          6362.000000           6362.000000           6362.000000           6362.000000           6362.000000           6362.000000\n",
       "mean              -0.130305            -0.055486            -0.112700              0.249607              0.157026              0.542754              0.826941              0.964005\n",
       "std               21.080053            26.256949            30.638672             34.442841             36.488140             38.373103             40.303905             42.297638\n",
       "min             -164.000000          -184.000000          -220.000000           -229.000000           -199.000000           -306.000000           -337.000000           -367.000000\n",
       "25%               -9.000000           -11.000000           -14.000000            -15.000000            -16.000000            -17.000000            -18.000000            -19.000000\n",
       "50%                0.000000             0.000000             0.000000              0.000000              0.000000              0.000000              0.000000              0.000000\n",
       "75%                9.000000            12.000000            14.000000             16.000000             17.000000             18.000000             20.000000             21.000000\n",
       "max              294.000000           354.000000           331.000000            381.000000            366.000000            371.000000            409.000000            383.000000"
      ]
     },
     "execution_count": 17,
     "metadata": {},
     "output_type": "execute_result"
    }
   ],
   "source": [
    "df_pips_by_datetime.describe()"
   ]
  },
  {
   "cell_type": "code",
   "execution_count": 18,
   "metadata": {},
   "outputs": [
    {
     "data": {
      "text/plain": [
       "<matplotlib.axes._subplots.AxesSubplot at 0x2438813d208>"
      ]
     },
     "execution_count": 18,
     "metadata": {},
     "output_type": "execute_result"
    },
    {
     "data": {
      "image/png": "[encoded data removed]",
      "text/plain": [
       "<Figure size 432x288 with 1 Axes>"
      ]
     },
     "metadata": {
      "needs_background": "light"
     },
     "output_type": "display_data"
    }
   ],
   "source": [
    "df_pips_by_datetime.plot.scatter(x='pips_agg_25_30_after', y='pips_agg_0_60_after')"
   ]
  },
  {
   "cell_type": "code",
   "execution_count": 27,
   "metadata": {},
   "outputs": [],
   "source": [
    "from scipy import stats"
   ]
  },
  {
   "cell_type": "code",
   "execution_count": 29,
   "metadata": {},
   "outputs": [
    {
     "data": {
      "text/plain": [
       "array([-1.,  1.,  1., -1.])"
      ]
     },
     "execution_count": 29,
     "metadata": {},
     "output_type": "execute_result"
    }
   ],
   "source": [
    "stats.zscore([-2,2,2,-2,], axis=0, ddof=0)\n",
    "\n"
   ]
  },
  {
   "cell_type": "code",
   "execution_count": 35,
   "metadata": {},
   "outputs": [
    {
     "data": {
      "text/plain": [
       "5.5"
      ]
     },
     "execution_count": 35,
     "metadata": {},
     "output_type": "execute_result"
    }
   ],
   "source": [
    "a = np.array([1, 2, 3, 4, 5, 6, 7])\n",
    "np.percentile(a, 75)"
   ]
  },
  {
   "cell_type": "code",
   "execution_count": null,
   "metadata": {},
   "outputs": [],
   "source": []
  }
 ],
 "metadata": {
  "kernelspec": {
   "display_name": "Python 3",
   "language": "python",
   "name": "python3"
  },
  "language_info": {
   "codemirror_mode": {
    "name": "ipython",
    "version": 3
   },
   "file_extension": ".py",
   "mimetype": "text/x-python",
   "name": "python",
   "nbconvert_exporter": "python",
   "pygments_lexer": "ipython3",
   "version": "3.7.0"
  }
 },
 "nbformat": 4,
 "nbformat_minor": 2
}
