{
 "cells": [
  {
   "cell_type": "markdown",
   "metadata": {},
   "source": [
    "Questions:\n",
    "\n",
    "- Which model has higher f1 in microavg?\n",
    "- Which model has higher weighted precision?\n",
    "- Which model has higher precision by class?"
   ]
  },
  {
   "cell_type": "code",
   "execution_count": 227,
   "metadata": {},
   "outputs": [],
   "source": [
    "import pandas as pd\n",
    "import numpy as np\n",
    "import glob, os\n",
    "\n",
    "pd.set_option('display.max_columns', 100)\n",
    "pd.set_option('display.width', 1000)"
   ]
  },
  {
   "cell_type": "code",
   "execution_count": 200,
   "metadata": {},
   "outputs": [],
   "source": [
    "list_path =['./models_out/']\n",
    "\n",
    "all_files = [glob.glob(os.path.join(path, 'sweeps_*.csv')) for path in list_path]\n",
    "             \n",
    "df_from_each_file = (pd.read_csv(file) for list_files in all_files for file in list_files )\n",
    "\n",
    "df = pd.concat(df_from_each_file, ignore_index=True)\n"
   ]
  },
  {
   "cell_type": "code",
   "execution_count": 234,
   "metadata": {},
   "outputs": [
    {
     "data": {
      "text/html": [
       "<div>\n",
       "<style scoped>\n",
       "    .dataframe tbody tr th:only-of-type {\n",
       "        vertical-align: middle;\n",
       "    }\n",
       "\n",
       "    .dataframe tbody tr th {\n",
       "        vertical-align: top;\n",
       "    }\n",
       "\n",
       "    .dataframe thead th {\n",
       "        text-align: right;\n",
       "    }\n",
       "</style>\n",
       "<table border=\"1\" class=\"dataframe\">\n",
       "  <thead>\n",
       "    <tr style=\"text-align: right;\">\n",
       "      <th></th>\n",
       "      <th>Unnamed: 0</th>\n",
       "      <th>model_type</th>\n",
       "      <th>model</th>\n",
       "      <th>sweeps_market_variables</th>\n",
       "      <th>sweep_news_agg</th>\n",
       "      <th>sweep_buy_sell</th>\n",
       "      <th>before_data</th>\n",
       "      <th>sweep_grid</th>\n",
       "      <th>best_score</th>\n",
       "      <th>best_params</th>\n",
       "      <th>f1_microavg</th>\n",
       "      <th>precision_weighted</th>\n",
       "      <th>precision_EUR_down</th>\n",
       "      <th>precision_EUR_same</th>\n",
       "      <th>precision_EUR_up</th>\n",
       "      <th>support_EUR_down</th>\n",
       "      <th>support_EUR_same</th>\n",
       "      <th>support_EUR_up</th>\n",
       "      <th>clf_report</th>\n",
       "      <th>elapsed_time</th>\n",
       "    </tr>\n",
       "  </thead>\n",
       "  <tbody>\n",
       "    <tr>\n",
       "      <th>0</th>\n",
       "      <td>0</td>\n",
       "      <td>clf</td>\n",
       "      <td>kn</td>\n",
       "      <td>basic</td>\n",
       "      <td>ALL_NO_1_1_1</td>\n",
       "      <td>0_60</td>\n",
       "      <td>included</td>\n",
       "      <td>basic</td>\n",
       "      <td>0.51</td>\n",
       "      <td>{'n_neighbors': 161}</td>\n",
       "      <td>0.53</td>\n",
       "      <td>0.88</td>\n",
       "      <td>0.05</td>\n",
       "      <td>0.96</td>\n",
       "      <td>0.11</td>\n",
       "      <td>32.0</td>\n",
       "      <td>1178.0</td>\n",
       "      <td>82.0</td>\n",
       "      <td>{'0': {'precision': 0.05144694533762058, 'reca...</td>\n",
       "      <td>1.86</td>\n",
       "    </tr>\n",
       "    <tr>\n",
       "      <th>1</th>\n",
       "      <td>1</td>\n",
       "      <td>clf</td>\n",
       "      <td>svc-rbf</td>\n",
       "      <td>basic</td>\n",
       "      <td>ALL_NO_1_1_1</td>\n",
       "      <td>0_60</td>\n",
       "      <td>included</td>\n",
       "      <td>basic</td>\n",
       "      <td>0.50</td>\n",
       "      <td>{'C': 1, 'gamma': 1}</td>\n",
       "      <td>0.51</td>\n",
       "      <td>1.00</td>\n",
       "      <td>0.00</td>\n",
       "      <td>1.00</td>\n",
       "      <td>0.00</td>\n",
       "      <td>0.0</td>\n",
       "      <td>1292.0</td>\n",
       "      <td>0.0</td>\n",
       "      <td>{'0': {'precision': 0.0, 'recall': 0.0, 'f1-sc...</td>\n",
       "      <td>5.56</td>\n",
       "    </tr>\n",
       "    <tr>\n",
       "      <th>2</th>\n",
       "      <td>2</td>\n",
       "      <td>clf</td>\n",
       "      <td>dtree</td>\n",
       "      <td>basic</td>\n",
       "      <td>ALL_NO_1_1_1</td>\n",
       "      <td>0_60</td>\n",
       "      <td>included</td>\n",
       "      <td>basic</td>\n",
       "      <td>0.51</td>\n",
       "      <td>{'max_depth': 7, 'min_samples_leaf': 100}</td>\n",
       "      <td>0.51</td>\n",
       "      <td>0.63</td>\n",
       "      <td>0.26</td>\n",
       "      <td>0.80</td>\n",
       "      <td>0.15</td>\n",
       "      <td>244.0</td>\n",
       "      <td>908.0</td>\n",
       "      <td>140.0</td>\n",
       "      <td>{'0': {'precision': 0.2572347266881029, 'recal...</td>\n",
       "      <td>0.26</td>\n",
       "    </tr>\n",
       "    <tr>\n",
       "      <th>3</th>\n",
       "      <td>3</td>\n",
       "      <td>clf</td>\n",
       "      <td>rforest</td>\n",
       "      <td>basic</td>\n",
       "      <td>ALL_NO_1_1_1</td>\n",
       "      <td>0_60</td>\n",
       "      <td>included</td>\n",
       "      <td>basic</td>\n",
       "      <td>0.52</td>\n",
       "      <td>{'max_depth': 7, 'min_samples_leaf': 10, 'n_es...</td>\n",
       "      <td>0.53</td>\n",
       "      <td>0.80</td>\n",
       "      <td>0.19</td>\n",
       "      <td>0.91</td>\n",
       "      <td>0.08</td>\n",
       "      <td>114.0</td>\n",
       "      <td>1094.0</td>\n",
       "      <td>84.0</td>\n",
       "      <td>{'0': {'precision': 0.1864951768488746, 'recal...</td>\n",
       "      <td>12.90</td>\n",
       "    </tr>\n",
       "    <tr>\n",
       "      <th>4</th>\n",
       "      <td>4</td>\n",
       "      <td>clf</td>\n",
       "      <td>xgb</td>\n",
       "      <td>basic</td>\n",
       "      <td>ALL_NO_1_1_1</td>\n",
       "      <td>0_60</td>\n",
       "      <td>included</td>\n",
       "      <td>basic</td>\n",
       "      <td>0.52</td>\n",
       "      <td>{'n_estimators': 50}</td>\n",
       "      <td>0.53</td>\n",
       "      <td>0.73</td>\n",
       "      <td>0.21</td>\n",
       "      <td>0.88</td>\n",
       "      <td>0.14</td>\n",
       "      <td>138.0</td>\n",
       "      <td>1024.0</td>\n",
       "      <td>130.0</td>\n",
       "      <td>{'0': {'precision': 0.21221864951768488, 'reca...</td>\n",
       "      <td>0.41</td>\n",
       "    </tr>\n",
       "  </tbody>\n",
       "</table>\n",
       "</div>"
      ],
      "text/plain": [
       "  Unnamed: 0 model_type    model sweeps_market_variables sweep_news_agg sweep_buy_sell before_data sweep_grid  best_score                                        best_params  f1_microavg  precision_weighted  precision_EUR_down  precision_EUR_same  precision_EUR_up  support_EUR_down  support_EUR_same  support_EUR_up                                         clf_report  elapsed_time\n",
       "0          0        clf       kn                   basic   ALL_NO_1_1_1           0_60    included      basic        0.51                               {'n_neighbors': 161}         0.53                0.88                0.05                0.96              0.11              32.0            1178.0            82.0  {'0': {'precision': 0.05144694533762058, 'reca...          1.86\n",
       "1          1        clf  svc-rbf                   basic   ALL_NO_1_1_1           0_60    included      basic        0.50                               {'C': 1, 'gamma': 1}         0.51                1.00                0.00                1.00              0.00               0.0            1292.0             0.0  {'0': {'precision': 0.0, 'recall': 0.0, 'f1-sc...          5.56\n",
       "2          2        clf    dtree                   basic   ALL_NO_1_1_1           0_60    included      basic        0.51          {'max_depth': 7, 'min_samples_leaf': 100}         0.51                0.63                0.26                0.80              0.15             244.0             908.0           140.0  {'0': {'precision': 0.2572347266881029, 'recal...          0.26\n",
       "3          3        clf  rforest                   basic   ALL_NO_1_1_1           0_60    included      basic        0.52  {'max_depth': 7, 'min_samples_leaf': 10, 'n_es...         0.53                0.80                0.19                0.91              0.08             114.0            1094.0            84.0  {'0': {'precision': 0.1864951768488746, 'recal...         12.90\n",
       "4          4        clf      xgb                   basic   ALL_NO_1_1_1           0_60    included      basic        0.52                               {'n_estimators': 50}         0.53                0.73                0.21                0.88              0.14             138.0            1024.0           130.0  {'0': {'precision': 0.21221864951768488, 'reca...          0.41"
      ]
     },
     "execution_count": 234,
     "metadata": {},
     "output_type": "execute_result"
    }
   ],
   "source": [
    "df.head(5)"
   ]
  },
  {
   "cell_type": "code",
   "execution_count": 213,
   "metadata": {},
   "outputs": [],
   "source": [
    "df_data = pd.read_csv('./models_out/ALL_NO_1_1_1-basic-included-0_60-basic.csv')"
   ]
  },
  {
   "cell_type": "code",
   "execution_count": 236,
   "metadata": {},
   "outputs": [
    {
     "data": {
      "text/html": [
       "<div>\n",
       "<style scoped>\n",
       "    .dataframe tbody tr th:only-of-type {\n",
       "        vertical-align: middle;\n",
       "    }\n",
       "\n",
       "    .dataframe tbody tr th {\n",
       "        vertical-align: top;\n",
       "    }\n",
       "\n",
       "    .dataframe thead th {\n",
       "        text-align: right;\n",
       "    }\n",
       "</style>\n",
       "<table border=\"1\" class=\"dataframe\">\n",
       "  <thead>\n",
       "    <tr style=\"text-align: right;\">\n",
       "      <th></th>\n",
       "      <th>Unnamed: 0</th>\n",
       "      <th>datetime</th>\n",
       "      <th>new_id</th>\n",
       "      <th>forecast_error_diff_deviation</th>\n",
       "      <th>forecast_error_diff_outlier_class</th>\n",
       "      <th>previous_error_diff_deviation</th>\n",
       "      <th>previous_error_diff_outlier_class</th>\n",
       "      <th>fe_accurate</th>\n",
       "      <th>fe_better</th>\n",
       "      <th>fe_worse</th>\n",
       "      <th>pe_accurate</th>\n",
       "      <th>pe_better</th>\n",
       "      <th>pe_worse</th>\n",
       "      <th>High</th>\n",
       "      <th>Low</th>\n",
       "      <th>Medium</th>\n",
       "      <th>year</th>\n",
       "      <th>week</th>\n",
       "      <th>weekday</th>\n",
       "      <th>num_news</th>\n",
       "      <th>volatility_60_0_before</th>\n",
       "      <th>pips_agg_60_0_before</th>\n",
       "      <th>pips_agg_0_60_after</th>\n",
       "      <th>direction_agg_0_60_after</th>\n",
       "    </tr>\n",
       "  </thead>\n",
       "  <tbody>\n",
       "    <tr>\n",
       "      <th>0</th>\n",
       "      <td>0</td>\n",
       "      <td>2007-01-08 15:00:00</td>\n",
       "      <td>12</td>\n",
       "      <td>1.0</td>\n",
       "      <td>0</td>\n",
       "      <td>0.0</td>\n",
       "      <td>0</td>\n",
       "      <td>0</td>\n",
       "      <td>1</td>\n",
       "      <td>0</td>\n",
       "      <td>1</td>\n",
       "      <td>0</td>\n",
       "      <td>0</td>\n",
       "      <td>0</td>\n",
       "      <td>1</td>\n",
       "      <td>0</td>\n",
       "      <td>2007</td>\n",
       "      <td>2</td>\n",
       "      <td>0</td>\n",
       "      <td>1</td>\n",
       "      <td>14</td>\n",
       "      <td>4</td>\n",
       "      <td>-1</td>\n",
       "      <td>1</td>\n",
       "    </tr>\n",
       "    <tr>\n",
       "      <th>1</th>\n",
       "      <td>1</td>\n",
       "      <td>2007-01-09 10:00:00</td>\n",
       "      <td>37</td>\n",
       "      <td>0.0</td>\n",
       "      <td>0</td>\n",
       "      <td>0.0</td>\n",
       "      <td>0</td>\n",
       "      <td>1</td>\n",
       "      <td>0</td>\n",
       "      <td>0</td>\n",
       "      <td>1</td>\n",
       "      <td>0</td>\n",
       "      <td>0</td>\n",
       "      <td>0</td>\n",
       "      <td>1</td>\n",
       "      <td>0</td>\n",
       "      <td>2007</td>\n",
       "      <td>2</td>\n",
       "      <td>1</td>\n",
       "      <td>1</td>\n",
       "      <td>20</td>\n",
       "      <td>-3</td>\n",
       "      <td>-3</td>\n",
       "      <td>1</td>\n",
       "    </tr>\n",
       "    <tr>\n",
       "      <th>2</th>\n",
       "      <td>2</td>\n",
       "      <td>2007-01-10 08:30:00</td>\n",
       "      <td>68</td>\n",
       "      <td>1.0</td>\n",
       "      <td>0</td>\n",
       "      <td>0.0</td>\n",
       "      <td>0</td>\n",
       "      <td>0</td>\n",
       "      <td>1</td>\n",
       "      <td>0</td>\n",
       "      <td>1</td>\n",
       "      <td>0</td>\n",
       "      <td>0</td>\n",
       "      <td>1</td>\n",
       "      <td>0</td>\n",
       "      <td>0</td>\n",
       "      <td>2007</td>\n",
       "      <td>2</td>\n",
       "      <td>2</td>\n",
       "      <td>1</td>\n",
       "      <td>22</td>\n",
       "      <td>-13</td>\n",
       "      <td>-8</td>\n",
       "      <td>1</td>\n",
       "    </tr>\n",
       "    <tr>\n",
       "      <th>3</th>\n",
       "      <td>3</td>\n",
       "      <td>2007-01-10 10:00:00</td>\n",
       "      <td>31</td>\n",
       "      <td>1.0</td>\n",
       "      <td>0</td>\n",
       "      <td>0.0</td>\n",
       "      <td>0</td>\n",
       "      <td>0</td>\n",
       "      <td>0</td>\n",
       "      <td>1</td>\n",
       "      <td>0</td>\n",
       "      <td>1</td>\n",
       "      <td>0</td>\n",
       "      <td>0</td>\n",
       "      <td>1</td>\n",
       "      <td>0</td>\n",
       "      <td>2007</td>\n",
       "      <td>2</td>\n",
       "      <td>2</td>\n",
       "      <td>1</td>\n",
       "      <td>24</td>\n",
       "      <td>-15</td>\n",
       "      <td>-21</td>\n",
       "      <td>0</td>\n",
       "    </tr>\n",
       "    <tr>\n",
       "      <th>4</th>\n",
       "      <td>4</td>\n",
       "      <td>2007-01-10 10:30:00</td>\n",
       "      <td>18</td>\n",
       "      <td>-3.5</td>\n",
       "      <td>0</td>\n",
       "      <td>0.0</td>\n",
       "      <td>0</td>\n",
       "      <td>1</td>\n",
       "      <td>0</td>\n",
       "      <td>0</td>\n",
       "      <td>1</td>\n",
       "      <td>0</td>\n",
       "      <td>0</td>\n",
       "      <td>0</td>\n",
       "      <td>1</td>\n",
       "      <td>0</td>\n",
       "      <td>2007</td>\n",
       "      <td>2</td>\n",
       "      <td>2</td>\n",
       "      <td>1</td>\n",
       "      <td>46</td>\n",
       "      <td>-37</td>\n",
       "      <td>13</td>\n",
       "      <td>2</td>\n",
       "    </tr>\n",
       "  </tbody>\n",
       "</table>\n",
       "</div>"
      ],
      "text/plain": [
       "   Unnamed: 0             datetime new_id  forecast_error_diff_deviation  forecast_error_diff_outlier_class  previous_error_diff_deviation  previous_error_diff_outlier_class  fe_accurate  fe_better  fe_worse  pe_accurate  pe_better  pe_worse  High  Low  Medium  year  week  weekday  num_news  volatility_60_0_before  pips_agg_60_0_before  pips_agg_0_60_after  direction_agg_0_60_after\n",
       "0           0  2007-01-08 15:00:00     12                            1.0                                  0                            0.0                                  0            0          1         0            1          0         0     0    1       0  2007     2        0         1                      14                     4                   -1                         1\n",
       "1           1  2007-01-09 10:00:00     37                            0.0                                  0                            0.0                                  0            1          0         0            1          0         0     0    1       0  2007     2        1         1                      20                    -3                   -3                         1\n",
       "2           2  2007-01-10 08:30:00     68                            1.0                                  0                            0.0                                  0            0          1         0            1          0         0     1    0       0  2007     2        2         1                      22                   -13                   -8                         1\n",
       "3           3  2007-01-10 10:00:00     31                            1.0                                  0                            0.0                                  0            0          0         1            0          1         0     0    1       0  2007     2        2         1                      24                   -15                  -21                         0\n",
       "4           4  2007-01-10 10:30:00     18                           -3.5                                  0                            0.0                                  0            1          0         0            1          0         0     0    1       0  2007     2        2         1                      46                   -37                   13                         2"
      ]
     },
     "execution_count": 236,
     "metadata": {},
     "output_type": "execute_result"
    }
   ],
   "source": [
    "df_data.head(5)"
   ]
  },
  {
   "cell_type": "code",
   "execution_count": 240,
   "metadata": {},
   "outputs": [
    {
     "name": "stderr",
     "output_type": "stream",
     "text": [
      "/anaconda3/lib/python3.6/site-packages/sklearn/metrics/classification.py:1143: UndefinedMetricWarning: Precision and F-score are ill-defined and being set to 0.0 in labels with no predicted samples.\n",
      "  'precision', 'predicted', average, warn_for)\n"
     ]
    }
   ],
   "source": [
    "clf_report = classification_report(y_test, y_predict, output_dict=True)"
   ]
  },
  {
   "cell_type": "code",
   "execution_count": 241,
   "metadata": {},
   "outputs": [
    {
     "data": {
      "text/plain": [
       "{'0': {'precision': 0.0, 'recall': 0.0, 'f1-score': 0.0, 'support': 311},\n",
       " '1': {'precision': 0.5092879256965944,\n",
       "  'recall': 1.0,\n",
       "  'f1-score': 0.6748717948717948,\n",
       "  'support': 658},\n",
       " '2': {'precision': 0.0, 'recall': 0.0, 'f1-score': 0.0, 'support': 323},\n",
       " 'micro avg': {'precision': 0.5092879256965944,\n",
       "  'recall': 0.5092879256965944,\n",
       "  'f1-score': 0.5092879256965944,\n",
       "  'support': 1292},\n",
       " 'macro avg': {'precision': 0.1697626418988648,\n",
       "  'recall': 0.3333333333333333,\n",
       "  'f1-score': 0.22495726495726495,\n",
       "  'support': 1292},\n",
       " 'weighted avg': {'precision': 0.2593741912603399,\n",
       "  'recall': 0.5092879256965944,\n",
       "  'f1-score': 0.34370405652139396,\n",
       "  'support': 1292}}"
      ]
     },
     "execution_count": 241,
     "metadata": {},
     "output_type": "execute_result"
    }
   ],
   "source": [
    "clf_report"
   ]
  },
  {
   "cell_type": "markdown",
   "metadata": {},
   "source": [
    "How the 60_240 models behave?"
   ]
  },
  {
   "cell_type": "code",
   "execution_count": 210,
   "metadata": {},
   "outputs": [
    {
     "data": {
      "text/plain": [
       "\"{'0': {'precision': 0.0, 'recall': 0.0, 'f1-score': 0.0, 'support': 0}, '1': {'precision': 1.0, 'recall': 0.5092879256965944, 'f1-score': 0.6748717948717948, 'support': 1292}, '2': {'precision': 0.0, 'recall': 0.0, 'f1-score': 0.0, 'support': 0}, 'micro avg': {'precision': 0.5092879256965944, 'recall': 0.5092879256965944, 'f1-score': 0.5092879256965944, 'support': 1292}, 'macro avg': {'precision': 0.3333333333333333, 'recall': 0.1697626418988648, 'f1-score': 0.22495726495726495, 'support': 1292}, 'weighted avg': {'precision': 1.0, 'recall': 0.5092879256965944, 'f1-score': 0.6748717948717948, 'support': 1292}}\""
      ]
     },
     "execution_count": 210,
     "metadata": {},
     "output_type": "execute_result"
    }
   ],
   "source": [
    "list(df[(df['sweep_buy_sell']=='0_60') & (df['model'] == 'svc-rbf')].clf_report)[0]"
   ]
  },
  {
   "cell_type": "code",
   "execution_count": 96,
   "metadata": {},
   "outputs": [
    {
     "data": {
      "text/html": [
       "<div>\n",
       "<style scoped>\n",
       "    .dataframe tbody tr th:only-of-type {\n",
       "        vertical-align: middle;\n",
       "    }\n",
       "\n",
       "    .dataframe tbody tr th {\n",
       "        vertical-align: top;\n",
       "    }\n",
       "\n",
       "    .dataframe thead th {\n",
       "        text-align: right;\n",
       "    }\n",
       "</style>\n",
       "<table border=\"1\" class=\"dataframe\">\n",
       "  <thead>\n",
       "    <tr style=\"text-align: right;\">\n",
       "      <th></th>\n",
       "      <th>Unnamed: 0</th>\n",
       "      <th>model_type</th>\n",
       "      <th>model</th>\n",
       "      <th>sweeps_market_variables</th>\n",
       "      <th>sweep_news_agg</th>\n",
       "      <th>sweep_buy_sell</th>\n",
       "      <th>before_data</th>\n",
       "      <th>sweep_grid</th>\n",
       "      <th>best_score</th>\n",
       "      <th>best_params</th>\n",
       "      <th>accuracy_test</th>\n",
       "      <th>accuracy_per_class</th>\n",
       "      <th>ocurrences_per_class</th>\n",
       "      <th>total_ocurrences</th>\n",
       "      <th>elapsed_time</th>\n",
       "    </tr>\n",
       "  </thead>\n",
       "  <tbody>\n",
       "    <tr>\n",
       "      <th>128</th>\n",
       "      <td>6</td>\n",
       "      <td>clf</td>\n",
       "      <td>ada</td>\n",
       "      <td>all</td>\n",
       "      <td>ALL_YES_3_2_1</td>\n",
       "      <td>0_60</td>\n",
       "      <td>included</td>\n",
       "      <td>basic</td>\n",
       "      <td>0.54</td>\n",
       "      <td>{'n_estimators': 50}</td>\n",
       "      <td>0.54</td>\n",
       "      <td>[17.77777777777778, 89.171974522293, 14.479638...</td>\n",
       "      <td>[225, 471, 221]</td>\n",
       "      <td>917</td>\n",
       "      <td>0.36</td>\n",
       "    </tr>\n",
       "    <tr>\n",
       "      <th>126</th>\n",
       "      <td>4</td>\n",
       "      <td>clf</td>\n",
       "      <td>xgb</td>\n",
       "      <td>all</td>\n",
       "      <td>ALL_YES_3_2_1</td>\n",
       "      <td>0_60</td>\n",
       "      <td>included</td>\n",
       "      <td>basic</td>\n",
       "      <td>0.55</td>\n",
       "      <td>{'n_estimators': 10}</td>\n",
       "      <td>0.54</td>\n",
       "      <td>[10.666666666666666, 93.84288747346072, 11.764...</td>\n",
       "      <td>[225, 471, 221]</td>\n",
       "      <td>917</td>\n",
       "      <td>0.74</td>\n",
       "    </tr>\n",
       "    <tr>\n",
       "      <th>52</th>\n",
       "      <td>4</td>\n",
       "      <td>clf</td>\n",
       "      <td>rforest</td>\n",
       "      <td>all</td>\n",
       "      <td>ALL_NO_3_2_1</td>\n",
       "      <td>0_60</td>\n",
       "      <td>included</td>\n",
       "      <td>basic</td>\n",
       "      <td>0.52</td>\n",
       "      <td>{'max_depth': 6, 'min_samples_leaf': 30, 'n_es...</td>\n",
       "      <td>0.54</td>\n",
       "      <td>[18.006430868167204, 93.31306990881458, 8.3591...</td>\n",
       "      <td>[311, 658, 323]</td>\n",
       "      <td>1292</td>\n",
       "      <td>10.54</td>\n",
       "    </tr>\n",
       "    <tr>\n",
       "      <th>121</th>\n",
       "      <td>6</td>\n",
       "      <td>clf</td>\n",
       "      <td>ada</td>\n",
       "      <td>basic</td>\n",
       "      <td>ALL_YES_3_2_1</td>\n",
       "      <td>0_60</td>\n",
       "      <td>included</td>\n",
       "      <td>basic</td>\n",
       "      <td>0.54</td>\n",
       "      <td>{'n_estimators': 50}</td>\n",
       "      <td>0.54</td>\n",
       "      <td>[17.77777777777778, 89.171974522293, 14.479638...</td>\n",
       "      <td>[225, 471, 221]</td>\n",
       "      <td>917</td>\n",
       "      <td>0.41</td>\n",
       "    </tr>\n",
       "    <tr>\n",
       "      <th>119</th>\n",
       "      <td>4</td>\n",
       "      <td>clf</td>\n",
       "      <td>xgb</td>\n",
       "      <td>basic</td>\n",
       "      <td>ALL_YES_3_2_1</td>\n",
       "      <td>0_60</td>\n",
       "      <td>included</td>\n",
       "      <td>basic</td>\n",
       "      <td>0.55</td>\n",
       "      <td>{'n_estimators': 10}</td>\n",
       "      <td>0.54</td>\n",
       "      <td>[10.666666666666666, 93.84288747346072, 11.764...</td>\n",
       "      <td>[225, 471, 221]</td>\n",
       "      <td>917</td>\n",
       "      <td>0.68</td>\n",
       "    </tr>\n",
       "  </tbody>\n",
       "</table>\n",
       "</div>"
      ],
      "text/plain": [
       "     Unnamed: 0 model_type    model sweeps_market_variables sweep_news_agg sweep_buy_sell before_data sweep_grid  best_score                                        best_params  accuracy_test                                 accuracy_per_class ocurrences_per_class  total_ocurrences  elapsed_time\n",
       "128           6        clf      ada                     all  ALL_YES_3_2_1           0_60    included      basic        0.54                               {'n_estimators': 50}           0.54  [17.77777777777778, 89.171974522293, 14.479638...      [225, 471, 221]               917          0.36\n",
       "126           4        clf      xgb                     all  ALL_YES_3_2_1           0_60    included      basic        0.55                               {'n_estimators': 10}           0.54  [10.666666666666666, 93.84288747346072, 11.764...      [225, 471, 221]               917          0.74\n",
       "52            4        clf  rforest                     all   ALL_NO_3_2_1           0_60    included      basic        0.52  {'max_depth': 6, 'min_samples_leaf': 30, 'n_es...           0.54  [18.006430868167204, 93.31306990881458, 8.3591...      [311, 658, 323]              1292         10.54\n",
       "121           6        clf      ada                   basic  ALL_YES_3_2_1           0_60    included      basic        0.54                               {'n_estimators': 50}           0.54  [17.77777777777778, 89.171974522293, 14.479638...      [225, 471, 221]               917          0.41\n",
       "119           4        clf      xgb                   basic  ALL_YES_3_2_1           0_60    included      basic        0.55                               {'n_estimators': 10}           0.54  [10.666666666666666, 93.84288747346072, 11.764...      [225, 471, 221]               917          0.68"
      ]
     },
     "execution_count": 96,
     "metadata": {},
     "output_type": "execute_result"
    }
   ],
   "source": [
    "df[df['sweep_buy_sell']=='0_60'].sort_values(by='accuracy_test', ascending=False)[0:5]"
   ]
  },
  {
   "cell_type": "code",
   "execution_count": 110,
   "metadata": {},
   "outputs": [
    {
     "data": {
      "text/plain": [
       "'3,4,1'"
      ]
     },
     "execution_count": 110,
     "metadata": {},
     "output_type": "execute_result"
    }
   ],
   "source": [
    "x = '[3,4,1]'\n",
    "x[1:-1].split(',')"
   ]
  },
  {
   "cell_type": "code",
   "execution_count": 125,
   "metadata": {},
   "outputs": [],
   "source": [
    "df['accuracy_per_class'] = df['accuracy_per_class'].apply(lambda x: x[1:-1].split(','))\n",
    "df['USD_increases'] = df['accuracy_per_class'].apply(lambda x: x[0])\n",
    "df['no_impact'] = df['accuracy_per_class'].apply(lambda x: x[1])\n",
    "df['USD_decreases'] = df['accuracy_per_class'].apply(lambda x: x[2])"
   ]
  },
  {
   "cell_type": "code",
   "execution_count": 126,
   "metadata": {},
   "outputs": [
    {
     "data": {
      "text/html": [
       "<div>\n",
       "<style scoped>\n",
       "    .dataframe tbody tr th:only-of-type {\n",
       "        vertical-align: middle;\n",
       "    }\n",
       "\n",
       "    .dataframe tbody tr th {\n",
       "        vertical-align: top;\n",
       "    }\n",
       "\n",
       "    .dataframe thead th {\n",
       "        text-align: right;\n",
       "    }\n",
       "</style>\n",
       "<table border=\"1\" class=\"dataframe\">\n",
       "  <thead>\n",
       "    <tr style=\"text-align: right;\">\n",
       "      <th></th>\n",
       "      <th>Unnamed: 0</th>\n",
       "      <th>model_type</th>\n",
       "      <th>model</th>\n",
       "      <th>sweeps_market_variables</th>\n",
       "      <th>sweep_news_agg</th>\n",
       "      <th>sweep_buy_sell</th>\n",
       "      <th>before_data</th>\n",
       "      <th>sweep_grid</th>\n",
       "      <th>best_score</th>\n",
       "      <th>best_params</th>\n",
       "      <th>accuracy_test</th>\n",
       "      <th>accuracy_per_class</th>\n",
       "      <th>ocurrences_per_class</th>\n",
       "      <th>total_ocurrences</th>\n",
       "      <th>elapsed_time</th>\n",
       "      <th>USD_increases</th>\n",
       "      <th>no_impact</th>\n",
       "      <th>USD_decreases</th>\n",
       "    </tr>\n",
       "  </thead>\n",
       "  <tbody>\n",
       "    <tr>\n",
       "      <th>0</th>\n",
       "      <td>0</td>\n",
       "      <td>clf</td>\n",
       "      <td>kn</td>\n",
       "      <td>basic</td>\n",
       "      <td>ALL_NO_1_1_1</td>\n",
       "      <td>0_60</td>\n",
       "      <td>included</td>\n",
       "      <td>basic</td>\n",
       "      <td>0.5</td>\n",
       "      <td>{'n_neighbors': 81}</td>\n",
       "      <td>0.53</td>\n",
       "      <td>[9.32475884244373,  93.61702127659575,  12.383...</td>\n",
       "      <td>[311, 658, 323]</td>\n",
       "      <td>1292</td>\n",
       "      <td>0.61</td>\n",
       "      <td>9.32475884244373</td>\n",
       "      <td>93.61702127659575</td>\n",
       "      <td>12.38390092879257</td>\n",
       "    </tr>\n",
       "    <tr>\n",
       "      <th>1</th>\n",
       "      <td>1</td>\n",
       "      <td>clf</td>\n",
       "      <td>svc-rbf</td>\n",
       "      <td>basic</td>\n",
       "      <td>ALL_NO_1_1_1</td>\n",
       "      <td>0_60</td>\n",
       "      <td>included</td>\n",
       "      <td>basic</td>\n",
       "      <td>0.5</td>\n",
       "      <td>{'C': 1, 'gamma': 1}</td>\n",
       "      <td>0.51</td>\n",
       "      <td>[0.0,  100.0,  0.0]</td>\n",
       "      <td>[311, 658, 323]</td>\n",
       "      <td>1292</td>\n",
       "      <td>5.68</td>\n",
       "      <td>0.0</td>\n",
       "      <td>100.0</td>\n",
       "      <td>0.0</td>\n",
       "    </tr>\n",
       "  </tbody>\n",
       "</table>\n",
       "</div>"
      ],
      "text/plain": [
       "   Unnamed: 0 model_type    model sweeps_market_variables sweep_news_agg sweep_buy_sell before_data sweep_grid  best_score           best_params  accuracy_test                                 accuracy_per_class ocurrences_per_class  total_ocurrences  elapsed_time     USD_increases           no_impact       USD_decreases\n",
       "0           0        clf       kn                   basic   ALL_NO_1_1_1           0_60    included      basic         0.5   {'n_neighbors': 81}           0.53  [9.32475884244373,  93.61702127659575,  12.383...      [311, 658, 323]              1292          0.61  9.32475884244373   93.61702127659575   12.38390092879257\n",
       "1           1        clf  svc-rbf                   basic   ALL_NO_1_1_1           0_60    included      basic         0.5  {'C': 1, 'gamma': 1}           0.51                                [0.0,  100.0,  0.0]      [311, 658, 323]              1292          5.68               0.0               100.0                 0.0"
      ]
     },
     "execution_count": 126,
     "metadata": {},
     "output_type": "execute_result"
    }
   ],
   "source": [
    "df.head(2)"
   ]
  },
  {
   "cell_type": "markdown",
   "metadata": {},
   "source": [
    "Which model has a higher precision estimating USD_decreases?"
   ]
  },
  {
   "cell_type": "code",
   "execution_count": 132,
   "metadata": {},
   "outputs": [
    {
     "data": {
      "text/plain": [
       "Unnamed: 0                   int64\n",
       "model_type                  object\n",
       "model                       object\n",
       "sweeps_market_variables     object\n",
       "sweep_news_agg              object\n",
       "sweep_buy_sell              object\n",
       "before_data                 object\n",
       "sweep_grid                  object\n",
       "best_score                 float64\n",
       "best_params                 object\n",
       "accuracy_test              float64\n",
       "accuracy_per_class          object\n",
       "ocurrences_per_class        object\n",
       "total_ocurrences             int64\n",
       "elapsed_time               float64\n",
       "USD_increases               object\n",
       "no_impact                   object\n",
       "USD_decreases               object\n",
       "dtype: object"
      ]
     },
     "execution_count": 132,
     "metadata": {},
     "output_type": "execute_result"
    }
   ],
   "source": [
    "df.dtypes"
   ]
  },
  {
   "cell_type": "code",
   "execution_count": 133,
   "metadata": {},
   "outputs": [],
   "source": [
    "df['USD_increases'] = df['USD_increases'].astype('float')\n",
    "df['no_impact'] = df['no_impact'].astype('float')\n",
    "df['USD_decreases'] = df['USD_decreases'].astype('float')"
   ]
  },
  {
   "cell_type": "code",
   "execution_count": 134,
   "metadata": {},
   "outputs": [
    {
     "data": {
      "text/html": [
       "<div>\n",
       "<style scoped>\n",
       "    .dataframe tbody tr th:only-of-type {\n",
       "        vertical-align: middle;\n",
       "    }\n",
       "\n",
       "    .dataframe tbody tr th {\n",
       "        vertical-align: top;\n",
       "    }\n",
       "\n",
       "    .dataframe thead th {\n",
       "        text-align: right;\n",
       "    }\n",
       "</style>\n",
       "<table border=\"1\" class=\"dataframe\">\n",
       "  <thead>\n",
       "    <tr style=\"text-align: right;\">\n",
       "      <th></th>\n",
       "      <th>Unnamed: 0</th>\n",
       "      <th>model_type</th>\n",
       "      <th>model</th>\n",
       "      <th>sweeps_market_variables</th>\n",
       "      <th>sweep_news_agg</th>\n",
       "      <th>sweep_buy_sell</th>\n",
       "      <th>before_data</th>\n",
       "      <th>sweep_grid</th>\n",
       "      <th>best_score</th>\n",
       "      <th>best_params</th>\n",
       "      <th>accuracy_test</th>\n",
       "      <th>accuracy_per_class</th>\n",
       "      <th>ocurrences_per_class</th>\n",
       "      <th>total_ocurrences</th>\n",
       "      <th>elapsed_time</th>\n",
       "      <th>USD_increases</th>\n",
       "      <th>no_impact</th>\n",
       "      <th>USD_decreases</th>\n",
       "    </tr>\n",
       "  </thead>\n",
       "  <tbody>\n",
       "    <tr>\n",
       "      <th>610</th>\n",
       "      <td>2</td>\n",
       "      <td>clf</td>\n",
       "      <td>dtree</td>\n",
       "      <td>all</td>\n",
       "      <td>High_YES_1_1_1</td>\n",
       "      <td>30_60</td>\n",
       "      <td>included</td>\n",
       "      <td>basic</td>\n",
       "      <td>0.68</td>\n",
       "      <td>{'max_depth': 2, 'min_samples_leaf': 200}</td>\n",
       "      <td>0.68</td>\n",
       "      <td>[75.0,  62.96296296296296,  69.36936936936937]</td>\n",
       "      <td>[116, 162, 111]</td>\n",
       "      <td>389</td>\n",
       "      <td>0.09</td>\n",
       "      <td>75.0</td>\n",
       "      <td>62.962963</td>\n",
       "      <td>69.369369</td>\n",
       "    </tr>\n",
       "  </tbody>\n",
       "</table>\n",
       "</div>"
      ],
      "text/plain": [
       "     Unnamed: 0 model_type  model sweeps_market_variables  sweep_news_agg sweep_buy_sell before_data sweep_grid  best_score                                best_params  accuracy_test                              accuracy_per_class ocurrences_per_class  total_ocurrences  elapsed_time  USD_increases  no_impact  USD_decreases\n",
       "610           2        clf  dtree                     all  High_YES_1_1_1          30_60    included      basic        0.68  {'max_depth': 2, 'min_samples_leaf': 200}           0.68  [75.0,  62.96296296296296,  69.36936936936937]      [116, 162, 111]               389          0.09           75.0  62.962963      69.369369"
      ]
     },
     "execution_count": 134,
     "metadata": {},
     "output_type": "execute_result"
    }
   ],
   "source": [
    "df.sort_values(by='USD_decreases', ascending=False)[0:1]"
   ]
  },
  {
   "cell_type": "code",
   "execution_count": 135,
   "metadata": {},
   "outputs": [
    {
     "data": {
      "text/html": [
       "<div>\n",
       "<style scoped>\n",
       "    .dataframe tbody tr th:only-of-type {\n",
       "        vertical-align: middle;\n",
       "    }\n",
       "\n",
       "    .dataframe tbody tr th {\n",
       "        vertical-align: top;\n",
       "    }\n",
       "\n",
       "    .dataframe thead th {\n",
       "        text-align: right;\n",
       "    }\n",
       "</style>\n",
       "<table border=\"1\" class=\"dataframe\">\n",
       "  <thead>\n",
       "    <tr style=\"text-align: right;\">\n",
       "      <th></th>\n",
       "      <th>Unnamed: 0</th>\n",
       "      <th>model_type</th>\n",
       "      <th>model</th>\n",
       "      <th>sweeps_market_variables</th>\n",
       "      <th>sweep_news_agg</th>\n",
       "      <th>sweep_buy_sell</th>\n",
       "      <th>before_data</th>\n",
       "      <th>sweep_grid</th>\n",
       "      <th>best_score</th>\n",
       "      <th>best_params</th>\n",
       "      <th>accuracy_test</th>\n",
       "      <th>accuracy_per_class</th>\n",
       "      <th>ocurrences_per_class</th>\n",
       "      <th>total_ocurrences</th>\n",
       "      <th>elapsed_time</th>\n",
       "      <th>USD_increases</th>\n",
       "      <th>no_impact</th>\n",
       "      <th>USD_decreases</th>\n",
       "    </tr>\n",
       "  </thead>\n",
       "  <tbody>\n",
       "    <tr>\n",
       "      <th>1377</th>\n",
       "      <td>1</td>\n",
       "      <td>clf</td>\n",
       "      <td>svc-rbf</td>\n",
       "      <td>all</td>\n",
       "      <td>ALL_NO_3_2_1</td>\n",
       "      <td>60_180</td>\n",
       "      <td>included</td>\n",
       "      <td>basic</td>\n",
       "      <td>0.5</td>\n",
       "      <td>{'C': 1, 'gamma': 1}</td>\n",
       "      <td>0.48</td>\n",
       "      <td>[0.0,  100.0,  0.0]</td>\n",
       "      <td>[316, 624, 352]</td>\n",
       "      <td>1292</td>\n",
       "      <td>7.2</td>\n",
       "      <td>0.0</td>\n",
       "      <td>100.0</td>\n",
       "      <td>0.0</td>\n",
       "    </tr>\n",
       "  </tbody>\n",
       "</table>\n",
       "</div>"
      ],
      "text/plain": [
       "      Unnamed: 0 model_type    model sweeps_market_variables sweep_news_agg sweep_buy_sell before_data sweep_grid  best_score           best_params  accuracy_test   accuracy_per_class ocurrences_per_class  total_ocurrences  elapsed_time  USD_increases  no_impact  USD_decreases\n",
       "1377           1        clf  svc-rbf                     all   ALL_NO_3_2_1         60_180    included      basic         0.5  {'C': 1, 'gamma': 1}           0.48  [0.0,  100.0,  0.0]      [316, 624, 352]              1292           7.2            0.0      100.0            0.0"
      ]
     },
     "execution_count": 135,
     "metadata": {},
     "output_type": "execute_result"
    }
   ],
   "source": [
    "df.sort_values(by='no_impact', ascending=False)[0:1]"
   ]
  },
  {
   "cell_type": "code",
   "execution_count": 136,
   "metadata": {},
   "outputs": [
    {
     "data": {
      "text/html": [
       "<div>\n",
       "<style scoped>\n",
       "    .dataframe tbody tr th:only-of-type {\n",
       "        vertical-align: middle;\n",
       "    }\n",
       "\n",
       "    .dataframe tbody tr th {\n",
       "        vertical-align: top;\n",
       "    }\n",
       "\n",
       "    .dataframe thead th {\n",
       "        text-align: right;\n",
       "    }\n",
       "</style>\n",
       "<table border=\"1\" class=\"dataframe\">\n",
       "  <thead>\n",
       "    <tr style=\"text-align: right;\">\n",
       "      <th></th>\n",
       "      <th>Unnamed: 0</th>\n",
       "      <th>model_type</th>\n",
       "      <th>model</th>\n",
       "      <th>sweeps_market_variables</th>\n",
       "      <th>sweep_news_agg</th>\n",
       "      <th>sweep_buy_sell</th>\n",
       "      <th>before_data</th>\n",
       "      <th>sweep_grid</th>\n",
       "      <th>best_score</th>\n",
       "      <th>best_params</th>\n",
       "      <th>accuracy_test</th>\n",
       "      <th>accuracy_per_class</th>\n",
       "      <th>ocurrences_per_class</th>\n",
       "      <th>total_ocurrences</th>\n",
       "      <th>elapsed_time</th>\n",
       "      <th>USD_increases</th>\n",
       "      <th>no_impact</th>\n",
       "      <th>USD_decreases</th>\n",
       "    </tr>\n",
       "  </thead>\n",
       "  <tbody>\n",
       "    <tr>\n",
       "      <th>1006</th>\n",
       "      <td>2</td>\n",
       "      <td>clf</td>\n",
       "      <td>svc-poly</td>\n",
       "      <td>all</td>\n",
       "      <td>ALL_NO_1_1_1</td>\n",
       "      <td>60_120</td>\n",
       "      <td>included</td>\n",
       "      <td>basic</td>\n",
       "      <td>0.29</td>\n",
       "      <td>{}</td>\n",
       "      <td>0.26</td>\n",
       "      <td>[100.0,  0.0,  0.0]</td>\n",
       "      <td>[332, 618, 342]</td>\n",
       "      <td>1292</td>\n",
       "      <td>0.23</td>\n",
       "      <td>100.0</td>\n",
       "      <td>0.0</td>\n",
       "      <td>0.0</td>\n",
       "    </tr>\n",
       "  </tbody>\n",
       "</table>\n",
       "</div>"
      ],
      "text/plain": [
       "      Unnamed: 0 model_type     model sweeps_market_variables sweep_news_agg sweep_buy_sell before_data sweep_grid  best_score best_params  accuracy_test   accuracy_per_class ocurrences_per_class  total_ocurrences  elapsed_time  USD_increases  no_impact  USD_decreases\n",
       "1006           2        clf  svc-poly                     all   ALL_NO_1_1_1         60_120    included      basic        0.29          {}           0.26  [100.0,  0.0,  0.0]      [332, 618, 342]              1292          0.23          100.0        0.0            0.0"
      ]
     },
     "execution_count": 136,
     "metadata": {},
     "output_type": "execute_result"
    }
   ],
   "source": [
    "df.sort_values(by='USD_increases', ascending=False)[0:1]"
   ]
  },
  {
   "cell_type": "code",
   "execution_count": null,
   "metadata": {},
   "outputs": [],
   "source": []
  },
  {
   "cell_type": "code",
   "execution_count": null,
   "metadata": {},
   "outputs": [],
   "source": []
  },
  {
   "cell_type": "code",
   "execution_count": null,
   "metadata": {},
   "outputs": [],
   "source": []
  },
  {
   "cell_type": "markdown",
   "metadata": {},
   "source": [
    "Let´s review the accuracy of knn models"
   ]
  },
  {
   "cell_type": "code",
   "execution_count": 175,
   "metadata": {},
   "outputs": [],
   "source": [
    "df = pd.read_csv('./models_out/ALL_NO_1_1_1-all-included-0_60-basic.csv')"
   ]
  },
  {
   "cell_type": "code",
   "execution_count": 176,
   "metadata": {},
   "outputs": [
    {
     "data": {
      "text/plain": [
       "Index(['Unnamed: 0', 'datetime', 'new_id', 'forecast_error_diff_deviation', 'forecast_error_diff_outlier_class', 'previous_error_diff_deviation', 'previous_error_diff_outlier_class', 'fe_accurate', 'fe_better', 'fe_worse', 'pe_accurate', 'pe_better', 'pe_worse', 'High', 'Low', 'Medium', 'year', 'week', 'weekday', 'num_news', 'volatility_60_0_before', 'pips_agg_60_0_before', 'pips_agg_0_60_after', 'direction_agg_0_60_after'], dtype='object')"
      ]
     },
     "execution_count": 176,
     "metadata": {},
     "output_type": "execute_result"
    }
   ],
   "source": [
    "df.columns"
   ]
  },
  {
   "cell_type": "code",
   "execution_count": 177,
   "metadata": {},
   "outputs": [
    {
     "data": {
      "text/html": [
       "<div>\n",
       "<style scoped>\n",
       "    .dataframe tbody tr th:only-of-type {\n",
       "        vertical-align: middle;\n",
       "    }\n",
       "\n",
       "    .dataframe tbody tr th {\n",
       "        vertical-align: top;\n",
       "    }\n",
       "\n",
       "    .dataframe thead th {\n",
       "        text-align: right;\n",
       "    }\n",
       "</style>\n",
       "<table border=\"1\" class=\"dataframe\">\n",
       "  <thead>\n",
       "    <tr style=\"text-align: right;\">\n",
       "      <th></th>\n",
       "      <th>Unnamed: 0</th>\n",
       "      <th>datetime</th>\n",
       "      <th>new_id</th>\n",
       "      <th>forecast_error_diff_deviation</th>\n",
       "      <th>forecast_error_diff_outlier_class</th>\n",
       "      <th>previous_error_diff_deviation</th>\n",
       "      <th>previous_error_diff_outlier_class</th>\n",
       "      <th>fe_accurate</th>\n",
       "      <th>fe_better</th>\n",
       "      <th>fe_worse</th>\n",
       "      <th>pe_accurate</th>\n",
       "      <th>pe_better</th>\n",
       "      <th>pe_worse</th>\n",
       "      <th>High</th>\n",
       "      <th>Low</th>\n",
       "      <th>Medium</th>\n",
       "      <th>year</th>\n",
       "      <th>week</th>\n",
       "      <th>weekday</th>\n",
       "      <th>num_news</th>\n",
       "      <th>volatility_60_0_before</th>\n",
       "      <th>pips_agg_60_0_before</th>\n",
       "      <th>pips_agg_0_60_after</th>\n",
       "      <th>direction_agg_0_60_after</th>\n",
       "    </tr>\n",
       "  </thead>\n",
       "  <tbody>\n",
       "    <tr>\n",
       "      <th>0</th>\n",
       "      <td>0</td>\n",
       "      <td>2007-01-08 15:00:00</td>\n",
       "      <td>12</td>\n",
       "      <td>1.0</td>\n",
       "      <td>0</td>\n",
       "      <td>0.0</td>\n",
       "      <td>0</td>\n",
       "      <td>0</td>\n",
       "      <td>1</td>\n",
       "      <td>0</td>\n",
       "      <td>1</td>\n",
       "      <td>0</td>\n",
       "      <td>0</td>\n",
       "      <td>0</td>\n",
       "      <td>1</td>\n",
       "      <td>0</td>\n",
       "      <td>2007</td>\n",
       "      <td>2</td>\n",
       "      <td>0</td>\n",
       "      <td>1</td>\n",
       "      <td>14</td>\n",
       "      <td>4</td>\n",
       "      <td>-1</td>\n",
       "      <td>1</td>\n",
       "    </tr>\n",
       "    <tr>\n",
       "      <th>1</th>\n",
       "      <td>1</td>\n",
       "      <td>2007-01-09 10:00:00</td>\n",
       "      <td>37</td>\n",
       "      <td>0.0</td>\n",
       "      <td>0</td>\n",
       "      <td>0.0</td>\n",
       "      <td>0</td>\n",
       "      <td>1</td>\n",
       "      <td>0</td>\n",
       "      <td>0</td>\n",
       "      <td>1</td>\n",
       "      <td>0</td>\n",
       "      <td>0</td>\n",
       "      <td>0</td>\n",
       "      <td>1</td>\n",
       "      <td>0</td>\n",
       "      <td>2007</td>\n",
       "      <td>2</td>\n",
       "      <td>1</td>\n",
       "      <td>1</td>\n",
       "      <td>20</td>\n",
       "      <td>-3</td>\n",
       "      <td>-3</td>\n",
       "      <td>1</td>\n",
       "    </tr>\n",
       "  </tbody>\n",
       "</table>\n",
       "</div>"
      ],
      "text/plain": [
       "   Unnamed: 0             datetime new_id  forecast_error_diff_deviation  forecast_error_diff_outlier_class  previous_error_diff_deviation  previous_error_diff_outlier_class  fe_accurate  fe_better  fe_worse  pe_accurate  pe_better  pe_worse  High  Low  Medium  year  week  weekday  num_news  volatility_60_0_before  pips_agg_60_0_before  pips_agg_0_60_after  direction_agg_0_60_after\n",
       "0           0  2007-01-08 15:00:00     12                            1.0                                  0                            0.0                                  0            0          1         0            1          0         0     0    1       0  2007     2        0         1                      14                     4                   -1                         1\n",
       "1           1  2007-01-09 10:00:00     37                            0.0                                  0                            0.0                                  0            1          0         0            1          0         0     0    1       0  2007     2        1         1                      20                    -3                   -3                         1"
      ]
     },
     "execution_count": 177,
     "metadata": {},
     "output_type": "execute_result"
    }
   ],
   "source": [
    "df.head(2)"
   ]
  },
  {
   "cell_type": "code",
   "execution_count": 163,
   "metadata": {},
   "outputs": [],
   "source": [
    "from sklearn.model_selection import train_test_split\n",
    "from sklearn.neighbors import KNeighborsClassifier\n",
    "from sklearn.model_selection import GridSearchCV\n",
    "from sklearn.metrics import accuracy_score, classification_report"
   ]
  },
  {
   "cell_type": "code",
   "execution_count": 178,
   "metadata": {},
   "outputs": [],
   "source": [
    "X = df[df.columns[2:-2]].values\n",
    "y = df[df.columns[-1]].values\n",
    "\n",
    "X_train, X_test, y_train, y_test = train_test_split(X, y, test_size=0.2, random_state=42)"
   ]
  },
  {
   "cell_type": "code",
   "execution_count": 179,
   "metadata": {},
   "outputs": [
    {
     "data": {
      "text/html": [
       "<div>\n",
       "<style scoped>\n",
       "    .dataframe tbody tr th:only-of-type {\n",
       "        vertical-align: middle;\n",
       "    }\n",
       "\n",
       "    .dataframe tbody tr th {\n",
       "        vertical-align: top;\n",
       "    }\n",
       "\n",
       "    .dataframe thead th {\n",
       "        text-align: right;\n",
       "    }\n",
       "</style>\n",
       "<table border=\"1\" class=\"dataframe\">\n",
       "  <thead>\n",
       "    <tr style=\"text-align: right;\">\n",
       "      <th></th>\n",
       "      <th>new_id</th>\n",
       "      <th>forecast_error_diff_deviation</th>\n",
       "      <th>forecast_error_diff_outlier_class</th>\n",
       "      <th>previous_error_diff_deviation</th>\n",
       "      <th>previous_error_diff_outlier_class</th>\n",
       "      <th>fe_accurate</th>\n",
       "      <th>fe_better</th>\n",
       "      <th>fe_worse</th>\n",
       "      <th>pe_accurate</th>\n",
       "      <th>pe_better</th>\n",
       "      <th>pe_worse</th>\n",
       "      <th>High</th>\n",
       "      <th>Low</th>\n",
       "      <th>Medium</th>\n",
       "      <th>year</th>\n",
       "      <th>week</th>\n",
       "      <th>weekday</th>\n",
       "      <th>num_news</th>\n",
       "      <th>volatility_60_0_before</th>\n",
       "      <th>pips_agg_60_0_before</th>\n",
       "    </tr>\n",
       "  </thead>\n",
       "  <tbody>\n",
       "    <tr>\n",
       "      <th>0</th>\n",
       "      <td>12</td>\n",
       "      <td>1.0</td>\n",
       "      <td>0</td>\n",
       "      <td>0.0</td>\n",
       "      <td>0</td>\n",
       "      <td>0</td>\n",
       "      <td>1</td>\n",
       "      <td>0</td>\n",
       "      <td>1</td>\n",
       "      <td>0</td>\n",
       "      <td>0</td>\n",
       "      <td>0</td>\n",
       "      <td>1</td>\n",
       "      <td>0</td>\n",
       "      <td>2007</td>\n",
       "      <td>2</td>\n",
       "      <td>0</td>\n",
       "      <td>1</td>\n",
       "      <td>14</td>\n",
       "      <td>4</td>\n",
       "    </tr>\n",
       "    <tr>\n",
       "      <th>1</th>\n",
       "      <td>37</td>\n",
       "      <td>0.0</td>\n",
       "      <td>0</td>\n",
       "      <td>0.0</td>\n",
       "      <td>0</td>\n",
       "      <td>1</td>\n",
       "      <td>0</td>\n",
       "      <td>0</td>\n",
       "      <td>1</td>\n",
       "      <td>0</td>\n",
       "      <td>0</td>\n",
       "      <td>0</td>\n",
       "      <td>1</td>\n",
       "      <td>0</td>\n",
       "      <td>2007</td>\n",
       "      <td>2</td>\n",
       "      <td>1</td>\n",
       "      <td>1</td>\n",
       "      <td>20</td>\n",
       "      <td>-3</td>\n",
       "    </tr>\n",
       "  </tbody>\n",
       "</table>\n",
       "</div>"
      ],
      "text/plain": [
       "  new_id  forecast_error_diff_deviation  forecast_error_diff_outlier_class  previous_error_diff_deviation  previous_error_diff_outlier_class  fe_accurate  fe_better  fe_worse  pe_accurate  pe_better  pe_worse  High  Low  Medium  year  week  weekday  num_news  volatility_60_0_before  pips_agg_60_0_before\n",
       "0     12                            1.0                                  0                            0.0                                  0            0          1         0            1          0         0     0    1       0  2007     2        0         1                      14                     4\n",
       "1     37                            0.0                                  0                            0.0                                  0            1          0         0            1          0         0     0    1       0  2007     2        1         1                      20                    -3"
      ]
     },
     "execution_count": 179,
     "metadata": {},
     "output_type": "execute_result"
    }
   ],
   "source": [
    " df[df.columns[2:-2]].head(2)"
   ]
  },
  {
   "cell_type": "code",
   "execution_count": 180,
   "metadata": {},
   "outputs": [],
   "source": [
    "clf_kn = GridSearchCV(KNeighborsClassifier(n_neighbors=1),\n",
    "                          param_grid={\"n_neighbors\": range(1, 100, 10)},\n",
    "                          scoring=\"accuracy\",\n",
    "                          cv=5)\n",
    "clf_kn.fit(X_train, y_train)\n",
    "y_predict = clf_kn.predict(X_test)"
   ]
  },
  {
   "cell_type": "code",
   "execution_count": 181,
   "metadata": {},
   "outputs": [
    {
     "name": "stdout",
     "output_type": "stream",
     "text": [
      "0.53\n"
     ]
    }
   ],
   "source": [
    "print(format(accuracy_score(y_predict, y_test), '.2f'))"
   ]
  },
  {
   "cell_type": "code",
   "execution_count": 198,
   "metadata": {},
   "outputs": [
    {
     "data": {
      "text/plain": [
       "{'0': {'precision': 0.3625,\n",
       "  'recall': 0.0932475884244373,\n",
       "  'f1-score': 0.1483375959079284,\n",
       "  'support': 311},\n",
       " '1': {'precision': 0.545615589016829,\n",
       "  'recall': 0.9361702127659575,\n",
       "  'f1-score': 0.6894236149972021,\n",
       "  'support': 658},\n",
       " '2': {'precision': 0.4819277108433735,\n",
       "  'recall': 0.1238390092879257,\n",
       "  'f1-score': 0.19704433497536947,\n",
       "  'support': 323},\n",
       " 'micro avg': {'precision': 0.5301857585139319,\n",
       "  'recall': 0.5301857585139319,\n",
       "  'f1-score': 0.5301857585139319,\n",
       "  'support': 1292},\n",
       " 'macro avg': {'precision': 0.46334776662006755,\n",
       "  'recall': 0.38441893682610684,\n",
       "  'f1-score': 0.34493518196016665,\n",
       "  'support': 1292},\n",
       " 'weighted avg': {'precision': 0.4856154862039343,\n",
       "  'recall': 0.5301857585139319,\n",
       "  'f1-score': 0.4360828569601928,\n",
       "  'support': 1292}}"
      ]
     },
     "execution_count": 198,
     "metadata": {},
     "output_type": "execute_result"
    }
   ],
   "source": [
    "classification_report(y_test, clf_kn.predict(X_test), output_dict=True)"
   ]
  },
  {
   "cell_type": "code",
   "execution_count": 183,
   "metadata": {},
   "outputs": [
    {
     "data": {
      "text/plain": [
       "{'n_neighbors': 81}"
      ]
     },
     "execution_count": 183,
     "metadata": {},
     "output_type": "execute_result"
    }
   ],
   "source": [
    "clf_kn.best_params_"
   ]
  },
  {
   "cell_type": "code",
   "execution_count": 103,
   "metadata": {},
   "outputs": [],
   "source": [
    "y_predict_prob = clf_kn.predict_proba(X_test)"
   ]
  },
  {
   "cell_type": "code",
   "execution_count": 104,
   "metadata": {},
   "outputs": [
    {
     "data": {
      "text/plain": [
       "array([[0.23076923, 0.24175824, 0.18681319, 0.17582418, 0.16483516],\n",
       "       [0.02197802, 0.30769231, 0.28571429, 0.31868132, 0.06593407],\n",
       "       [0.12087912, 0.24175824, 0.37362637, 0.18681319, 0.07692308],\n",
       "       [0.0989011 , 0.21978022, 0.34065934, 0.25274725, 0.08791209]])"
      ]
     },
     "execution_count": 104,
     "metadata": {},
     "output_type": "execute_result"
    }
   ],
   "source": [
    "y_predict_prob[0:4]"
   ]
  },
  {
   "cell_type": "code",
   "execution_count": 107,
   "metadata": {},
   "outputs": [
    {
     "data": {
      "text/plain": [
       "array([[ 18,  52, 109,  26,   8],\n",
       "       [  7,  53, 139,  35,  11],\n",
       "       [  9,  59, 208,  52,  13],\n",
       "       [  9,  55, 159,  47,  15],\n",
       "       [ 18,  43, 104,  28,  15]])"
      ]
     },
     "execution_count": 107,
     "metadata": {},
     "output_type": "execute_result"
    }
   ],
   "source": [
    "confusion_matrix(y_test, clf_kn.predict(X_test))"
   ]
  },
  {
   "cell_type": "code",
   "execution_count": 116,
   "metadata": {},
   "outputs": [],
   "source": [
    "confusion_matrix = pd.crosstab(y_test, clf_kn.predict(X_test), rownames=['True'], colnames=['Predicted'], margins=True)"
   ]
  },
  {
   "cell_type": "code",
   "execution_count": 136,
   "metadata": {},
   "outputs": [
    {
     "name": "stdout",
     "output_type": "stream",
     "text": [
      "18\n",
      "53\n",
      "208\n",
      "47\n",
      "15\n"
     ]
    }
   ],
   "source": [
    "for i in [-2,-1,0,1,2]:\n",
    "    print(confusion_matrix[i][i])"
   ]
  },
  {
   "cell_type": "code",
   "execution_count": 132,
   "metadata": {},
   "outputs": [
    {
     "data": {
      "text/plain": [
       "18"
      ]
     },
     "execution_count": 132,
     "metadata": {},
     "output_type": "execute_result"
    }
   ],
   "source": [
    "confusion_matrix[-2][-2]"
   ]
  },
  {
   "cell_type": "code",
   "execution_count": 137,
   "metadata": {},
   "outputs": [
    {
     "ename": "NameError",
     "evalue": "name 'confusion_matrix' is not defined",
     "output_type": "error",
     "traceback": [
      "\u001b[0;31m---------------------------------------------------------------------------\u001b[0m",
      "\u001b[0;31mNameError\u001b[0m                                 Traceback (most recent call last)",
      "\u001b[0;32m<ipython-input-137-7fd3906586b6>\u001b[0m in \u001b[0;36m<module>\u001b[0;34m()\u001b[0m\n\u001b[0;32m----> 1\u001b[0;31m \u001b[0mconfusion_matrix\u001b[0m\u001b[0;34m[\u001b[0m\u001b[0;34m'All'\u001b[0m\u001b[0;34m]\u001b[0m\u001b[0;34m[\u001b[0m\u001b[0;36m0\u001b[0m\u001b[0;34m]\u001b[0m\u001b[0;34m\u001b[0m\u001b[0;34m\u001b[0m\u001b[0m\n\u001b[0m",
      "\u001b[0;31mNameError\u001b[0m: name 'confusion_matrix' is not defined"
     ]
    }
   ],
   "source": [
    "confusion_matrix['All'][0]"
   ]
  },
  {
   "cell_type": "code",
   "execution_count": 108,
   "metadata": {},
   "outputs": [
    {
     "data": {
      "text/html": [
       "<div>\n",
       "<style scoped>\n",
       "    .dataframe tbody tr th:only-of-type {\n",
       "        vertical-align: middle;\n",
       "    }\n",
       "\n",
       "    .dataframe tbody tr th {\n",
       "        vertical-align: top;\n",
       "    }\n",
       "\n",
       "    .dataframe thead th {\n",
       "        text-align: right;\n",
       "    }\n",
       "</style>\n",
       "<table border=\"1\" class=\"dataframe\">\n",
       "  <thead>\n",
       "    <tr style=\"text-align: right;\">\n",
       "      <th>Predicted</th>\n",
       "      <th>-2</th>\n",
       "      <th>-1</th>\n",
       "      <th>0</th>\n",
       "      <th>1</th>\n",
       "      <th>2</th>\n",
       "      <th>All</th>\n",
       "    </tr>\n",
       "    <tr>\n",
       "      <th>True</th>\n",
       "      <th></th>\n",
       "      <th></th>\n",
       "      <th></th>\n",
       "      <th></th>\n",
       "      <th></th>\n",
       "      <th></th>\n",
       "    </tr>\n",
       "  </thead>\n",
       "  <tbody>\n",
       "    <tr>\n",
       "      <th>-2</th>\n",
       "      <td>18</td>\n",
       "      <td>52</td>\n",
       "      <td>109</td>\n",
       "      <td>26</td>\n",
       "      <td>8</td>\n",
       "      <td>213</td>\n",
       "    </tr>\n",
       "    <tr>\n",
       "      <th>-1</th>\n",
       "      <td>7</td>\n",
       "      <td>53</td>\n",
       "      <td>139</td>\n",
       "      <td>35</td>\n",
       "      <td>11</td>\n",
       "      <td>245</td>\n",
       "    </tr>\n",
       "    <tr>\n",
       "      <th>0</th>\n",
       "      <td>9</td>\n",
       "      <td>59</td>\n",
       "      <td>208</td>\n",
       "      <td>52</td>\n",
       "      <td>13</td>\n",
       "      <td>341</td>\n",
       "    </tr>\n",
       "    <tr>\n",
       "      <th>1</th>\n",
       "      <td>9</td>\n",
       "      <td>55</td>\n",
       "      <td>159</td>\n",
       "      <td>47</td>\n",
       "      <td>15</td>\n",
       "      <td>285</td>\n",
       "    </tr>\n",
       "    <tr>\n",
       "      <th>2</th>\n",
       "      <td>18</td>\n",
       "      <td>43</td>\n",
       "      <td>104</td>\n",
       "      <td>28</td>\n",
       "      <td>15</td>\n",
       "      <td>208</td>\n",
       "    </tr>\n",
       "    <tr>\n",
       "      <th>All</th>\n",
       "      <td>61</td>\n",
       "      <td>262</td>\n",
       "      <td>719</td>\n",
       "      <td>188</td>\n",
       "      <td>62</td>\n",
       "      <td>1292</td>\n",
       "    </tr>\n",
       "  </tbody>\n",
       "</table>\n",
       "</div>"
      ],
      "text/plain": [
       "Predicted  -2   -1    0    1   2   All\n",
       "True                                  \n",
       "-2         18   52  109   26   8   213\n",
       "-1          7   53  139   35  11   245\n",
       "0           9   59  208   52  13   341\n",
       "1           9   55  159   47  15   285\n",
       "2          18   43  104   28  15   208\n",
       "All        61  262  719  188  62  1292"
      ]
     },
     "execution_count": 108,
     "metadata": {},
     "output_type": "execute_result"
    }
   ],
   "source": [
    "pd.crosstab(y_test, clf_kn.predict(X_test), rownames=['True'], colnames=['Predicted'], margins=True)"
   ]
  },
  {
   "cell_type": "code",
   "execution_count": 109,
   "metadata": {},
   "outputs": [
    {
     "data": {
      "text/plain": [
       "1292"
      ]
     },
     "execution_count": 109,
     "metadata": {},
     "output_type": "execute_result"
    }
   ],
   "source": [
    "len(y_test)"
   ]
  },
  {
   "cell_type": "code",
   "execution_count": 111,
   "metadata": {},
   "outputs": [
    {
     "data": {
      "text/plain": [
       "32.585139318885446"
      ]
     },
     "execution_count": 111,
     "metadata": {},
     "output_type": "execute_result"
    }
   ],
   "source": [
    "(213 + 208)*100 / 1292"
   ]
  },
  {
   "cell_type": "code",
   "execution_count": 115,
   "metadata": {},
   "outputs": [
    {
     "data": {
      "image/png": "[encoded data removed]",
      "text/plain": [
       "<Figure size 432x288 with 1 Axes>"
      ]
     },
     "metadata": {},
     "output_type": "display_data"
    }
   ],
   "source": [
    "import matplotlib.pyplot as plt\n",
    "conf = confusion_matrix(y_test, clf_kn.predict(X_test))\n",
    "plt.imshow(conf, cmap='binary', interpolation='None')\n",
    "plt.show()"
   ]
  },
  {
   "cell_type": "code",
   "execution_count": null,
   "metadata": {},
   "outputs": [],
   "source": []
  }
 ],
 "metadata": {
  "kernelspec": {
   "display_name": "Python 3",
   "language": "python",
   "name": "python3"
  },
  "language_info": {
   "codemirror_mode": {
    "name": "ipython",
    "version": 3
   },
   "file_extension": ".py",
   "mimetype": "text/x-python",
   "name": "python",
   "nbconvert_exporter": "python",
   "pygments_lexer": "ipython3",
   "version": "3.6.7"
  }
 },
 "nbformat": 4,
 "nbformat_minor": 2
}
