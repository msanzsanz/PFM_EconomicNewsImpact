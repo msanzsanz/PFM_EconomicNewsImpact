{
 "cells": [
  {
   "cell_type": "markdown",
   "metadata": {},
   "source": [
    "Quick code to join results from different sweeps in just one csv file"
   ]
  },
  {
   "cell_type": "code",
   "execution_count": 1,
   "metadata": {},
   "outputs": [],
   "source": [
    "import pandas as pd\n",
    "import numpy as np\n",
    "import glob, os\n",
    "import ast\n",
    "\n",
    "pd.set_option('display.max_columns', 100)\n",
    "pd.set_option('display.width', 1000)\n"
   ]
  },
  {
   "cell_type": "code",
   "execution_count": 2,
   "metadata": {},
   "outputs": [],
   "source": [
    "# Path containing the csv for each sweep done\n",
    "list_path =['/Users/wola/Documents/MSS/Personales/GitRepos/PFM_EconomicNewsImpact/data/models_results']\n",
    "\n",
    "# We concatenate the results of each sweep in a unique dataframe\n",
    "all_files = [glob.glob(os.path.join(path, 'sweeps_*.csv')) for path in list_path]             \n",
    "df_from_each_file = (pd.read_csv(file) for list_files in all_files for file in list_files )\n",
    "df = pd.concat(df_from_each_file, ignore_index=True)\n"
   ]
  },
  {
   "cell_type": "code",
   "execution_count": 3,
   "metadata": {},
   "outputs": [
    {
     "data": {
      "text/html": [
       "<div>\n",
       "<style scoped>\n",
       "    .dataframe tbody tr th:only-of-type {\n",
       "        vertical-align: middle;\n",
       "    }\n",
       "\n",
       "    .dataframe tbody tr th {\n",
       "        vertical-align: top;\n",
       "    }\n",
       "\n",
       "    .dataframe thead th {\n",
       "        text-align: right;\n",
       "    }\n",
       "</style>\n",
       "<table border=\"1\" class=\"dataframe\">\n",
       "  <thead>\n",
       "    <tr style=\"text-align: right;\">\n",
       "      <th></th>\n",
       "      <th>Unnamed: 0</th>\n",
       "      <th>model_type</th>\n",
       "      <th>model</th>\n",
       "      <th>direction</th>\n",
       "      <th>sweeps_market_variables</th>\n",
       "      <th>sweep_news_agg</th>\n",
       "      <th>sweep_buy_sell</th>\n",
       "      <th>before_data</th>\n",
       "      <th>sweep_grid</th>\n",
       "      <th>best_score</th>\n",
       "      <th>best_params</th>\n",
       "      <th>f1_microavg</th>\n",
       "      <th>precision_weighted</th>\n",
       "      <th>precision_below_TH</th>\n",
       "      <th>recall_below_TH</th>\n",
       "      <th>precision_above_TH</th>\n",
       "      <th>recall_above_TH</th>\n",
       "      <th>support_below_TH</th>\n",
       "      <th>support_above_TH</th>\n",
       "      <th>report</th>\n",
       "      <th>elapsed_time</th>\n",
       "    </tr>\n",
       "  </thead>\n",
       "  <tbody>\n",
       "    <tr>\n",
       "      <th>0</th>\n",
       "      <td>0</td>\n",
       "      <td>clf</td>\n",
       "      <td>kn</td>\n",
       "      <td>max</td>\n",
       "      <td>basic</td>\n",
       "      <td>ALL_NO_1_1_1</td>\n",
       "      <td>0_120</td>\n",
       "      <td>included</td>\n",
       "      <td>basic</td>\n",
       "      <td>0.75</td>\n",
       "      <td>{'n_neighbors': 71}</td>\n",
       "      <td>0.73</td>\n",
       "      <td>0.67</td>\n",
       "      <td>0.73</td>\n",
       "      <td>1.00</td>\n",
       "      <td>0.5</td>\n",
       "      <td>0.00</td>\n",
       "      <td>947.0</td>\n",
       "      <td>345.0</td>\n",
       "      <td>{'0': {'precision': 0.7333333333333333, 'recal...</td>\n",
       "      <td>0.57</td>\n",
       "    </tr>\n",
       "    <tr>\n",
       "      <th>1</th>\n",
       "      <td>1</td>\n",
       "      <td>clf</td>\n",
       "      <td>svc-rbf</td>\n",
       "      <td>max</td>\n",
       "      <td>basic</td>\n",
       "      <td>ALL_NO_1_1_1</td>\n",
       "      <td>0_120</td>\n",
       "      <td>included</td>\n",
       "      <td>basic</td>\n",
       "      <td>0.75</td>\n",
       "      <td>{'C': 1, 'gamma': 1}</td>\n",
       "      <td>0.73</td>\n",
       "      <td>0.54</td>\n",
       "      <td>0.73</td>\n",
       "      <td>1.00</td>\n",
       "      <td>0.0</td>\n",
       "      <td>0.00</td>\n",
       "      <td>947.0</td>\n",
       "      <td>345.0</td>\n",
       "      <td>{'0': {'precision': 0.7329721362229102, 'recal...</td>\n",
       "      <td>7.81</td>\n",
       "    </tr>\n",
       "    <tr>\n",
       "      <th>2</th>\n",
       "      <td>2</td>\n",
       "      <td>clf</td>\n",
       "      <td>dtree</td>\n",
       "      <td>max</td>\n",
       "      <td>basic</td>\n",
       "      <td>ALL_NO_1_1_1</td>\n",
       "      <td>0_120</td>\n",
       "      <td>included</td>\n",
       "      <td>basic</td>\n",
       "      <td>0.75</td>\n",
       "      <td>{'max_depth': 4, 'min_samples_leaf': 250}</td>\n",
       "      <td>0.73</td>\n",
       "      <td>0.68</td>\n",
       "      <td>0.74</td>\n",
       "      <td>0.97</td>\n",
       "      <td>0.5</td>\n",
       "      <td>0.09</td>\n",
       "      <td>947.0</td>\n",
       "      <td>345.0</td>\n",
       "      <td>{'0': {'precision': 0.7443181818181818, 'recal...</td>\n",
       "      <td>0.49</td>\n",
       "    </tr>\n",
       "  </tbody>\n",
       "</table>\n",
       "</div>"
      ],
      "text/plain": [
       "   Unnamed: 0 model_type    model direction sweeps_market_variables sweep_news_agg sweep_buy_sell before_data sweep_grid  best_score                                best_params  f1_microavg  precision_weighted  precision_below_TH  recall_below_TH  precision_above_TH  recall_above_TH  support_below_TH  support_above_TH                                             report  elapsed_time\n",
       "0           0        clf       kn       max                   basic   ALL_NO_1_1_1          0_120    included      basic        0.75                        {'n_neighbors': 71}         0.73                0.67                0.73             1.00                 0.5             0.00             947.0             345.0  {'0': {'precision': 0.7333333333333333, 'recal...          0.57\n",
       "1           1        clf  svc-rbf       max                   basic   ALL_NO_1_1_1          0_120    included      basic        0.75                       {'C': 1, 'gamma': 1}         0.73                0.54                0.73             1.00                 0.0             0.00             947.0             345.0  {'0': {'precision': 0.7329721362229102, 'recal...          7.81\n",
       "2           2        clf    dtree       max                   basic   ALL_NO_1_1_1          0_120    included      basic        0.75  {'max_depth': 4, 'min_samples_leaf': 250}         0.73                0.68                0.74             0.97                 0.5             0.09             947.0             345.0  {'0': {'precision': 0.7443181818181818, 'recal...          0.49"
      ]
     },
     "execution_count": 3,
     "metadata": {},
     "output_type": "execute_result"
    }
   ],
   "source": [
    "df.head(3)"
   ]
  },
  {
   "cell_type": "code",
   "execution_count": 4,
   "metadata": {},
   "outputs": [
    {
     "data": {
      "text/plain": [
       "3192"
      ]
     },
     "execution_count": 4,
     "metadata": {},
     "output_type": "execute_result"
    }
   ],
   "source": [
    "len(df)"
   ]
  },
  {
   "cell_type": "code",
   "execution_count": 5,
   "metadata": {},
   "outputs": [],
   "source": [
    "df.to_csv('/Users/wola/Documents/MSS/Personales/GitRepos/PFM_EconomicNewsImpact/data/models_results/all_sweeps.csv')"
   ]
  },
  {
   "cell_type": "code",
   "execution_count": null,
   "metadata": {},
   "outputs": [],
   "source": []
  },
  {
   "cell_type": "code",
   "execution_count": 52,
   "metadata": {},
   "outputs": [],
   "source": [
    "df_agg = pd.read_csv('./models_out/ALL_YES_3_2_1-basic-included-60_120-basic.csv')"
   ]
  },
  {
   "cell_type": "code",
   "execution_count": 53,
   "metadata": {},
   "outputs": [
    {
     "data": {
      "text/plain": [
       "Index(['Unnamed: 0', 'datetime', 'new_id', 'forecast_error_diff_deviation', 'forecast_error_diff_outlier_class', 'previous_error_diff_deviation', 'previous_error_diff_outlier_class', 'fe_accurate', 'fe_better', 'fe_worse', 'pe_accurate', 'pe_better', 'pe_worse', 'High', 'Low', 'Medium', 'year', 'week', 'weekday', 'num_news', 'volatility_0_5_after', 'pips_agg_0_5_after', 'volatility_5_10_after', 'pips_agg_5_10_after', 'volatility_10_15_after', 'pips_agg_10_15_after', 'volatility_15_20_after', 'pips_agg_15_20_after', 'volatility_20_25_after', 'pips_agg_20_25_after', 'volatility_25_30_after', 'pips_agg_25_30_after', 'volatility_0_30_after', 'pips_agg_0_30_after', 'volatility_0_60_after', 'pips_agg_0_60_after', 'volatility_60_0_before', 'pips_agg_60_0_before', 'pips_agg_0_120_after', 'direction_agg_0_120_after'], dtype='object')"
      ]
     },
     "execution_count": 53,
     "metadata": {},
     "output_type": "execute_result"
    }
   ],
   "source": [
    "df_agg.columns"
   ]
  },
  {
   "cell_type": "code",
   "execution_count": 90,
   "metadata": {},
   "outputs": [],
   "source": [
    "from sklearn.model_selection import train_test_split\n",
    "from sklearn.tree import DecisionTreeClassifier\n",
    "from sklearn.ensemble import RandomForestClassifier\n",
    "from sklearn.ensemble import VotingClassifier\n",
    "from sklearn.model_selection import cross_val_score\n",
    "from sklearn.metrics import classification_report\n",
    "\n",
    "\n",
    "columns_of_model = ['new_id', 'forecast_error_diff_deviation', 'forecast_error_diff_outlier_class', \n",
    "                    'previous_error_diff_deviation', 'previous_error_diff_outlier_class', 'fe_accurate', \n",
    "                    'fe_better', 'fe_worse', 'pe_accurate', 'pe_better', 'pe_worse', 'High', 'Low', 'Medium',\n",
    "                    'year', 'week', 'weekday', 'num_news', 'volatility_0_5_after', 'pips_agg_0_5_after', \n",
    "                    'volatility_5_10_after', 'pips_agg_5_10_after', 'volatility_10_15_after', 'pips_agg_10_15_after', \n",
    "                    'volatility_15_20_after', 'pips_agg_15_20_after', 'volatility_20_25_after', 'pips_agg_20_25_after',\n",
    "                    'volatility_25_30_after', 'pips_agg_25_30_after', 'volatility_0_30_after', 'pips_agg_0_30_after', \n",
    "                    'volatility_0_60_after', 'pips_agg_0_60_after', 'volatility_60_0_before', 'pips_agg_60_0_before']\n",
    "\n",
    "X = df_agg[columns_of_model].values\n",
    "y = df_agg['direction_agg_0_120_after'].values\n",
    "X_train, X_test, y_train, y_test = train_test_split(X, y, test_size=0.2, random_state=42)"
   ]
  },
  {
   "cell_type": "code",
   "execution_count": 91,
   "metadata": {},
   "outputs": [],
   "source": [
    "clf_dt = DecisionTreeClassifier(min_samples_leaf= 10, max_depth= 3)"
   ]
  },
  {
   "cell_type": "code",
   "execution_count": 92,
   "metadata": {},
   "outputs": [],
   "source": [
    "clf_rf = RandomForestClassifier(max_depth= 7, min_samples_leaf= 10, n_estimators= 200)"
   ]
  },
  {
   "cell_type": "code",
   "execution_count": 93,
   "metadata": {},
   "outputs": [],
   "source": [
    "clf_vot = VotingClassifier(estimators=[('dt', clf_dt),('rf', clf_rf)])"
   ]
  },
  {
   "cell_type": "code",
   "execution_count": 94,
   "metadata": {},
   "outputs": [
    {
     "data": {
      "text/plain": [
       "VotingClassifier(estimators=[('dt', DecisionTreeClassifier(class_weight=None, criterion='gini', max_depth=3,\n",
       "            max_features=None, max_leaf_nodes=None,\n",
       "            min_impurity_decrease=0.0, min_impurity_split=None,\n",
       "            min_samples_leaf=10, min_samples_split=2,\n",
       "            min_weight_fraction_leaf=0...obs=None,\n",
       "            oob_score=False, random_state=None, verbose=0,\n",
       "            warm_start=False))],\n",
       "         flatten_transform=None, n_jobs=None, voting='hard', weights=None)"
      ]
     },
     "execution_count": 94,
     "metadata": {},
     "output_type": "execute_result"
    }
   ],
   "source": [
    "clf_vot.fit(X_train, y_train)"
   ]
  },
  {
   "cell_type": "code",
   "execution_count": 95,
   "metadata": {},
   "outputs": [
    {
     "data": {
      "text/plain": [
       "{'0': {'precision': 0.6386138613861386,\n",
       "  'recall': 0.6292682926829268,\n",
       "  'f1-score': 0.6339066339066339,\n",
       "  'support': 205},\n",
       " '1': {'precision': 0.6951219512195121,\n",
       "  'recall': 0.8109756097560976,\n",
       "  'f1-score': 0.74859287054409,\n",
       "  'support': 492},\n",
       " '2': {'precision': 0.7446808510638298,\n",
       "  'recall': 0.4772727272727273,\n",
       "  'f1-score': 0.5817174515235458,\n",
       "  'support': 220},\n",
       " 'micro avg': {'precision': 0.6902944383860414,\n",
       "  'recall': 0.6902944383860414,\n",
       "  'f1-score': 0.6902944383860414,\n",
       "  'support': 917},\n",
       " 'macro avg': {'precision': 0.6928055545564935,\n",
       "  'recall': 0.6391722099039173,\n",
       "  'f1-score': 0.6547389853247566,\n",
       "  'support': 917},\n",
       " 'weighted avg': {'precision': 0.6943790935858244,\n",
       "  'recall': 0.6902944383860414,\n",
       "  'f1-score': 0.682918638597309,\n",
       "  'support': 917}}"
      ]
     },
     "execution_count": 95,
     "metadata": {},
     "output_type": "execute_result"
    }
   ],
   "source": [
    "y_predict = clf_vot.predict(X_test)\n",
    "classification_report(y_test, y_predict, output_dict=True)"
   ]
  },
  {
   "cell_type": "markdown",
   "metadata": {},
   "source": [
    "Ok, this ensembled model is not better than the two individual ones"
   ]
  },
  {
   "cell_type": "code",
   "execution_count": null,
   "metadata": {},
   "outputs": [],
   "source": []
  }
 ],
 "metadata": {
  "kernelspec": {
   "display_name": "Python 3",
   "language": "python",
   "name": "python3"
  },
  "language_info": {
   "codemirror_mode": {
    "name": "ipython",
    "version": 3
   },
   "file_extension": ".py",
   "mimetype": "text/x-python",
   "name": "python",
   "nbconvert_exporter": "python",
   "pygments_lexer": "ipython3",
   "version": "3.6.7"
  }
 },
 "nbformat": 4,
 "nbformat_minor": 2
}
