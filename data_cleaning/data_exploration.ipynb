{
 "cells": [
  {
   "cell_type": "code",
   "execution_count": 80,
   "metadata": {},
   "outputs": [],
   "source": [
    "import pandas as pd"
   ]
  },
  {
   "cell_type": "code",
   "execution_count": 190,
   "metadata": {},
   "outputs": [],
   "source": [
    "df = pd.read_csv('../data/curated/impact_news_USD_pair_EURUSD_2007_2018.csv')"
   ]
  },
  {
   "cell_type": "code",
   "execution_count": 191,
   "metadata": {},
   "outputs": [
    {
     "data": {
      "text/plain": [
       "Index(['actual', 'country', 'datetime', 'forecast', 'forecast_error', 'impact',\n",
       "       'new', 'previous', 'previous_error', 'week', 'datetime_gmt',\n",
       "       'forecast_error_ratio', 'year', 'quarter', 'month', 'day_name',\n",
       "       'open_released', 'high_released', 'low_released', 'close_released',\n",
       "       'high_5', 'low_5', 'close_5', 'volatility_5', 'direction_5',\n",
       "       'pips_agg_5', 'pips_candle_5', 'high_10', 'low_10', 'close_10',\n",
       "       'volatility_10', 'direction_10', 'pips_agg_10', 'pips_candle_10',\n",
       "       'high_15', 'low_15', 'close_15', 'volatility_15', 'direction_15',\n",
       "       'pips_agg_15', 'pips_candle_15', 'high_30', 'low_30', 'close_30',\n",
       "       'volatility_30', 'direction_30', 'pips_agg_30', 'pips_candle_30',\n",
       "       'high_60', 'low_60', 'close_60', 'volatility_60', 'direction_60',\n",
       "       'pips_agg_60', 'pips_candle_60', 'high_90', 'low_90', 'close_90',\n",
       "       'volatility_90', 'direction_90', 'pips_agg_90', 'pips_candle_90',\n",
       "       'high_120', 'low_120', 'close_120', 'volatility_120', 'direction_120',\n",
       "       'pips_agg_120', 'pips_candle_120', 'high_180', 'low_180', 'close_180',\n",
       "       'volatility_180', 'direction_180', 'pips_agg_180', 'pips_candle_180',\n",
       "       'high_240', 'low_240', 'close_240', 'volatility_240', 'direction_240',\n",
       "       'pips_agg_240', 'pips_candle_240', 'previous_value',\n",
       "       'previous_error_ratio', 'total_error_ratio',\n",
       "       'forecast_error_ratio_mean', 'forecast_error_ratio_std',\n",
       "       'forecast_error_ratio_zscore', 'total_error_ratio_mean',\n",
       "       'total_error_ratio_std', 'total_error_ratio_zscore'],\n",
       "      dtype='object')"
      ]
     },
     "execution_count": 191,
     "metadata": {},
     "output_type": "execute_result"
    }
   ],
   "source": [
    "df.columns"
   ]
  },
  {
   "cell_type": "code",
   "execution_count": 206,
   "metadata": {},
   "outputs": [],
   "source": [
    "df_2017 = df[(df['year'] == 2017) & (df['impact'] == 'High')]"
   ]
  },
  {
   "cell_type": "code",
   "execution_count": 207,
   "metadata": {},
   "outputs": [],
   "source": [
    "columns_of_interest = [ 'datetime', 'new', 'impact', 'forecast_error_ratio_zscore', 'total_error_ratio_zscore', 'pips_agg_30', 'pips_agg_60']\n",
    "df_2017_reduced = df_2017[columns_of_interest]"
   ]
  },
  {
   "cell_type": "code",
   "execution_count": 208,
   "metadata": {},
   "outputs": [
    {
     "data": {
      "text/plain": [
       "296"
      ]
     },
     "execution_count": 208,
     "metadata": {},
     "output_type": "execute_result"
    }
   ],
   "source": [
    "len(df_2017_reduced)"
   ]
  },
  {
   "cell_type": "code",
   "execution_count": 209,
   "metadata": {},
   "outputs": [
    {
     "name": "stderr",
     "output_type": "stream",
     "text": [
      "/anaconda3/lib/python3.6/site-packages/ipykernel_launcher.py:4: SettingWithCopyWarning: \n",
      "A value is trying to be set on a copy of a slice from a DataFrame.\n",
      "Try using .loc[row_indexer,col_indexer] = value instead\n",
      "\n",
      "See the caveats in the documentation: http://pandas.pydata.org/pandas-docs/stable/indexing.html#indexing-view-versus-copy\n",
      "  after removing the cwd from sys.path.\n",
      "/anaconda3/lib/python3.6/site-packages/ipykernel_launcher.py:5: SettingWithCopyWarning: \n",
      "A value is trying to be set on a copy of a slice from a DataFrame.\n",
      "Try using .loc[row_indexer,col_indexer] = value instead\n",
      "\n",
      "See the caveats in the documentation: http://pandas.pydata.org/pandas-docs/stable/indexing.html#indexing-view-versus-copy\n",
      "  \"\"\"\n"
     ]
    },
    {
     "data": {
      "text/html": [
       "<div>\n",
       "<style scoped>\n",
       "    .dataframe tbody tr th:only-of-type {\n",
       "        vertical-align: middle;\n",
       "    }\n",
       "\n",
       "    .dataframe tbody tr th {\n",
       "        vertical-align: top;\n",
       "    }\n",
       "\n",
       "    .dataframe thead th {\n",
       "        text-align: right;\n",
       "    }\n",
       "</style>\n",
       "<table border=\"1\" class=\"dataframe\">\n",
       "  <thead>\n",
       "    <tr style=\"text-align: right;\">\n",
       "      <th></th>\n",
       "      <th>datetime</th>\n",
       "      <th>new</th>\n",
       "      <th>impact</th>\n",
       "      <th>forecast_error_ratio_zscore</th>\n",
       "      <th>total_error_ratio_zscore</th>\n",
       "      <th>pips_agg_30</th>\n",
       "      <th>pips_agg_60</th>\n",
       "      <th>new_id</th>\n",
       "    </tr>\n",
       "  </thead>\n",
       "  <tbody>\n",
       "    <tr>\n",
       "      <th>1089</th>\n",
       "      <td>2017-01-05 11:00:00</td>\n",
       "      <td>Crude Oil Inventories</td>\n",
       "      <td>High</td>\n",
       "      <td>1.377972</td>\n",
       "      <td>1.377972</td>\n",
       "      <td>13</td>\n",
       "      <td>3</td>\n",
       "      <td>9</td>\n",
       "    </tr>\n",
       "    <tr>\n",
       "      <th>1090</th>\n",
       "      <td>2017-01-11 10:30:00</td>\n",
       "      <td>Crude Oil Inventories</td>\n",
       "      <td>High</td>\n",
       "      <td>-1.145583</td>\n",
       "      <td>-1.145583</td>\n",
       "      <td>18</td>\n",
       "      <td>47</td>\n",
       "      <td>9</td>\n",
       "    </tr>\n",
       "    <tr>\n",
       "      <th>1091</th>\n",
       "      <td>2017-01-19 11:00:00</td>\n",
       "      <td>Crude Oil Inventories</td>\n",
       "      <td>High</td>\n",
       "      <td>-1.732701</td>\n",
       "      <td>-1.732701</td>\n",
       "      <td>21</td>\n",
       "      <td>20</td>\n",
       "      <td>9</td>\n",
       "    </tr>\n",
       "    <tr>\n",
       "      <th>1092</th>\n",
       "      <td>2017-01-25 10:30:00</td>\n",
       "      <td>Crude Oil Inventories</td>\n",
       "      <td>High</td>\n",
       "      <td>0.420723</td>\n",
       "      <td>0.420723</td>\n",
       "      <td>2</td>\n",
       "      <td>9</td>\n",
       "      <td>9</td>\n",
       "    </tr>\n",
       "    <tr>\n",
       "      <th>1093</th>\n",
       "      <td>2017-02-01 10:30:00</td>\n",
       "      <td>Crude Oil Inventories</td>\n",
       "      <td>High</td>\n",
       "      <td>0.356983</td>\n",
       "      <td>0.356983</td>\n",
       "      <td>18</td>\n",
       "      <td>12</td>\n",
       "      <td>9</td>\n",
       "    </tr>\n",
       "  </tbody>\n",
       "</table>\n",
       "</div>"
      ],
      "text/plain": [
       "                 datetime                    new impact  \\\n",
       "1089  2017-01-05 11:00:00  Crude Oil Inventories   High   \n",
       "1090  2017-01-11 10:30:00  Crude Oil Inventories   High   \n",
       "1091  2017-01-19 11:00:00  Crude Oil Inventories   High   \n",
       "1092  2017-01-25 10:30:00  Crude Oil Inventories   High   \n",
       "1093  2017-02-01 10:30:00  Crude Oil Inventories   High   \n",
       "\n",
       "      forecast_error_ratio_zscore  total_error_ratio_zscore  pips_agg_30  \\\n",
       "1089                     1.377972                  1.377972           13   \n",
       "1090                    -1.145583                 -1.145583           18   \n",
       "1091                    -1.732701                 -1.732701           21   \n",
       "1092                     0.420723                  0.420723            2   \n",
       "1093                     0.356983                  0.356983           18   \n",
       "\n",
       "      pips_agg_60 new_id  \n",
       "1089            3      9  \n",
       "1090           47      9  \n",
       "1091           20      9  \n",
       "1092            9      9  \n",
       "1093           12      9  "
      ]
     },
     "execution_count": 209,
     "metadata": {},
     "output_type": "execute_result"
    }
   ],
   "source": [
    "from sklearn.preprocessing import LabelEncoder\n",
    "\n",
    "lb_make = LabelEncoder()\n",
    "df_2017_reduced['new_id'] = lb_make.fit_transform(df_2017_reduced['new'])\n",
    "df_2017_reduced['new_id'] = df_2017_reduced['new_id'].astype(str)\n",
    "df_2017_reduced.head() "
   ]
  },
  {
   "cell_type": "code",
   "execution_count": 210,
   "metadata": {},
   "outputs": [
    {
     "data": {
      "text/html": [
       "<div>\n",
       "<style scoped>\n",
       "    .dataframe tbody tr th:only-of-type {\n",
       "        vertical-align: middle;\n",
       "    }\n",
       "\n",
       "    .dataframe tbody tr th {\n",
       "        vertical-align: top;\n",
       "    }\n",
       "\n",
       "    .dataframe thead th {\n",
       "        text-align: right;\n",
       "    }\n",
       "</style>\n",
       "<table border=\"1\" class=\"dataframe\">\n",
       "  <thead>\n",
       "    <tr style=\"text-align: right;\">\n",
       "      <th></th>\n",
       "      <th>datetime</th>\n",
       "      <th>new_id</th>\n",
       "      <th>impact</th>\n",
       "      <th>forecast_error_ratio_zscore</th>\n",
       "      <th>total_error_ratio_zscore</th>\n",
       "    </tr>\n",
       "  </thead>\n",
       "  <tbody>\n",
       "    <tr>\n",
       "      <th>0</th>\n",
       "      <td>2017-01-03 10:00:00</td>\n",
       "      <td>[12]</td>\n",
       "      <td>[High]</td>\n",
       "      <td>[0.5446512101847892]</td>\n",
       "      <td>[0.5446512101847892]</td>\n",
       "    </tr>\n",
       "    <tr>\n",
       "      <th>1</th>\n",
       "      <td>2017-01-05 08:15:00</td>\n",
       "      <td>[0]</td>\n",
       "      <td>[High]</td>\n",
       "      <td>[-0.584571575480636]</td>\n",
       "      <td>[-1.167665126438868]</td>\n",
       "    </tr>\n",
       "    <tr>\n",
       "      <th>2</th>\n",
       "      <td>2017-01-05 08:30:00</td>\n",
       "      <td>[20]</td>\n",
       "      <td>[High]</td>\n",
       "      <td>[1.336276880201799]</td>\n",
       "      <td>[1.3740476150525236]</td>\n",
       "    </tr>\n",
       "    <tr>\n",
       "      <th>3</th>\n",
       "      <td>2017-01-05 10:00:00</td>\n",
       "      <td>[13]</td>\n",
       "      <td>[High]</td>\n",
       "      <td>[0.1058103444144838]</td>\n",
       "      <td>[0.10581034441448378]</td>\n",
       "    </tr>\n",
       "    <tr>\n",
       "      <th>4</th>\n",
       "      <td>2017-01-05 11:00:00</td>\n",
       "      <td>[9]</td>\n",
       "      <td>[High]</td>\n",
       "      <td>[1.377972006912418]</td>\n",
       "      <td>[1.377972006912418]</td>\n",
       "    </tr>\n",
       "  </tbody>\n",
       "</table>\n",
       "</div>"
      ],
      "text/plain": [
       "              datetime new_id  impact forecast_error_ratio_zscore  \\\n",
       "0  2017-01-03 10:00:00   [12]  [High]        [0.5446512101847892]   \n",
       "1  2017-01-05 08:15:00    [0]  [High]        [-0.584571575480636]   \n",
       "2  2017-01-05 08:30:00   [20]  [High]         [1.336276880201799]   \n",
       "3  2017-01-05 10:00:00   [13]  [High]        [0.1058103444144838]   \n",
       "4  2017-01-05 11:00:00    [9]  [High]         [1.377972006912418]   \n",
       "\n",
       "  total_error_ratio_zscore  \n",
       "0     [0.5446512101847892]  \n",
       "1     [-1.167665126438868]  \n",
       "2     [1.3740476150525236]  \n",
       "3    [0.10581034441448378]  \n",
       "4      [1.377972006912418]  "
      ]
     },
     "execution_count": 210,
     "metadata": {},
     "output_type": "execute_result"
    }
   ],
   "source": [
    "df_2017_by_publication = df_2017_reduced.groupby('datetime').agg({'new_id': lambda x:list(x), \\\n",
    "                                                                  'impact': lambda x:list(x), \\\n",
    "                                                                  'forecast_error_ratio_zscore': lambda x:list(x),\\\n",
    "                                                                  'total_error_ratio_zscore': lambda x:list(x)}).reset_index()\n",
    "df_2017_by_publication['new_id'] = df_2017_by_publication['new_id'].apply(lambda x: ['_'.join(x)])\n",
    "df_2017_by_publication.head(5)"
   ]
  },
  {
   "cell_type": "code",
   "execution_count": 211,
   "metadata": {},
   "outputs": [
    {
     "data": {
      "text/plain": [
       "218"
      ]
     },
     "execution_count": 211,
     "metadata": {},
     "output_type": "execute_result"
    }
   ],
   "source": [
    "len(df_2017_by_publication)"
   ]
  },
  {
   "cell_type": "code",
   "execution_count": 212,
   "metadata": {},
   "outputs": [
    {
     "data": {
      "text/html": [
       "<div>\n",
       "<style scoped>\n",
       "    .dataframe tbody tr th:only-of-type {\n",
       "        vertical-align: middle;\n",
       "    }\n",
       "\n",
       "    .dataframe tbody tr th {\n",
       "        vertical-align: top;\n",
       "    }\n",
       "\n",
       "    .dataframe thead th {\n",
       "        text-align: right;\n",
       "    }\n",
       "</style>\n",
       "<table border=\"1\" class=\"dataframe\">\n",
       "  <thead>\n",
       "    <tr style=\"text-align: right;\">\n",
       "      <th></th>\n",
       "      <th>datetime</th>\n",
       "      <th>new_id</th>\n",
       "      <th>impact</th>\n",
       "      <th>forecast_error_ratio_zscore</th>\n",
       "      <th>total_error_ratio_zscore</th>\n",
       "    </tr>\n",
       "  </thead>\n",
       "  <tbody>\n",
       "    <tr>\n",
       "      <th>0</th>\n",
       "      <td>2017-01-03 10:00:00</td>\n",
       "      <td>12</td>\n",
       "      <td>[High]</td>\n",
       "      <td>0.544651</td>\n",
       "      <td>0.544651</td>\n",
       "    </tr>\n",
       "    <tr>\n",
       "      <th>1</th>\n",
       "      <td>2017-01-05 08:15:00</td>\n",
       "      <td>0</td>\n",
       "      <td>[High]</td>\n",
       "      <td>-0.584572</td>\n",
       "      <td>-1.167665</td>\n",
       "    </tr>\n",
       "    <tr>\n",
       "      <th>2</th>\n",
       "      <td>2017-01-05 08:30:00</td>\n",
       "      <td>20</td>\n",
       "      <td>[High]</td>\n",
       "      <td>1.336277</td>\n",
       "      <td>1.374048</td>\n",
       "    </tr>\n",
       "    <tr>\n",
       "      <th>3</th>\n",
       "      <td>2017-01-05 10:00:00</td>\n",
       "      <td>13</td>\n",
       "      <td>[High]</td>\n",
       "      <td>0.105810</td>\n",
       "      <td>0.105810</td>\n",
       "    </tr>\n",
       "    <tr>\n",
       "      <th>4</th>\n",
       "      <td>2017-01-05 11:00:00</td>\n",
       "      <td>9</td>\n",
       "      <td>[High]</td>\n",
       "      <td>1.377972</td>\n",
       "      <td>1.377972</td>\n",
       "    </tr>\n",
       "  </tbody>\n",
       "</table>\n",
       "</div>"
      ],
      "text/plain": [
       "              datetime new_id  impact  forecast_error_ratio_zscore  \\\n",
       "0  2017-01-03 10:00:00     12  [High]                     0.544651   \n",
       "1  2017-01-05 08:15:00      0  [High]                    -0.584572   \n",
       "2  2017-01-05 08:30:00     20  [High]                     1.336277   \n",
       "3  2017-01-05 10:00:00     13  [High]                     0.105810   \n",
       "4  2017-01-05 11:00:00      9  [High]                     1.377972   \n",
       "\n",
       "   total_error_ratio_zscore  \n",
       "0                  0.544651  \n",
       "1                 -1.167665  \n",
       "2                  1.374048  \n",
       "3                  0.105810  \n",
       "4                  1.377972  "
      ]
     },
     "execution_count": 212,
     "metadata": {},
     "output_type": "execute_result"
    }
   ],
   "source": [
    "df_2017_by_publication['new_id'] = df_2017_by_publication['new_id'].apply(lambda x: x[0])\n",
    "df_2017_by_publication['forecast_error_ratio_zscore'] = df_2017_by_publication['forecast_error_ratio_zscore'].apply(lambda x: sum(x))\n",
    "df_2017_by_publication['total_error_ratio_zscore'] = df_2017_by_publication['total_error_ratio_zscore'].apply(lambda x: sum(x))\n",
    "df_2017_by_publication.head(5)"
   ]
  },
  {
   "cell_type": "code",
   "execution_count": 213,
   "metadata": {},
   "outputs": [],
   "source": [
    "df_2017_by_publication['num_news'] = df_2017_by_publication['impact'].apply(lambda x: len(x))\n",
    "df_2017_by_publication_single = df_2017_by_publication[df_2017_by_publication['num_news'] == 1]"
   ]
  },
  {
   "cell_type": "code",
   "execution_count": 214,
   "metadata": {},
   "outputs": [
    {
     "data": {
      "text/html": [
       "<div>\n",
       "<style scoped>\n",
       "    .dataframe tbody tr th:only-of-type {\n",
       "        vertical-align: middle;\n",
       "    }\n",
       "\n",
       "    .dataframe tbody tr th {\n",
       "        vertical-align: top;\n",
       "    }\n",
       "\n",
       "    .dataframe thead th {\n",
       "        text-align: right;\n",
       "    }\n",
       "</style>\n",
       "<table border=\"1\" class=\"dataframe\">\n",
       "  <thead>\n",
       "    <tr style=\"text-align: right;\">\n",
       "      <th></th>\n",
       "      <th>datetime</th>\n",
       "      <th>new_id</th>\n",
       "      <th>impact</th>\n",
       "      <th>forecast_error_ratio_zscore</th>\n",
       "      <th>total_error_ratio_zscore</th>\n",
       "      <th>num_news</th>\n",
       "    </tr>\n",
       "  </thead>\n",
       "  <tbody>\n",
       "    <tr>\n",
       "      <th>0</th>\n",
       "      <td>2017-01-03 10:00:00</td>\n",
       "      <td>12</td>\n",
       "      <td>[High]</td>\n",
       "      <td>0.544651</td>\n",
       "      <td>0.544651</td>\n",
       "      <td>1</td>\n",
       "    </tr>\n",
       "    <tr>\n",
       "      <th>1</th>\n",
       "      <td>2017-01-05 08:15:00</td>\n",
       "      <td>0</td>\n",
       "      <td>[High]</td>\n",
       "      <td>-0.584572</td>\n",
       "      <td>-1.167665</td>\n",
       "      <td>1</td>\n",
       "    </tr>\n",
       "    <tr>\n",
       "      <th>2</th>\n",
       "      <td>2017-01-05 08:30:00</td>\n",
       "      <td>20</td>\n",
       "      <td>[High]</td>\n",
       "      <td>1.336277</td>\n",
       "      <td>1.374048</td>\n",
       "      <td>1</td>\n",
       "    </tr>\n",
       "    <tr>\n",
       "      <th>3</th>\n",
       "      <td>2017-01-05 10:00:00</td>\n",
       "      <td>13</td>\n",
       "      <td>[High]</td>\n",
       "      <td>0.105810</td>\n",
       "      <td>0.105810</td>\n",
       "      <td>1</td>\n",
       "    </tr>\n",
       "    <tr>\n",
       "      <th>4</th>\n",
       "      <td>2017-01-05 11:00:00</td>\n",
       "      <td>9</td>\n",
       "      <td>[High]</td>\n",
       "      <td>1.377972</td>\n",
       "      <td>1.377972</td>\n",
       "      <td>1</td>\n",
       "    </tr>\n",
       "  </tbody>\n",
       "</table>\n",
       "</div>"
      ],
      "text/plain": [
       "              datetime new_id  impact  forecast_error_ratio_zscore  \\\n",
       "0  2017-01-03 10:00:00     12  [High]                     0.544651   \n",
       "1  2017-01-05 08:15:00      0  [High]                    -0.584572   \n",
       "2  2017-01-05 08:30:00     20  [High]                     1.336277   \n",
       "3  2017-01-05 10:00:00     13  [High]                     0.105810   \n",
       "4  2017-01-05 11:00:00      9  [High]                     1.377972   \n",
       "\n",
       "   total_error_ratio_zscore  num_news  \n",
       "0                  0.544651         1  \n",
       "1                 -1.167665         1  \n",
       "2                  1.374048         1  \n",
       "3                  0.105810         1  \n",
       "4                  1.377972         1  "
      ]
     },
     "execution_count": 214,
     "metadata": {},
     "output_type": "execute_result"
    }
   ],
   "source": [
    "df_2017_by_publication_single.head(5)"
   ]
  },
  {
   "cell_type": "code",
   "execution_count": 215,
   "metadata": {},
   "outputs": [
    {
     "data": {
      "text/plain": [
       "173"
      ]
     },
     "execution_count": 215,
     "metadata": {},
     "output_type": "execute_result"
    }
   ],
   "source": [
    "len(df_2017_by_publication_single)"
   ]
  },
  {
   "cell_type": "code",
   "execution_count": 216,
   "metadata": {},
   "outputs": [
    {
     "data": {
      "text/plain": [
       "218"
      ]
     },
     "execution_count": 216,
     "metadata": {},
     "output_type": "execute_result"
    }
   ],
   "source": [
    "len(df_2017_by_publication)"
   ]
  },
  {
   "cell_type": "code",
   "execution_count": 225,
   "metadata": {},
   "outputs": [
    {
     "ename": "KeyError",
     "evalue": "\"labels ['new_id' 'new' 'impact' 'forecast_error_ratio_zscore'\\n 'total_error_ratio_zscore'] not contained in axis\"",
     "output_type": "error",
     "traceback": [
      "\u001b[0;31m---------------------------------------------------------------------------\u001b[0m",
      "\u001b[0;31mKeyError\u001b[0m                                  Traceback (most recent call last)",
      "\u001b[0;32m<ipython-input-225-44f236a59261>\u001b[0m in \u001b[0;36m<module>\u001b[0;34m()\u001b[0m\n\u001b[0;32m----> 1\u001b[0;31m \u001b[0mdf_2017_reduced\u001b[0m \u001b[0;34m=\u001b[0m \u001b[0mdf_2017_reduced\u001b[0m\u001b[0;34m.\u001b[0m\u001b[0mdrop\u001b[0m\u001b[0;34m(\u001b[0m\u001b[0;34m[\u001b[0m\u001b[0;34m'new_id'\u001b[0m\u001b[0;34m,\u001b[0m\u001b[0;34m'new'\u001b[0m\u001b[0;34m,\u001b[0m  \u001b[0;34m'impact'\u001b[0m\u001b[0;34m,\u001b[0m \u001b[0;34m'forecast_error_ratio_zscore'\u001b[0m\u001b[0;34m,\u001b[0m \u001b[0;34m'total_error_ratio_zscore'\u001b[0m\u001b[0;34m]\u001b[0m\u001b[0;34m,\u001b[0m \u001b[0maxis\u001b[0m\u001b[0;34m=\u001b[0m\u001b[0;36m1\u001b[0m\u001b[0;34m)\u001b[0m\u001b[0;34m\u001b[0m\u001b[0m\n\u001b[0m\u001b[1;32m      2\u001b[0m \u001b[0mdf_2017_reduced\u001b[0m\u001b[0;34m.\u001b[0m\u001b[0mhead\u001b[0m\u001b[0;34m(\u001b[0m\u001b[0;36m2\u001b[0m\u001b[0;34m)\u001b[0m\u001b[0;34m\u001b[0m\u001b[0m\n",
      "\u001b[0;32m/anaconda3/lib/python3.6/site-packages/pandas/core/frame.py\u001b[0m in \u001b[0;36mdrop\u001b[0;34m(self, labels, axis, index, columns, level, inplace, errors)\u001b[0m\n\u001b[1;32m   3692\u001b[0m                                            \u001b[0mindex\u001b[0m\u001b[0;34m=\u001b[0m\u001b[0mindex\u001b[0m\u001b[0;34m,\u001b[0m \u001b[0mcolumns\u001b[0m\u001b[0;34m=\u001b[0m\u001b[0mcolumns\u001b[0m\u001b[0;34m,\u001b[0m\u001b[0;34m\u001b[0m\u001b[0m\n\u001b[1;32m   3693\u001b[0m                                            \u001b[0mlevel\u001b[0m\u001b[0;34m=\u001b[0m\u001b[0mlevel\u001b[0m\u001b[0;34m,\u001b[0m \u001b[0minplace\u001b[0m\u001b[0;34m=\u001b[0m\u001b[0minplace\u001b[0m\u001b[0;34m,\u001b[0m\u001b[0;34m\u001b[0m\u001b[0m\n\u001b[0;32m-> 3694\u001b[0;31m                                            errors=errors)\n\u001b[0m\u001b[1;32m   3695\u001b[0m \u001b[0;34m\u001b[0m\u001b[0m\n\u001b[1;32m   3696\u001b[0m     @rewrite_axis_style_signature('mapper', [('copy', True),\n",
      "\u001b[0;32m/anaconda3/lib/python3.6/site-packages/pandas/core/generic.py\u001b[0m in \u001b[0;36mdrop\u001b[0;34m(self, labels, axis, index, columns, level, inplace, errors)\u001b[0m\n\u001b[1;32m   3106\u001b[0m         \u001b[0;32mfor\u001b[0m \u001b[0maxis\u001b[0m\u001b[0;34m,\u001b[0m \u001b[0mlabels\u001b[0m \u001b[0;32min\u001b[0m \u001b[0maxes\u001b[0m\u001b[0;34m.\u001b[0m\u001b[0mitems\u001b[0m\u001b[0;34m(\u001b[0m\u001b[0;34m)\u001b[0m\u001b[0;34m:\u001b[0m\u001b[0;34m\u001b[0m\u001b[0m\n\u001b[1;32m   3107\u001b[0m             \u001b[0;32mif\u001b[0m \u001b[0mlabels\u001b[0m \u001b[0;32mis\u001b[0m \u001b[0;32mnot\u001b[0m \u001b[0;32mNone\u001b[0m\u001b[0;34m:\u001b[0m\u001b[0;34m\u001b[0m\u001b[0m\n\u001b[0;32m-> 3108\u001b[0;31m                 \u001b[0mobj\u001b[0m \u001b[0;34m=\u001b[0m \u001b[0mobj\u001b[0m\u001b[0;34m.\u001b[0m\u001b[0m_drop_axis\u001b[0m\u001b[0;34m(\u001b[0m\u001b[0mlabels\u001b[0m\u001b[0;34m,\u001b[0m \u001b[0maxis\u001b[0m\u001b[0;34m,\u001b[0m \u001b[0mlevel\u001b[0m\u001b[0;34m=\u001b[0m\u001b[0mlevel\u001b[0m\u001b[0;34m,\u001b[0m \u001b[0merrors\u001b[0m\u001b[0;34m=\u001b[0m\u001b[0merrors\u001b[0m\u001b[0;34m)\u001b[0m\u001b[0;34m\u001b[0m\u001b[0m\n\u001b[0m\u001b[1;32m   3109\u001b[0m \u001b[0;34m\u001b[0m\u001b[0m\n\u001b[1;32m   3110\u001b[0m         \u001b[0;32mif\u001b[0m \u001b[0minplace\u001b[0m\u001b[0;34m:\u001b[0m\u001b[0;34m\u001b[0m\u001b[0m\n",
      "\u001b[0;32m/anaconda3/lib/python3.6/site-packages/pandas/core/generic.py\u001b[0m in \u001b[0;36m_drop_axis\u001b[0;34m(self, labels, axis, level, errors)\u001b[0m\n\u001b[1;32m   3138\u001b[0m                 \u001b[0mnew_axis\u001b[0m \u001b[0;34m=\u001b[0m \u001b[0maxis\u001b[0m\u001b[0;34m.\u001b[0m\u001b[0mdrop\u001b[0m\u001b[0;34m(\u001b[0m\u001b[0mlabels\u001b[0m\u001b[0;34m,\u001b[0m \u001b[0mlevel\u001b[0m\u001b[0;34m=\u001b[0m\u001b[0mlevel\u001b[0m\u001b[0;34m,\u001b[0m \u001b[0merrors\u001b[0m\u001b[0;34m=\u001b[0m\u001b[0merrors\u001b[0m\u001b[0;34m)\u001b[0m\u001b[0;34m\u001b[0m\u001b[0m\n\u001b[1;32m   3139\u001b[0m             \u001b[0;32melse\u001b[0m\u001b[0;34m:\u001b[0m\u001b[0;34m\u001b[0m\u001b[0m\n\u001b[0;32m-> 3140\u001b[0;31m                 \u001b[0mnew_axis\u001b[0m \u001b[0;34m=\u001b[0m \u001b[0maxis\u001b[0m\u001b[0;34m.\u001b[0m\u001b[0mdrop\u001b[0m\u001b[0;34m(\u001b[0m\u001b[0mlabels\u001b[0m\u001b[0;34m,\u001b[0m \u001b[0merrors\u001b[0m\u001b[0;34m=\u001b[0m\u001b[0merrors\u001b[0m\u001b[0;34m)\u001b[0m\u001b[0;34m\u001b[0m\u001b[0m\n\u001b[0m\u001b[1;32m   3141\u001b[0m             \u001b[0mdropped\u001b[0m \u001b[0;34m=\u001b[0m \u001b[0mself\u001b[0m\u001b[0;34m.\u001b[0m\u001b[0mreindex\u001b[0m\u001b[0;34m(\u001b[0m\u001b[0;34m**\u001b[0m\u001b[0;34m{\u001b[0m\u001b[0maxis_name\u001b[0m\u001b[0;34m:\u001b[0m \u001b[0mnew_axis\u001b[0m\u001b[0;34m}\u001b[0m\u001b[0;34m)\u001b[0m\u001b[0;34m\u001b[0m\u001b[0m\n\u001b[1;32m   3142\u001b[0m             \u001b[0;32mtry\u001b[0m\u001b[0;34m:\u001b[0m\u001b[0;34m\u001b[0m\u001b[0m\n",
      "\u001b[0;32m/anaconda3/lib/python3.6/site-packages/pandas/core/indexes/base.py\u001b[0m in \u001b[0;36mdrop\u001b[0;34m(self, labels, errors)\u001b[0m\n\u001b[1;32m   4385\u001b[0m             \u001b[0;32mif\u001b[0m \u001b[0merrors\u001b[0m \u001b[0;34m!=\u001b[0m \u001b[0;34m'ignore'\u001b[0m\u001b[0;34m:\u001b[0m\u001b[0;34m\u001b[0m\u001b[0m\n\u001b[1;32m   4386\u001b[0m                 raise KeyError(\n\u001b[0;32m-> 4387\u001b[0;31m                     'labels %s not contained in axis' % labels[mask])\n\u001b[0m\u001b[1;32m   4388\u001b[0m             \u001b[0mindexer\u001b[0m \u001b[0;34m=\u001b[0m \u001b[0mindexer\u001b[0m\u001b[0;34m[\u001b[0m\u001b[0;34m~\u001b[0m\u001b[0mmask\u001b[0m\u001b[0;34m]\u001b[0m\u001b[0;34m\u001b[0m\u001b[0m\n\u001b[1;32m   4389\u001b[0m         \u001b[0;32mreturn\u001b[0m \u001b[0mself\u001b[0m\u001b[0;34m.\u001b[0m\u001b[0mdelete\u001b[0m\u001b[0;34m(\u001b[0m\u001b[0mindexer\u001b[0m\u001b[0;34m)\u001b[0m\u001b[0;34m\u001b[0m\u001b[0m\n",
      "\u001b[0;31mKeyError\u001b[0m: \"labels ['new_id' 'new' 'impact' 'forecast_error_ratio_zscore'\\n 'total_error_ratio_zscore'] not contained in axis\""
     ]
    }
   ],
   "source": [
    "df_2017_reduced = df_2017_reduced.drop(['new_id','new',  'impact', 'forecast_error_ratio_zscore', 'total_error_ratio_zscore'], axis=1)\n",
    "df_2017_reduced.head(2)"
   ]
  },
  {
   "cell_type": "code",
   "execution_count": 222,
   "metadata": {},
   "outputs": [
    {
     "data": {
      "text/plain": [
       "296"
      ]
     },
     "execution_count": 222,
     "metadata": {},
     "output_type": "execute_result"
    }
   ],
   "source": [
    "len(df_2017_reduced)"
   ]
  },
  {
   "cell_type": "code",
   "execution_count": 223,
   "metadata": {},
   "outputs": [],
   "source": [
    "df_2017_reduced = df_2017_reduced.drop_duplicates()"
   ]
  },
  {
   "cell_type": "code",
   "execution_count": 226,
   "metadata": {},
   "outputs": [
    {
     "data": {
      "text/plain": [
       "218"
      ]
     },
     "execution_count": 226,
     "metadata": {},
     "output_type": "execute_result"
    }
   ],
   "source": [
    "len(df_2017_reduced)"
   ]
  },
  {
   "cell_type": "code",
   "execution_count": 227,
   "metadata": {},
   "outputs": [
    {
     "data": {
      "text/html": [
       "<div>\n",
       "<style scoped>\n",
       "    .dataframe tbody tr th:only-of-type {\n",
       "        vertical-align: middle;\n",
       "    }\n",
       "\n",
       "    .dataframe tbody tr th {\n",
       "        vertical-align: top;\n",
       "    }\n",
       "\n",
       "    .dataframe thead th {\n",
       "        text-align: right;\n",
       "    }\n",
       "</style>\n",
       "<table border=\"1\" class=\"dataframe\">\n",
       "  <thead>\n",
       "    <tr style=\"text-align: right;\">\n",
       "      <th></th>\n",
       "      <th>datetime</th>\n",
       "      <th>new_id</th>\n",
       "      <th>impact</th>\n",
       "      <th>forecast_error_ratio_zscore</th>\n",
       "      <th>total_error_ratio_zscore</th>\n",
       "      <th>num_news</th>\n",
       "      <th>pips_agg_30</th>\n",
       "      <th>pips_agg_60</th>\n",
       "    </tr>\n",
       "  </thead>\n",
       "  <tbody>\n",
       "    <tr>\n",
       "      <th>0</th>\n",
       "      <td>2017-01-03 10:00:00</td>\n",
       "      <td>12</td>\n",
       "      <td>[High]</td>\n",
       "      <td>0.544651</td>\n",
       "      <td>0.544651</td>\n",
       "      <td>1</td>\n",
       "      <td>26</td>\n",
       "      <td>5</td>\n",
       "    </tr>\n",
       "    <tr>\n",
       "      <th>1</th>\n",
       "      <td>2017-01-05 08:15:00</td>\n",
       "      <td>0</td>\n",
       "      <td>[High]</td>\n",
       "      <td>-0.584572</td>\n",
       "      <td>-1.167665</td>\n",
       "      <td>1</td>\n",
       "      <td>40</td>\n",
       "      <td>36</td>\n",
       "    </tr>\n",
       "    <tr>\n",
       "      <th>2</th>\n",
       "      <td>2017-01-05 08:30:00</td>\n",
       "      <td>20</td>\n",
       "      <td>[High]</td>\n",
       "      <td>1.336277</td>\n",
       "      <td>1.374048</td>\n",
       "      <td>1</td>\n",
       "      <td>13</td>\n",
       "      <td>19</td>\n",
       "    </tr>\n",
       "    <tr>\n",
       "      <th>3</th>\n",
       "      <td>2017-01-05 10:00:00</td>\n",
       "      <td>13</td>\n",
       "      <td>[High]</td>\n",
       "      <td>0.105810</td>\n",
       "      <td>0.105810</td>\n",
       "      <td>1</td>\n",
       "      <td>23</td>\n",
       "      <td>57</td>\n",
       "    </tr>\n",
       "  </tbody>\n",
       "</table>\n",
       "</div>"
      ],
      "text/plain": [
       "              datetime new_id  impact  forecast_error_ratio_zscore  \\\n",
       "0  2017-01-03 10:00:00     12  [High]                     0.544651   \n",
       "1  2017-01-05 08:15:00      0  [High]                    -0.584572   \n",
       "2  2017-01-05 08:30:00     20  [High]                     1.336277   \n",
       "3  2017-01-05 10:00:00     13  [High]                     0.105810   \n",
       "\n",
       "   total_error_ratio_zscore  num_news  pips_agg_30  pips_agg_60  \n",
       "0                  0.544651         1           26            5  \n",
       "1                 -1.167665         1           40           36  \n",
       "2                  1.374048         1           13           19  \n",
       "3                  0.105810         1           23           57  "
      ]
     },
     "execution_count": 227,
     "metadata": {},
     "output_type": "execute_result"
    }
   ],
   "source": [
    "df_2017_by_publication = df_2017_by_publication.merge(df_2017_reduced, on='datetime', how= 'left')\n",
    "\n",
    "df_2017_by_publication.head(4)"
   ]
  },
  {
   "cell_type": "code",
   "execution_count": 228,
   "metadata": {},
   "outputs": [
    {
     "data": {
      "text/plain": [
       "218"
      ]
     },
     "execution_count": 228,
     "metadata": {},
     "output_type": "execute_result"
    }
   ],
   "source": [
    "len(df_2017_by_publication)"
   ]
  },
  {
   "cell_type": "code",
   "execution_count": 229,
   "metadata": {},
   "outputs": [],
   "source": [
    "df_2017_by_publication.to_csv('../data/curated/groupednews_USD_pair_EURUSD_2007.csv')"
   ]
  },
  {
   "cell_type": "code",
   "execution_count": null,
   "metadata": {},
   "outputs": [],
   "source": []
  }
 ],
 "metadata": {
  "kernelspec": {
   "display_name": "Python 3",
   "language": "python",
   "name": "python3"
  },
  "language_info": {
   "codemirror_mode": {
    "name": "ipython",
    "version": 3
   },
   "file_extension": ".py",
   "mimetype": "text/x-python",
   "name": "python",
   "nbconvert_exporter": "python",
   "pygments_lexer": "ipython3",
   "version": "3.6.5"
  }
 },
 "nbformat": 4,
 "nbformat_minor": 2
}
